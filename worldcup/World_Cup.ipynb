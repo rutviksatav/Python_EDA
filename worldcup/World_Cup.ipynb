{
 "cells": [
  {
   "cell_type": "code",
   "execution_count": 1,
   "id": "432973f6",
   "metadata": {},
   "outputs": [],
   "source": [
    "import pandas as pd\n",
    "import numpy as np\n",
    "import matplotlib.pyplot as plt\n",
    "import seaborn as sns"
   ]
  },
  {
   "cell_type": "code",
   "execution_count": 2,
   "id": "750848fc",
   "metadata": {},
   "outputs": [
    {
     "data": {
      "text/html": [
       "<div>\n",
       "<style scoped>\n",
       "    .dataframe tbody tr th:only-of-type {\n",
       "        vertical-align: middle;\n",
       "    }\n",
       "\n",
       "    .dataframe tbody tr th {\n",
       "        vertical-align: top;\n",
       "    }\n",
       "\n",
       "    .dataframe thead th {\n",
       "        text-align: right;\n",
       "    }\n",
       "</style>\n",
       "<table border=\"1\" class=\"dataframe\">\n",
       "  <thead>\n",
       "    <tr style=\"text-align: right;\">\n",
       "      <th></th>\n",
       "      <th>Year</th>\n",
       "      <th>Country</th>\n",
       "      <th>Winner</th>\n",
       "      <th>Runners-Up</th>\n",
       "      <th>Third</th>\n",
       "      <th>Fourth</th>\n",
       "      <th>GoalsScored</th>\n",
       "      <th>QualifiedTeams</th>\n",
       "      <th>MatchesPlayed</th>\n",
       "      <th>Attendance</th>\n",
       "    </tr>\n",
       "  </thead>\n",
       "  <tbody>\n",
       "    <tr>\n",
       "      <th>0</th>\n",
       "      <td>1930</td>\n",
       "      <td>Uruguay</td>\n",
       "      <td>Uruguay</td>\n",
       "      <td>Argentina</td>\n",
       "      <td>USA</td>\n",
       "      <td>Yugoslavia</td>\n",
       "      <td>70</td>\n",
       "      <td>13</td>\n",
       "      <td>18</td>\n",
       "      <td>590.549</td>\n",
       "    </tr>\n",
       "    <tr>\n",
       "      <th>1</th>\n",
       "      <td>1934</td>\n",
       "      <td>Italy</td>\n",
       "      <td>Italy</td>\n",
       "      <td>Czechoslovakia</td>\n",
       "      <td>Germany</td>\n",
       "      <td>Austria</td>\n",
       "      <td>70</td>\n",
       "      <td>16</td>\n",
       "      <td>17</td>\n",
       "      <td>363.000</td>\n",
       "    </tr>\n",
       "    <tr>\n",
       "      <th>2</th>\n",
       "      <td>1938</td>\n",
       "      <td>France</td>\n",
       "      <td>Italy</td>\n",
       "      <td>Hungary</td>\n",
       "      <td>Brazil</td>\n",
       "      <td>Sweden</td>\n",
       "      <td>84</td>\n",
       "      <td>15</td>\n",
       "      <td>18</td>\n",
       "      <td>375.700</td>\n",
       "    </tr>\n",
       "    <tr>\n",
       "      <th>3</th>\n",
       "      <td>1950</td>\n",
       "      <td>Brazil</td>\n",
       "      <td>Uruguay</td>\n",
       "      <td>Brazil</td>\n",
       "      <td>Sweden</td>\n",
       "      <td>Spain</td>\n",
       "      <td>88</td>\n",
       "      <td>13</td>\n",
       "      <td>22</td>\n",
       "      <td>1.045.246</td>\n",
       "    </tr>\n",
       "    <tr>\n",
       "      <th>4</th>\n",
       "      <td>1954</td>\n",
       "      <td>Switzerland</td>\n",
       "      <td>Germany FR</td>\n",
       "      <td>Hungary</td>\n",
       "      <td>Austria</td>\n",
       "      <td>Uruguay</td>\n",
       "      <td>140</td>\n",
       "      <td>16</td>\n",
       "      <td>26</td>\n",
       "      <td>768.607</td>\n",
       "    </tr>\n",
       "  </tbody>\n",
       "</table>\n",
       "</div>"
      ],
      "text/plain": [
       "   Year      Country      Winner      Runners-Up    Third      Fourth  \\\n",
       "0  1930      Uruguay     Uruguay       Argentina      USA  Yugoslavia   \n",
       "1  1934        Italy       Italy  Czechoslovakia  Germany     Austria   \n",
       "2  1938       France       Italy         Hungary   Brazil      Sweden   \n",
       "3  1950       Brazil     Uruguay          Brazil   Sweden       Spain   \n",
       "4  1954  Switzerland  Germany FR         Hungary  Austria     Uruguay   \n",
       "\n",
       "   GoalsScored  QualifiedTeams  MatchesPlayed Attendance  \n",
       "0           70              13             18    590.549  \n",
       "1           70              16             17    363.000  \n",
       "2           84              15             18    375.700  \n",
       "3           88              13             22  1.045.246  \n",
       "4          140              16             26    768.607  "
      ]
     },
     "execution_count": 2,
     "metadata": {},
     "output_type": "execute_result"
    }
   ],
   "source": [
    "worldcups_df = pd.read_csv('WorldCups.csv')\n",
    "worldcups_df.head()"
   ]
  },
  {
   "cell_type": "code",
   "execution_count": 3,
   "id": "44e862ca",
   "metadata": {},
   "outputs": [],
   "source": [
    "# '''\n",
    "# Year-Year of the worldcup\n",
    "# Country-Country of the worldcup\n",
    "# Winner-Team who won the worldcup\n",
    "# Runners-Up-Team who was the second place\n",
    "# Third-Team who was the third place\n",
    "# Fourth-Team who was the fourth place\n",
    "# GoalsScored-Total goals scored in the worldcup\n",
    "# QualifiedTeams-Total participating teams\n",
    "# MatchesPlayed-Total matches played in the cup\n",
    "# Attendance-Total attendance of the worldcup\n",
    "# '''"
   ]
  },
  {
   "cell_type": "code",
   "execution_count": 4,
   "id": "65e0222d",
   "metadata": {},
   "outputs": [
    {
     "data": {
      "text/html": [
       "<div>\n",
       "<style scoped>\n",
       "    .dataframe tbody tr th:only-of-type {\n",
       "        vertical-align: middle;\n",
       "    }\n",
       "\n",
       "    .dataframe tbody tr th {\n",
       "        vertical-align: top;\n",
       "    }\n",
       "\n",
       "    .dataframe thead th {\n",
       "        text-align: right;\n",
       "    }\n",
       "</style>\n",
       "<table border=\"1\" class=\"dataframe\">\n",
       "  <thead>\n",
       "    <tr style=\"text-align: right;\">\n",
       "      <th></th>\n",
       "      <th>Year</th>\n",
       "      <th>Datetime</th>\n",
       "      <th>Stage</th>\n",
       "      <th>Stadium</th>\n",
       "      <th>City</th>\n",
       "      <th>Home Team Name</th>\n",
       "      <th>Home Team Goals</th>\n",
       "      <th>Away Team Goals</th>\n",
       "      <th>Away Team Name</th>\n",
       "      <th>Win conditions</th>\n",
       "      <th>Attendance</th>\n",
       "      <th>Half-time Home Goals</th>\n",
       "      <th>Half-time Away Goals</th>\n",
       "      <th>Referee</th>\n",
       "      <th>Assistant 1</th>\n",
       "      <th>Assistant 2</th>\n",
       "      <th>RoundID</th>\n",
       "      <th>MatchID</th>\n",
       "      <th>Home Team Initials</th>\n",
       "      <th>Away Team Initials</th>\n",
       "    </tr>\n",
       "  </thead>\n",
       "  <tbody>\n",
       "    <tr>\n",
       "      <th>0</th>\n",
       "      <td>1930.0</td>\n",
       "      <td>13 Jul 1930 - 15:00</td>\n",
       "      <td>Group 1</td>\n",
       "      <td>Pocitos</td>\n",
       "      <td>Montevideo</td>\n",
       "      <td>France</td>\n",
       "      <td>4.0</td>\n",
       "      <td>1.0</td>\n",
       "      <td>Mexico</td>\n",
       "      <td></td>\n",
       "      <td>4444.0</td>\n",
       "      <td>3.0</td>\n",
       "      <td>0.0</td>\n",
       "      <td>LOMBARDI Domingo (URU)</td>\n",
       "      <td>CRISTOPHE Henry (BEL)</td>\n",
       "      <td>REGO Gilberto (BRA)</td>\n",
       "      <td>201.0</td>\n",
       "      <td>1096.0</td>\n",
       "      <td>FRA</td>\n",
       "      <td>MEX</td>\n",
       "    </tr>\n",
       "    <tr>\n",
       "      <th>1</th>\n",
       "      <td>1930.0</td>\n",
       "      <td>13 Jul 1930 - 15:00</td>\n",
       "      <td>Group 4</td>\n",
       "      <td>Parque Central</td>\n",
       "      <td>Montevideo</td>\n",
       "      <td>USA</td>\n",
       "      <td>3.0</td>\n",
       "      <td>0.0</td>\n",
       "      <td>Belgium</td>\n",
       "      <td></td>\n",
       "      <td>18346.0</td>\n",
       "      <td>2.0</td>\n",
       "      <td>0.0</td>\n",
       "      <td>MACIAS Jose (ARG)</td>\n",
       "      <td>MATEUCCI Francisco (URU)</td>\n",
       "      <td>WARNKEN Alberto (CHI)</td>\n",
       "      <td>201.0</td>\n",
       "      <td>1090.0</td>\n",
       "      <td>USA</td>\n",
       "      <td>BEL</td>\n",
       "    </tr>\n",
       "    <tr>\n",
       "      <th>2</th>\n",
       "      <td>1930.0</td>\n",
       "      <td>14 Jul 1930 - 12:45</td>\n",
       "      <td>Group 2</td>\n",
       "      <td>Parque Central</td>\n",
       "      <td>Montevideo</td>\n",
       "      <td>Yugoslavia</td>\n",
       "      <td>2.0</td>\n",
       "      <td>1.0</td>\n",
       "      <td>Brazil</td>\n",
       "      <td></td>\n",
       "      <td>24059.0</td>\n",
       "      <td>2.0</td>\n",
       "      <td>0.0</td>\n",
       "      <td>TEJADA Anibal (URU)</td>\n",
       "      <td>VALLARINO Ricardo (URU)</td>\n",
       "      <td>BALWAY Thomas (FRA)</td>\n",
       "      <td>201.0</td>\n",
       "      <td>1093.0</td>\n",
       "      <td>YUG</td>\n",
       "      <td>BRA</td>\n",
       "    </tr>\n",
       "    <tr>\n",
       "      <th>3</th>\n",
       "      <td>1930.0</td>\n",
       "      <td>14 Jul 1930 - 14:50</td>\n",
       "      <td>Group 3</td>\n",
       "      <td>Pocitos</td>\n",
       "      <td>Montevideo</td>\n",
       "      <td>Romania</td>\n",
       "      <td>3.0</td>\n",
       "      <td>1.0</td>\n",
       "      <td>Peru</td>\n",
       "      <td></td>\n",
       "      <td>2549.0</td>\n",
       "      <td>1.0</td>\n",
       "      <td>0.0</td>\n",
       "      <td>WARNKEN Alberto (CHI)</td>\n",
       "      <td>LANGENUS Jean (BEL)</td>\n",
       "      <td>MATEUCCI Francisco (URU)</td>\n",
       "      <td>201.0</td>\n",
       "      <td>1098.0</td>\n",
       "      <td>ROU</td>\n",
       "      <td>PER</td>\n",
       "    </tr>\n",
       "    <tr>\n",
       "      <th>4</th>\n",
       "      <td>1930.0</td>\n",
       "      <td>15 Jul 1930 - 16:00</td>\n",
       "      <td>Group 1</td>\n",
       "      <td>Parque Central</td>\n",
       "      <td>Montevideo</td>\n",
       "      <td>Argentina</td>\n",
       "      <td>1.0</td>\n",
       "      <td>0.0</td>\n",
       "      <td>France</td>\n",
       "      <td></td>\n",
       "      <td>23409.0</td>\n",
       "      <td>0.0</td>\n",
       "      <td>0.0</td>\n",
       "      <td>REGO Gilberto (BRA)</td>\n",
       "      <td>SAUCEDO Ulises (BOL)</td>\n",
       "      <td>RADULESCU Constantin (ROU)</td>\n",
       "      <td>201.0</td>\n",
       "      <td>1085.0</td>\n",
       "      <td>ARG</td>\n",
       "      <td>FRA</td>\n",
       "    </tr>\n",
       "  </tbody>\n",
       "</table>\n",
       "</div>"
      ],
      "text/plain": [
       "     Year              Datetime    Stage         Stadium         City  \\\n",
       "0  1930.0  13 Jul 1930 - 15:00   Group 1         Pocitos  Montevideo    \n",
       "1  1930.0  13 Jul 1930 - 15:00   Group 4  Parque Central  Montevideo    \n",
       "2  1930.0  14 Jul 1930 - 12:45   Group 2  Parque Central  Montevideo    \n",
       "3  1930.0  14 Jul 1930 - 14:50   Group 3         Pocitos  Montevideo    \n",
       "4  1930.0  15 Jul 1930 - 16:00   Group 1  Parque Central  Montevideo    \n",
       "\n",
       "  Home Team Name  Home Team Goals  Away Team Goals Away Team Name  \\\n",
       "0         France              4.0              1.0         Mexico   \n",
       "1            USA              3.0              0.0        Belgium   \n",
       "2     Yugoslavia              2.0              1.0         Brazil   \n",
       "3        Romania              3.0              1.0           Peru   \n",
       "4      Argentina              1.0              0.0         France   \n",
       "\n",
       "  Win conditions  Attendance  Half-time Home Goals  Half-time Away Goals  \\\n",
       "0                     4444.0                   3.0                   0.0   \n",
       "1                    18346.0                   2.0                   0.0   \n",
       "2                    24059.0                   2.0                   0.0   \n",
       "3                     2549.0                   1.0                   0.0   \n",
       "4                    23409.0                   0.0                   0.0   \n",
       "\n",
       "                  Referee               Assistant 1  \\\n",
       "0  LOMBARDI Domingo (URU)     CRISTOPHE Henry (BEL)   \n",
       "1       MACIAS Jose (ARG)  MATEUCCI Francisco (URU)   \n",
       "2     TEJADA Anibal (URU)   VALLARINO Ricardo (URU)   \n",
       "3   WARNKEN Alberto (CHI)       LANGENUS Jean (BEL)   \n",
       "4     REGO Gilberto (BRA)      SAUCEDO Ulises (BOL)   \n",
       "\n",
       "                  Assistant 2  RoundID  MatchID Home Team Initials  \\\n",
       "0         REGO Gilberto (BRA)    201.0   1096.0                FRA   \n",
       "1       WARNKEN Alberto (CHI)    201.0   1090.0                USA   \n",
       "2         BALWAY Thomas (FRA)    201.0   1093.0                YUG   \n",
       "3    MATEUCCI Francisco (URU)    201.0   1098.0                ROU   \n",
       "4  RADULESCU Constantin (ROU)    201.0   1085.0                ARG   \n",
       "\n",
       "  Away Team Initials  \n",
       "0                MEX  \n",
       "1                BEL  \n",
       "2                BRA  \n",
       "3                PER  \n",
       "4                FRA  "
      ]
     },
     "execution_count": 4,
     "metadata": {},
     "output_type": "execute_result"
    }
   ],
   "source": [
    "worldcup_matches_df = pd.read_csv('WorldCupMatches.csv')\n",
    "worldcup_matches_df.head()"
   ]
  },
  {
   "cell_type": "code",
   "execution_count": 5,
   "id": "6abbf583",
   "metadata": {},
   "outputs": [
    {
     "data": {
      "text/plain": [
       "\"\\nYear- The year in which the match was played.\\nDatetime- The Date on which the match was played along with a 24 hour format time.\\nStage- The stage at which the match was played.\\nStadium-Stadium name where the match was held.\\nCity-The city name, where the match was played\\nHome team country name-Home team country name\\nHome Team Goals-Total goals scored by the home team by the end of the match\\nAway Team Goals- Total goals scored by the away team by the end of the match\\nAway Team Name-Away team country name\\nWin conditions-Special win condition (if any)\\nAttendence- Total crowd present at the satdium\\nHalf-time Home Goals-Goals scored by the home team until half time\\nHalf-time Away Goals-Goals scored by the away team until half time\\nReferee-Name of the first refree\\nAssistant 1-Name of the first assistant referee (linesman)\\nAssistant 2-Name of the second assistant referee (linesman)\\nRoundID-Unique ID of the Round\\nMatchID-Unique ID of the match\\nHome Team Initials-Home team country's three letter initials\\nAway Team Initials-Away team country's three letter initials\\n\""
      ]
     },
     "execution_count": 5,
     "metadata": {},
     "output_type": "execute_result"
    }
   ],
   "source": [
    "'''\n",
    "Year- The year in which the match was played.\n",
    "Datetime- The Date on which the match was played along with a 24 hour format time.\n",
    "Stage- The stage at which the match was played.\n",
    "Stadium-Stadium name where the match was held.\n",
    "City-The city name, where the match was played\n",
    "Home team country name-Home team country name\n",
    "Home Team Goals-Total goals scored by the home team by the end of the match\n",
    "Away Team Goals- Total goals scored by the away team by the end of the match\n",
    "Away Team Name-Away team country name\n",
    "Win conditions-Special win condition (if any)\n",
    "Attendence- Total crowd present at the satdium\n",
    "Half-time Home Goals-Goals scored by the home team until half time\n",
    "Half-time Away Goals-Goals scored by the away team until half time\n",
    "Referee-Name of the first refree\n",
    "Assistant 1-Name of the first assistant referee (linesman)\n",
    "Assistant 2-Name of the second assistant referee (linesman)\n",
    "RoundID-Unique ID of the Round\n",
    "MatchID-Unique ID of the match\n",
    "Home Team Initials-Home team country's three letter initials\n",
    "Away Team Initials-Away team country's three letter initials\n",
    "'''"
   ]
  },
  {
   "cell_type": "code",
   "execution_count": 6,
   "id": "0eeaab8d",
   "metadata": {},
   "outputs": [
    {
     "data": {
      "text/html": [
       "<div>\n",
       "<style scoped>\n",
       "    .dataframe tbody tr th:only-of-type {\n",
       "        vertical-align: middle;\n",
       "    }\n",
       "\n",
       "    .dataframe tbody tr th {\n",
       "        vertical-align: top;\n",
       "    }\n",
       "\n",
       "    .dataframe thead th {\n",
       "        text-align: right;\n",
       "    }\n",
       "</style>\n",
       "<table border=\"1\" class=\"dataframe\">\n",
       "  <thead>\n",
       "    <tr style=\"text-align: right;\">\n",
       "      <th></th>\n",
       "      <th>RoundID</th>\n",
       "      <th>MatchID</th>\n",
       "      <th>Team Initials</th>\n",
       "      <th>Coach Name</th>\n",
       "      <th>Line-up</th>\n",
       "      <th>Shirt Number</th>\n",
       "      <th>Player Name</th>\n",
       "      <th>Position</th>\n",
       "      <th>Event</th>\n",
       "    </tr>\n",
       "  </thead>\n",
       "  <tbody>\n",
       "    <tr>\n",
       "      <th>0</th>\n",
       "      <td>201</td>\n",
       "      <td>1096</td>\n",
       "      <td>FRA</td>\n",
       "      <td>CAUDRON Raoul (FRA)</td>\n",
       "      <td>S</td>\n",
       "      <td>0</td>\n",
       "      <td>Alex THEPOT</td>\n",
       "      <td>GK</td>\n",
       "      <td>NaN</td>\n",
       "    </tr>\n",
       "    <tr>\n",
       "      <th>1</th>\n",
       "      <td>201</td>\n",
       "      <td>1096</td>\n",
       "      <td>MEX</td>\n",
       "      <td>LUQUE Juan (MEX)</td>\n",
       "      <td>S</td>\n",
       "      <td>0</td>\n",
       "      <td>Oscar BONFIGLIO</td>\n",
       "      <td>GK</td>\n",
       "      <td>NaN</td>\n",
       "    </tr>\n",
       "    <tr>\n",
       "      <th>2</th>\n",
       "      <td>201</td>\n",
       "      <td>1096</td>\n",
       "      <td>FRA</td>\n",
       "      <td>CAUDRON Raoul (FRA)</td>\n",
       "      <td>S</td>\n",
       "      <td>0</td>\n",
       "      <td>Marcel LANGILLER</td>\n",
       "      <td>NaN</td>\n",
       "      <td>G40'</td>\n",
       "    </tr>\n",
       "    <tr>\n",
       "      <th>3</th>\n",
       "      <td>201</td>\n",
       "      <td>1096</td>\n",
       "      <td>MEX</td>\n",
       "      <td>LUQUE Juan (MEX)</td>\n",
       "      <td>S</td>\n",
       "      <td>0</td>\n",
       "      <td>Juan CARRENO</td>\n",
       "      <td>NaN</td>\n",
       "      <td>G70'</td>\n",
       "    </tr>\n",
       "    <tr>\n",
       "      <th>4</th>\n",
       "      <td>201</td>\n",
       "      <td>1096</td>\n",
       "      <td>FRA</td>\n",
       "      <td>CAUDRON Raoul (FRA)</td>\n",
       "      <td>S</td>\n",
       "      <td>0</td>\n",
       "      <td>Ernest LIBERATI</td>\n",
       "      <td>NaN</td>\n",
       "      <td>NaN</td>\n",
       "    </tr>\n",
       "  </tbody>\n",
       "</table>\n",
       "</div>"
      ],
      "text/plain": [
       "   RoundID  MatchID Team Initials           Coach Name Line-up  Shirt Number  \\\n",
       "0      201     1096           FRA  CAUDRON Raoul (FRA)       S             0   \n",
       "1      201     1096           MEX     LUQUE Juan (MEX)       S             0   \n",
       "2      201     1096           FRA  CAUDRON Raoul (FRA)       S             0   \n",
       "3      201     1096           MEX     LUQUE Juan (MEX)       S             0   \n",
       "4      201     1096           FRA  CAUDRON Raoul (FRA)       S             0   \n",
       "\n",
       "        Player Name Position Event  \n",
       "0       Alex THEPOT       GK   NaN  \n",
       "1   Oscar BONFIGLIO       GK   NaN  \n",
       "2  Marcel LANGILLER      NaN  G40'  \n",
       "3      Juan CARRENO      NaN  G70'  \n",
       "4   Ernest LIBERATI      NaN   NaN  "
      ]
     },
     "execution_count": 6,
     "metadata": {},
     "output_type": "execute_result"
    }
   ],
   "source": [
    "worldcup_players_df = pd.read_csv('WorldCupPlayers.csv')\n",
    "worldcup_players_df.head()"
   ]
  },
  {
   "cell_type": "code",
   "execution_count": 7,
   "id": "d8306bad",
   "metadata": {},
   "outputs": [],
   "source": [
    "# '''\n",
    "# RoundID\n",
    "# Unique ID of the round\n",
    "# MatchID\n",
    "# Unique ID of the match\n",
    "# Team Initials\n",
    "# Player's team initials\n",
    "# Coach Name\n",
    "# Name and country of the team coach\n",
    "# Line-up\n",
    "# S=Line-up, N=Substitute\n",
    "# Shirt Number\n",
    "# Shirt number if available\n",
    "# Player Name\n",
    "# Name of the player\n",
    "# Position\n",
    "# C=Captain, GK=Goalkeeper\n",
    "# Event\n",
    "# G=Goal, OG=Own Goal, Y=Yellow Card, R=Red Card, SY = Red Card by second yellow, P=Penalty, MP=Missed Penalty\n",
    "# '''"
   ]
  },
  {
   "cell_type": "code",
   "execution_count": 8,
   "id": "5b570b79",
   "metadata": {},
   "outputs": [],
   "source": [
    "#Let's see our worldcup matches dataset"
   ]
  },
  {
   "cell_type": "code",
   "execution_count": 9,
   "id": "77b1f036",
   "metadata": {},
   "outputs": [
    {
     "data": {
      "text/html": [
       "<div>\n",
       "<style scoped>\n",
       "    .dataframe tbody tr th:only-of-type {\n",
       "        vertical-align: middle;\n",
       "    }\n",
       "\n",
       "    .dataframe tbody tr th {\n",
       "        vertical-align: top;\n",
       "    }\n",
       "\n",
       "    .dataframe thead th {\n",
       "        text-align: right;\n",
       "    }\n",
       "</style>\n",
       "<table border=\"1\" class=\"dataframe\">\n",
       "  <thead>\n",
       "    <tr style=\"text-align: right;\">\n",
       "      <th></th>\n",
       "      <th>Year</th>\n",
       "      <th>Datetime</th>\n",
       "      <th>Stage</th>\n",
       "      <th>Stadium</th>\n",
       "      <th>City</th>\n",
       "      <th>Home Team Name</th>\n",
       "      <th>Home Team Goals</th>\n",
       "      <th>Away Team Goals</th>\n",
       "      <th>Away Team Name</th>\n",
       "      <th>Win conditions</th>\n",
       "      <th>Attendance</th>\n",
       "      <th>Half-time Home Goals</th>\n",
       "      <th>Half-time Away Goals</th>\n",
       "      <th>Referee</th>\n",
       "      <th>Assistant 1</th>\n",
       "      <th>Assistant 2</th>\n",
       "      <th>RoundID</th>\n",
       "      <th>MatchID</th>\n",
       "      <th>Home Team Initials</th>\n",
       "      <th>Away Team Initials</th>\n",
       "    </tr>\n",
       "  </thead>\n",
       "  <tbody>\n",
       "    <tr>\n",
       "      <th>0</th>\n",
       "      <td>1930.0</td>\n",
       "      <td>13 Jul 1930 - 15:00</td>\n",
       "      <td>Group 1</td>\n",
       "      <td>Pocitos</td>\n",
       "      <td>Montevideo</td>\n",
       "      <td>France</td>\n",
       "      <td>4.0</td>\n",
       "      <td>1.0</td>\n",
       "      <td>Mexico</td>\n",
       "      <td></td>\n",
       "      <td>4444.0</td>\n",
       "      <td>3.0</td>\n",
       "      <td>0.0</td>\n",
       "      <td>LOMBARDI Domingo (URU)</td>\n",
       "      <td>CRISTOPHE Henry (BEL)</td>\n",
       "      <td>REGO Gilberto (BRA)</td>\n",
       "      <td>201.0</td>\n",
       "      <td>1096.0</td>\n",
       "      <td>FRA</td>\n",
       "      <td>MEX</td>\n",
       "    </tr>\n",
       "    <tr>\n",
       "      <th>1</th>\n",
       "      <td>1930.0</td>\n",
       "      <td>13 Jul 1930 - 15:00</td>\n",
       "      <td>Group 4</td>\n",
       "      <td>Parque Central</td>\n",
       "      <td>Montevideo</td>\n",
       "      <td>USA</td>\n",
       "      <td>3.0</td>\n",
       "      <td>0.0</td>\n",
       "      <td>Belgium</td>\n",
       "      <td></td>\n",
       "      <td>18346.0</td>\n",
       "      <td>2.0</td>\n",
       "      <td>0.0</td>\n",
       "      <td>MACIAS Jose (ARG)</td>\n",
       "      <td>MATEUCCI Francisco (URU)</td>\n",
       "      <td>WARNKEN Alberto (CHI)</td>\n",
       "      <td>201.0</td>\n",
       "      <td>1090.0</td>\n",
       "      <td>USA</td>\n",
       "      <td>BEL</td>\n",
       "    </tr>\n",
       "  </tbody>\n",
       "</table>\n",
       "</div>"
      ],
      "text/plain": [
       "     Year              Datetime    Stage         Stadium         City  \\\n",
       "0  1930.0  13 Jul 1930 - 15:00   Group 1         Pocitos  Montevideo    \n",
       "1  1930.0  13 Jul 1930 - 15:00   Group 4  Parque Central  Montevideo    \n",
       "\n",
       "  Home Team Name  Home Team Goals  Away Team Goals Away Team Name  \\\n",
       "0         France              4.0              1.0         Mexico   \n",
       "1            USA              3.0              0.0        Belgium   \n",
       "\n",
       "  Win conditions  Attendance  Half-time Home Goals  Half-time Away Goals  \\\n",
       "0                     4444.0                   3.0                   0.0   \n",
       "1                    18346.0                   2.0                   0.0   \n",
       "\n",
       "                  Referee               Assistant 1            Assistant 2  \\\n",
       "0  LOMBARDI Domingo (URU)     CRISTOPHE Henry (BEL)    REGO Gilberto (BRA)   \n",
       "1       MACIAS Jose (ARG)  MATEUCCI Francisco (URU)  WARNKEN Alberto (CHI)   \n",
       "\n",
       "   RoundID  MatchID Home Team Initials Away Team Initials  \n",
       "0    201.0   1096.0                FRA                MEX  \n",
       "1    201.0   1090.0                USA                BEL  "
      ]
     },
     "execution_count": 9,
     "metadata": {},
     "output_type": "execute_result"
    }
   ],
   "source": [
    "\n",
    "worldcup_matches_df.head(2)"
   ]
  },
  {
   "cell_type": "code",
   "execution_count": 10,
   "id": "c91585a1",
   "metadata": {},
   "outputs": [
    {
     "data": {
      "text/plain": [
       "(4572, 20)"
      ]
     },
     "execution_count": 10,
     "metadata": {},
     "output_type": "execute_result"
    }
   ],
   "source": [
    "#Le's see the shape of the dataset\n",
    "worldcup_matches_df.shape"
   ]
  },
  {
   "cell_type": "code",
   "execution_count": 11,
   "id": "52318f67",
   "metadata": {},
   "outputs": [
    {
     "name": "stdout",
     "output_type": "stream",
     "text": [
      "<class 'pandas.core.frame.DataFrame'>\n",
      "RangeIndex: 4572 entries, 0 to 4571\n",
      "Data columns (total 20 columns):\n",
      " #   Column                Non-Null Count  Dtype  \n",
      "---  ------                --------------  -----  \n",
      " 0   Year                  852 non-null    float64\n",
      " 1   Datetime              852 non-null    object \n",
      " 2   Stage                 852 non-null    object \n",
      " 3   Stadium               852 non-null    object \n",
      " 4   City                  852 non-null    object \n",
      " 5   Home Team Name        852 non-null    object \n",
      " 6   Home Team Goals       852 non-null    float64\n",
      " 7   Away Team Goals       852 non-null    float64\n",
      " 8   Away Team Name        852 non-null    object \n",
      " 9   Win conditions        852 non-null    object \n",
      " 10  Attendance            850 non-null    float64\n",
      " 11  Half-time Home Goals  852 non-null    float64\n",
      " 12  Half-time Away Goals  852 non-null    float64\n",
      " 13  Referee               852 non-null    object \n",
      " 14  Assistant 1           852 non-null    object \n",
      " 15  Assistant 2           852 non-null    object \n",
      " 16  RoundID               852 non-null    float64\n",
      " 17  MatchID               852 non-null    float64\n",
      " 18  Home Team Initials    852 non-null    object \n",
      " 19  Away Team Initials    852 non-null    object \n",
      "dtypes: float64(8), object(12)\n",
      "memory usage: 714.5+ KB\n"
     ]
    }
   ],
   "source": [
    "#Let's take some information from  the dataset\n",
    "worldcup_matches_df.info()"
   ]
  },
  {
   "cell_type": "code",
   "execution_count": 12,
   "id": "64971d3c",
   "metadata": {},
   "outputs": [
    {
     "data": {
      "text/plain": [
       "Index(['Year', 'Datetime', 'Stage', 'Stadium', 'City', 'Home Team Name',\n",
       "       'Home Team Goals', 'Away Team Goals', 'Away Team Name',\n",
       "       'Win conditions', 'Attendance', 'Half-time Home Goals',\n",
       "       'Half-time Away Goals', 'Referee', 'Assistant 1', 'Assistant 2',\n",
       "       'RoundID', 'MatchID', 'Home Team Initials', 'Away Team Initials'],\n",
       "      dtype='object')"
      ]
     },
     "execution_count": 12,
     "metadata": {},
     "output_type": "execute_result"
    }
   ],
   "source": [
    "#Let's see the columns\n",
    "worldcup_matches_df.columns"
   ]
  },
  {
   "cell_type": "code",
   "execution_count": 13,
   "id": "09d64af3",
   "metadata": {},
   "outputs": [],
   "source": [
    "numerics = ['int16', 'int32', 'int64', 'float16', 'float32', 'float64']\n",
    "Numeric_Columns= worldcup_matches_df.select_dtypes(include=numerics)\n",
    "Catagorical_Columns = worldcup_matches_df.select_dtypes(include=['object'])"
   ]
  },
  {
   "cell_type": "code",
   "execution_count": 14,
   "id": "24b2031e",
   "metadata": {
    "scrolled": true
   },
   "outputs": [
    {
     "name": "stdout",
     "output_type": "stream",
     "text": [
      "Catagorical Columns\n",
      "Index(['Datetime', 'Stage', 'Stadium', 'City', 'Home Team Name',\n",
      "       'Away Team Name', 'Win conditions', 'Referee', 'Assistant 1',\n",
      "       'Assistant 2', 'Home Team Initials', 'Away Team Initials'],\n",
      "      dtype='object')\n",
      "--------------------------\n",
      "Numeric Columns\n",
      "Index(['Year', 'Home Team Goals', 'Away Team Goals', 'Attendance',\n",
      "       'Half-time Home Goals', 'Half-time Away Goals', 'RoundID', 'MatchID'],\n",
      "      dtype='object')\n"
     ]
    }
   ],
   "source": [
    "#Numeric and catagorical data columns\n",
    "print('Catagorical Columns')\n",
    "print(Catagorical_Columns.columns)\n",
    "print('--------------------------')\n",
    "print('Numeric Columns')\n",
    "print(Numeric_Columns.columns)"
   ]
  },
  {
   "cell_type": "code",
   "execution_count": 15,
   "id": "3061b7ce",
   "metadata": {},
   "outputs": [
    {
     "data": {
      "text/html": [
       "<div>\n",
       "<style scoped>\n",
       "    .dataframe tbody tr th:only-of-type {\n",
       "        vertical-align: middle;\n",
       "    }\n",
       "\n",
       "    .dataframe tbody tr th {\n",
       "        vertical-align: top;\n",
       "    }\n",
       "\n",
       "    .dataframe thead th {\n",
       "        text-align: right;\n",
       "    }\n",
       "</style>\n",
       "<table border=\"1\" class=\"dataframe\">\n",
       "  <thead>\n",
       "    <tr style=\"text-align: right;\">\n",
       "      <th></th>\n",
       "      <th>Year</th>\n",
       "      <th>Home Team Goals</th>\n",
       "      <th>Away Team Goals</th>\n",
       "      <th>Attendance</th>\n",
       "      <th>Half-time Home Goals</th>\n",
       "      <th>Half-time Away Goals</th>\n",
       "      <th>RoundID</th>\n",
       "      <th>MatchID</th>\n",
       "    </tr>\n",
       "  </thead>\n",
       "  <tbody>\n",
       "    <tr>\n",
       "      <th>count</th>\n",
       "      <td>852.000000</td>\n",
       "      <td>852.000000</td>\n",
       "      <td>852.000000</td>\n",
       "      <td>850.000000</td>\n",
       "      <td>852.000000</td>\n",
       "      <td>852.000000</td>\n",
       "      <td>8.520000e+02</td>\n",
       "      <td>8.520000e+02</td>\n",
       "    </tr>\n",
       "    <tr>\n",
       "      <th>mean</th>\n",
       "      <td>1985.089202</td>\n",
       "      <td>1.811033</td>\n",
       "      <td>1.022300</td>\n",
       "      <td>45164.800000</td>\n",
       "      <td>0.708920</td>\n",
       "      <td>0.428404</td>\n",
       "      <td>1.066177e+07</td>\n",
       "      <td>6.134687e+07</td>\n",
       "    </tr>\n",
       "    <tr>\n",
       "      <th>std</th>\n",
       "      <td>22.448825</td>\n",
       "      <td>1.610255</td>\n",
       "      <td>1.087573</td>\n",
       "      <td>23485.249247</td>\n",
       "      <td>0.937414</td>\n",
       "      <td>0.691252</td>\n",
       "      <td>2.729613e+07</td>\n",
       "      <td>1.110572e+08</td>\n",
       "    </tr>\n",
       "    <tr>\n",
       "      <th>min</th>\n",
       "      <td>1930.000000</td>\n",
       "      <td>0.000000</td>\n",
       "      <td>0.000000</td>\n",
       "      <td>2000.000000</td>\n",
       "      <td>0.000000</td>\n",
       "      <td>0.000000</td>\n",
       "      <td>2.010000e+02</td>\n",
       "      <td>2.500000e+01</td>\n",
       "    </tr>\n",
       "    <tr>\n",
       "      <th>25%</th>\n",
       "      <td>1970.000000</td>\n",
       "      <td>1.000000</td>\n",
       "      <td>0.000000</td>\n",
       "      <td>30000.000000</td>\n",
       "      <td>0.000000</td>\n",
       "      <td>0.000000</td>\n",
       "      <td>2.620000e+02</td>\n",
       "      <td>1.188750e+03</td>\n",
       "    </tr>\n",
       "    <tr>\n",
       "      <th>50%</th>\n",
       "      <td>1990.000000</td>\n",
       "      <td>2.000000</td>\n",
       "      <td>1.000000</td>\n",
       "      <td>41579.500000</td>\n",
       "      <td>0.000000</td>\n",
       "      <td>0.000000</td>\n",
       "      <td>3.370000e+02</td>\n",
       "      <td>2.191000e+03</td>\n",
       "    </tr>\n",
       "    <tr>\n",
       "      <th>75%</th>\n",
       "      <td>2002.000000</td>\n",
       "      <td>3.000000</td>\n",
       "      <td>2.000000</td>\n",
       "      <td>61374.500000</td>\n",
       "      <td>1.000000</td>\n",
       "      <td>1.000000</td>\n",
       "      <td>2.497220e+05</td>\n",
       "      <td>4.395006e+07</td>\n",
       "    </tr>\n",
       "    <tr>\n",
       "      <th>max</th>\n",
       "      <td>2014.000000</td>\n",
       "      <td>10.000000</td>\n",
       "      <td>7.000000</td>\n",
       "      <td>173850.000000</td>\n",
       "      <td>6.000000</td>\n",
       "      <td>5.000000</td>\n",
       "      <td>9.741060e+07</td>\n",
       "      <td>3.001865e+08</td>\n",
       "    </tr>\n",
       "  </tbody>\n",
       "</table>\n",
       "</div>"
      ],
      "text/plain": [
       "              Year  Home Team Goals  Away Team Goals     Attendance  \\\n",
       "count   852.000000       852.000000       852.000000     850.000000   \n",
       "mean   1985.089202         1.811033         1.022300   45164.800000   \n",
       "std      22.448825         1.610255         1.087573   23485.249247   \n",
       "min    1930.000000         0.000000         0.000000    2000.000000   \n",
       "25%    1970.000000         1.000000         0.000000   30000.000000   \n",
       "50%    1990.000000         2.000000         1.000000   41579.500000   \n",
       "75%    2002.000000         3.000000         2.000000   61374.500000   \n",
       "max    2014.000000        10.000000         7.000000  173850.000000   \n",
       "\n",
       "       Half-time Home Goals  Half-time Away Goals       RoundID       MatchID  \n",
       "count            852.000000            852.000000  8.520000e+02  8.520000e+02  \n",
       "mean               0.708920              0.428404  1.066177e+07  6.134687e+07  \n",
       "std                0.937414              0.691252  2.729613e+07  1.110572e+08  \n",
       "min                0.000000              0.000000  2.010000e+02  2.500000e+01  \n",
       "25%                0.000000              0.000000  2.620000e+02  1.188750e+03  \n",
       "50%                0.000000              0.000000  3.370000e+02  2.191000e+03  \n",
       "75%                1.000000              1.000000  2.497220e+05  4.395006e+07  \n",
       "max                6.000000              5.000000  9.741060e+07  3.001865e+08  "
      ]
     },
     "execution_count": 15,
     "metadata": {},
     "output_type": "execute_result"
    }
   ],
   "source": [
    "#Let's check statistics of the data\n",
    "worldcup_matches_df.describe()"
   ]
  },
  {
   "cell_type": "code",
   "execution_count": 16,
   "id": "a1aca5fe",
   "metadata": {},
   "outputs": [
    {
     "data": {
      "text/plain": [
       "Year                     20\n",
       "Datetime                602\n",
       "Stage                    23\n",
       "Stadium                 181\n",
       "City                    151\n",
       "Home Team Name           78\n",
       "Home Team Goals          11\n",
       "Away Team Goals           7\n",
       "Away Team Name           83\n",
       "Win conditions           43\n",
       "Attendance              622\n",
       "Half-time Home Goals      7\n",
       "Half-time Away Goals      6\n",
       "Referee                 366\n",
       "Assistant 1             387\n",
       "Assistant 2             408\n",
       "RoundID                 101\n",
       "MatchID                 836\n",
       "Home Team Initials       77\n",
       "Away Team Initials       82\n",
       "dtype: int64"
      ]
     },
     "execution_count": 16,
     "metadata": {},
     "output_type": "execute_result"
    }
   ],
   "source": [
    "#unique values in each columns\n",
    "worldcup_matches_df.nunique()"
   ]
  },
  {
   "cell_type": "code",
   "execution_count": 17,
   "id": "0f9c3743",
   "metadata": {},
   "outputs": [
    {
     "data": {
      "text/plain": [
       "array(['Montevideo ', 'Turin ', 'Naples ', 'Milan ', 'Bologna ',\n",
       "       'Florence ', 'Genoa ', 'Rome ', 'Trieste ', 'Paris ', 'Reims ',\n",
       "       'Colombes ', 'Toulouse ', 'Marseilles ', 'Strasbourg ',\n",
       "       'Le Havre ', 'Bordeaux ', 'Lille ', 'Antibes ', 'Rio De Janeiro ',\n",
       "       'Curitiba ', 'Sao Paulo ', 'Belo Horizonte ', 'Porto Alegre ',\n",
       "       'Recife ', 'Berne ', 'Zurich ', 'Geneva ', 'Lausanne ', 'Basel ',\n",
       "       'Lugano ', 'Solna ', 'Gothenburg ', 'Malm� ', 'Sandviken ',\n",
       "       'Norrk�Ping ', 'Vasteras ', 'Udevalla ', 'Halmstad ', 'Boras ',\n",
       "       'Helsingborg ', 'Eskilstuna ', 'Orebro ', 'Arica ',\n",
       "       'Vina Del Mar ', 'Rancagua ', 'Santiago De Chile ', 'London ',\n",
       "       'Sheffield ', 'Liverpool ', 'Middlesbrough ', 'Manchester ',\n",
       "       'Birmingham ', 'Sunderland ', 'Mexico City ', 'Puebla ', 'Leon ',\n",
       "       'Guadalajara ', 'Toluca ', 'Frankfurt/Main ', 'Berlin West ',\n",
       "       'Hamburg ', 'Dortmund ', 'Hanover ', 'D�Sseldorf ', 'Munich ',\n",
       "       'Stuttgart ', 'Gelsenkirchen ', 'Buenos Aires ', 'Mar Del Plata ',\n",
       "       'Rosario ', 'Cordoba ', 'Mendoza ', 'Barcelona ', 'Vigo ',\n",
       "       'Seville ', 'La Coru�A ', 'Elche ', 'Malaga ', 'Gijon ', 'Bilbao ',\n",
       "       'Valencia ', 'Oviedo ', 'Valladolid ', 'Zaragoza ', 'Alicante ',\n",
       "       'Madrid ', 'Irapuato ', 'Monterrey ', 'Nezahualcoyotl ',\n",
       "       'Queretaro ', 'Bari ', 'Cagliari ', 'Verona ', 'Palermo ',\n",
       "       'Udine ', 'Dallas ', 'Chicago ', 'Detroit ',\n",
       "       'New York/New Jersey ', 'Los Angeles ', 'Orlando ',\n",
       "       'Washington Dc ', 'San Francisco ', 'Boston ', 'Saint-Denis ',\n",
       "       'Montpellier ', 'Lens ', 'Nantes ', 'Lyon ', 'Saint-Etienne ',\n",
       "       'Seoul ', 'Ulsan ', 'Niigata ', 'Sapporo ', 'Ibaraki ', 'Busan ',\n",
       "       'Saitama ', 'Gwangju ', 'Kobe ', 'Suwon ', 'Daegu ', 'Jeonju ',\n",
       "       'Jeju ', 'Incheon ', 'Yokohama ', 'Rifu ', 'Oita ', 'Shizuoka ',\n",
       "       'Osaka ', 'Daejeon ', 'Leipzig ', 'Nuremberg ', 'Cologne ',\n",
       "       'Kaiserslautern ', 'Berlin ', 'Johannesburg ', 'Cape Town ',\n",
       "       'Nelson Mandela Bay/Port Elizabeth ', 'Phokeng ', 'Polokwane ',\n",
       "       'Tshwane/Pretoria ', 'Durban ', 'Mangaung/Bloemfontein ',\n",
       "       'Nelspruit ', 'Natal ', 'Salvador ', 'Cuiaba ', 'Fortaleza ',\n",
       "       'Manaus ', 'Brasilia ', nan], dtype=object)"
      ]
     },
     "execution_count": 17,
     "metadata": {},
     "output_type": "execute_result"
    }
   ],
   "source": [
    "worldcup_matches_df['City'].unique()"
   ]
  },
  {
   "cell_type": "code",
   "execution_count": 18,
   "id": "65cb249c",
   "metadata": {},
   "outputs": [],
   "source": [
    "worldcup_matches_df['City'] = worldcup_matches_df['City'].str.replace('Malm� ','Malm')\n",
    "worldcup_matches_df['City'] = worldcup_matches_df['City'].str.replace('Norrk�Ping ','Norrkoping')\n",
    "worldcup_matches_df['City'] = worldcup_matches_df['City'].str.replace('D�Sseldorf ','Dusseldorf')\n",
    "worldcup_matches_df['City'] = worldcup_matches_df['City'].str.replace('La Coru�A ','A Coruna')\n"
   ]
  },
  {
   "cell_type": "code",
   "execution_count": 19,
   "id": "feb8c555",
   "metadata": {
    "scrolled": true
   },
   "outputs": [
    {
     "data": {
      "text/plain": [
       "array(['Montevideo ', 'Turin ', 'Naples ', 'Milan ', 'Bologna ',\n",
       "       'Florence ', 'Genoa ', 'Rome ', 'Trieste ', 'Paris ', 'Reims ',\n",
       "       'Colombes ', 'Toulouse ', 'Marseilles ', 'Strasbourg ',\n",
       "       'Le Havre ', 'Bordeaux ', 'Lille ', 'Antibes ', 'Rio De Janeiro ',\n",
       "       'Curitiba ', 'Sao Paulo ', 'Belo Horizonte ', 'Porto Alegre ',\n",
       "       'Recife ', 'Berne ', 'Zurich ', 'Geneva ', 'Lausanne ', 'Basel ',\n",
       "       'Lugano ', 'Solna ', 'Gothenburg ', 'Malm', 'Sandviken ',\n",
       "       'Norrkoping', 'Vasteras ', 'Udevalla ', 'Halmstad ', 'Boras ',\n",
       "       'Helsingborg ', 'Eskilstuna ', 'Orebro ', 'Arica ',\n",
       "       'Vina Del Mar ', 'Rancagua ', 'Santiago De Chile ', 'London ',\n",
       "       'Sheffield ', 'Liverpool ', 'Middlesbrough ', 'Manchester ',\n",
       "       'Birmingham ', 'Sunderland ', 'Mexico City ', 'Puebla ', 'Leon ',\n",
       "       'Guadalajara ', 'Toluca ', 'Frankfurt/Main ', 'Berlin West ',\n",
       "       'Hamburg ', 'Dortmund ', 'Hanover ', 'Dusseldorf', 'Munich ',\n",
       "       'Stuttgart ', 'Gelsenkirchen ', 'Buenos Aires ', 'Mar Del Plata ',\n",
       "       'Rosario ', 'Cordoba ', 'Mendoza ', 'Barcelona ', 'Vigo ',\n",
       "       'Seville ', 'A Coruna', 'Elche ', 'Malaga ', 'Gijon ', 'Bilbao ',\n",
       "       'Valencia ', 'Oviedo ', 'Valladolid ', 'Zaragoza ', 'Alicante ',\n",
       "       'Madrid ', 'Irapuato ', 'Monterrey ', 'Nezahualcoyotl ',\n",
       "       'Queretaro ', 'Bari ', 'Cagliari ', 'Verona ', 'Palermo ',\n",
       "       'Udine ', 'Dallas ', 'Chicago ', 'Detroit ',\n",
       "       'New York/New Jersey ', 'Los Angeles ', 'Orlando ',\n",
       "       'Washington Dc ', 'San Francisco ', 'Boston ', 'Saint-Denis ',\n",
       "       'Montpellier ', 'Lens ', 'Nantes ', 'Lyon ', 'Saint-Etienne ',\n",
       "       'Seoul ', 'Ulsan ', 'Niigata ', 'Sapporo ', 'Ibaraki ', 'Busan ',\n",
       "       'Saitama ', 'Gwangju ', 'Kobe ', 'Suwon ', 'Daegu ', 'Jeonju ',\n",
       "       'Jeju ', 'Incheon ', 'Yokohama ', 'Rifu ', 'Oita ', 'Shizuoka ',\n",
       "       'Osaka ', 'Daejeon ', 'Leipzig ', 'Nuremberg ', 'Cologne ',\n",
       "       'Kaiserslautern ', 'Berlin ', 'Johannesburg ', 'Cape Town ',\n",
       "       'Nelson Mandela Bay/Port Elizabeth ', 'Phokeng ', 'Polokwane ',\n",
       "       'Tshwane/Pretoria ', 'Durban ', 'Mangaung/Bloemfontein ',\n",
       "       'Nelspruit ', 'Natal ', 'Salvador ', 'Cuiaba ', 'Fortaleza ',\n",
       "       'Manaus ', 'Brasilia ', nan], dtype=object)"
      ]
     },
     "execution_count": 19,
     "metadata": {},
     "output_type": "execute_result"
    }
   ],
   "source": [
    "worldcup_matches_df['City'].unique()"
   ]
  },
  {
   "cell_type": "code",
   "execution_count": 20,
   "id": "14dd7af9",
   "metadata": {},
   "outputs": [
    {
     "data": {
      "text/plain": [
       "array(['France', 'USA', 'Yugoslavia', 'Romania', 'Argentina', 'Chile',\n",
       "       'Uruguay', 'Brazil', 'Paraguay', 'Austria', 'Hungary',\n",
       "       'Switzerland', 'Sweden', 'Germany', 'Spain', 'Italy',\n",
       "       'Czechoslovakia', 'Cuba', 'England', 'Germany FR', 'Turkey',\n",
       "       'Soviet Union', 'Northern Ireland', 'Mexico', 'Wales', 'Portugal',\n",
       "       'Korea DPR', 'Peru', 'Belgium', 'Bulgaria', 'German DR', 'Zaire',\n",
       "       'Poland', 'Australia', 'Scotland', 'Netherlands', 'Haiti',\n",
       "       'Tunisia', 'Algeria', 'Honduras', 'Canada', 'Morocco',\n",
       "       'Korea Republic', 'Iraq', 'Denmark', 'rn\">United Arab Emirates',\n",
       "       'Costa Rica', 'Cameroon', 'rn\">Republic of Ireland', 'Colombia',\n",
       "       'Norway', 'Nigeria', 'Saudi Arabia', 'Bolivia', 'Russia', 'Greece',\n",
       "       'Jamaica', 'South Africa', 'Japan', 'Croatia', 'China PR',\n",
       "       'Senegal', 'Slovenia', 'Ecuador', 'rn\">Trinidad and Tobago',\n",
       "       'rn\">Serbia and Montenegro', 'Angola', 'Czech Republic', 'Togo',\n",
       "       'Iran', \"C�te d'Ivoire\", 'Ghana', 'Ukraine', 'Serbia',\n",
       "       'New Zealand', 'Slovakia', 'IR Iran', 'rn\">Bosnia and Herzegovina',\n",
       "       nan], dtype=object)"
      ]
     },
     "execution_count": 20,
     "metadata": {},
     "output_type": "execute_result"
    }
   ],
   "source": [
    "worldcup_matches_df['Home Team Name'].unique()"
   ]
  },
  {
   "cell_type": "code",
   "execution_count": 21,
   "id": "67c335df",
   "metadata": {},
   "outputs": [],
   "source": [
    "worldcup_matches_df['Home Team Name'] = worldcup_matches_df['Home Team Name'].str.replace(\"C�te d'Ivoire\",\"Ivory Coast\")\n",
    "worldcup_matches_df['Home Team Name'] = worldcup_matches_df['Home Team Name'].str.replace('rn\">United Arab Emirates','United Arab Emirates')\n",
    "worldcup_matches_df['Home Team Name'] = worldcup_matches_df['Home Team Name'].str.replace('rn\">Republic of Ireland','Republic of Ireland')\n",
    "worldcup_matches_df['Home Team Name'] = worldcup_matches_df['Home Team Name'].str.replace('rn\">Trinidad and Tobago','Trinidad and Tobago')\n",
    "worldcup_matches_df['Home Team Name'] = worldcup_matches_df['Home Team Name'].str.replace('rn\">Bosnia and Herzegovina','Bosnia and Herzegovina')\n"
   ]
  },
  {
   "cell_type": "code",
   "execution_count": null,
   "id": "62c4f81d",
   "metadata": {},
   "outputs": [],
   "source": []
  },
  {
   "cell_type": "code",
   "execution_count": 22,
   "id": "0e01fb92",
   "metadata": {},
   "outputs": [
    {
     "data": {
      "text/plain": [
       "array(['France', 'USA', 'Yugoslavia', 'Romania', 'Argentina', 'Chile',\n",
       "       'Uruguay', 'Brazil', 'Paraguay', 'Austria', 'Hungary',\n",
       "       'Switzerland', 'Sweden', 'Germany', 'Spain', 'Italy',\n",
       "       'Czechoslovakia', 'Cuba', 'England', 'Germany FR', 'Turkey',\n",
       "       'Soviet Union', 'Northern Ireland', 'Mexico', 'Wales', 'Portugal',\n",
       "       'Korea DPR', 'Peru', 'Belgium', 'Bulgaria', 'German DR', 'Zaire',\n",
       "       'Poland', 'Australia', 'Scotland', 'Netherlands', 'Haiti',\n",
       "       'Tunisia', 'Algeria', 'Honduras', 'Canada', 'Morocco',\n",
       "       'Korea Republic', 'Iraq', 'Denmark', 'United Arab Emirates',\n",
       "       'Costa Rica', 'Cameroon', 'Republic of Ireland', 'Colombia',\n",
       "       'Norway', 'Nigeria', 'Saudi Arabia', 'Bolivia', 'Russia', 'Greece',\n",
       "       'Jamaica', 'South Africa', 'Japan', 'Croatia', 'China PR',\n",
       "       'Senegal', 'Slovenia', 'Ecuador', 'Trinidad and Tobago',\n",
       "       'rn\">Serbia and Montenegro', 'Angola', 'Czech Republic', 'Togo',\n",
       "       'Iran', 'Ivory Coast', 'Ghana', 'Ukraine', 'Serbia', 'New Zealand',\n",
       "       'Slovakia', 'IR Iran', 'Bosnia and Herzegovina', nan], dtype=object)"
      ]
     },
     "execution_count": 22,
     "metadata": {},
     "output_type": "execute_result"
    }
   ],
   "source": [
    "worldcup_matches_df['Home Team Name'].unique()"
   ]
  },
  {
   "cell_type": "code",
   "execution_count": null,
   "id": "af33646b",
   "metadata": {},
   "outputs": [],
   "source": []
  },
  {
   "cell_type": "code",
   "execution_count": 23,
   "id": "91c7252d",
   "metadata": {},
   "outputs": [
    {
     "data": {
      "text/plain": [
       "Year                    3720\n",
       "Datetime                3720\n",
       "Stage                   3720\n",
       "Stadium                 3720\n",
       "City                    3720\n",
       "Home Team Name          3720\n",
       "Home Team Goals         3720\n",
       "Away Team Goals         3720\n",
       "Away Team Name          3720\n",
       "Win conditions          3720\n",
       "Attendance              3722\n",
       "Half-time Home Goals    3720\n",
       "Half-time Away Goals    3720\n",
       "Referee                 3720\n",
       "Assistant 1             3720\n",
       "Assistant 2             3720\n",
       "RoundID                 3720\n",
       "MatchID                 3720\n",
       "Home Team Initials      3720\n",
       "Away Team Initials      3720\n",
       "dtype: int64"
      ]
     },
     "execution_count": 23,
     "metadata": {},
     "output_type": "execute_result"
    }
   ],
   "source": [
    "#Let's check for missing vaues in the data\n",
    "worldcup_matches_df.isnull().sum()"
   ]
  },
  {
   "cell_type": "code",
   "execution_count": 24,
   "id": "3c803bee",
   "metadata": {},
   "outputs": [
    {
     "data": {
      "text/plain": [
       "<AxesSubplot:>"
      ]
     },
     "execution_count": 24,
     "metadata": {},
     "output_type": "execute_result"
    },
    {
     "data": {
      "image/png": "[encoded data removed]",
      "text/plain": [
       "<Figure size 720x576 with 2 Axes>"
      ]
     },
     "metadata": {
      "needs_background": "light"
     },
     "output_type": "display_data"
    }
   ],
   "source": [
    "plt.figure(figsize=(10,8))\n",
    "sns.heatmap(worldcup_matches_df.isnull(),cmap='viridis')"
   ]
  },
  {
   "cell_type": "code",
   "execution_count": 25,
   "id": "8ee7b469",
   "metadata": {},
   "outputs": [],
   "source": [
    "worldcup_matches_df.dropna(inplace=True)"
   ]
  },
  {
   "cell_type": "code",
   "execution_count": 26,
   "id": "fdb717dd",
   "metadata": {},
   "outputs": [
    {
     "data": {
      "text/plain": [
       "Year                    0\n",
       "Datetime                0\n",
       "Stage                   0\n",
       "Stadium                 0\n",
       "City                    0\n",
       "Home Team Name          0\n",
       "Home Team Goals         0\n",
       "Away Team Goals         0\n",
       "Away Team Name          0\n",
       "Win conditions          0\n",
       "Attendance              0\n",
       "Half-time Home Goals    0\n",
       "Half-time Away Goals    0\n",
       "Referee                 0\n",
       "Assistant 1             0\n",
       "Assistant 2             0\n",
       "RoundID                 0\n",
       "MatchID                 0\n",
       "Home Team Initials      0\n",
       "Away Team Initials      0\n",
       "dtype: int64"
      ]
     },
     "execution_count": 26,
     "metadata": {},
     "output_type": "execute_result"
    }
   ],
   "source": [
    "worldcup_matches_df.isnull().sum()"
   ]
  },
  {
   "cell_type": "code",
   "execution_count": 27,
   "id": "a895346b",
   "metadata": {},
   "outputs": [
    {
     "data": {
      "text/plain": [
       "<AxesSubplot:>"
      ]
     },
     "execution_count": 27,
     "metadata": {},
     "output_type": "execute_result"
    },
    {
     "data": {
      "image/png": "[encoded data removed]",
      "text/plain": [
       "<Figure size 720x576 with 2 Axes>"
      ]
     },
     "metadata": {
      "needs_background": "light"
     },
     "output_type": "display_data"
    }
   ],
   "source": [
    "plt.figure(figsize=(10,8))\n",
    "sns.heatmap(worldcup_matches_df.isnull(),cmap='viridis')"
   ]
  },
  {
   "cell_type": "code",
   "execution_count": 28,
   "id": "f4bf6934",
   "metadata": {},
   "outputs": [
    {
     "data": {
      "text/plain": [
       "(850, 20)"
      ]
     },
     "execution_count": 28,
     "metadata": {},
     "output_type": "execute_result"
    }
   ],
   "source": [
    "worldcup_matches_df.shape"
   ]
  },
  {
   "cell_type": "code",
   "execution_count": 29,
   "id": "604a009d",
   "metadata": {},
   "outputs": [],
   "source": [
    "columns = [i for i in worldcup_matches_df.columns]"
   ]
  },
  {
   "cell_type": "code",
   "execution_count": 30,
   "id": "c3d4556f",
   "metadata": {},
   "outputs": [
    {
     "data": {
      "text/plain": [
       "['Year',\n",
       " 'Datetime',\n",
       " 'Stage',\n",
       " 'Stadium',\n",
       " 'City',\n",
       " 'Home Team Name',\n",
       " 'Home Team Goals',\n",
       " 'Away Team Goals',\n",
       " 'Away Team Name',\n",
       " 'Win conditions',\n",
       " 'Attendance',\n",
       " 'Half-time Home Goals',\n",
       " 'Half-time Away Goals',\n",
       " 'Referee',\n",
       " 'Assistant 1',\n",
       " 'Assistant 2',\n",
       " 'RoundID',\n",
       " 'MatchID',\n",
       " 'Home Team Initials',\n",
       " 'Away Team Initials']"
      ]
     },
     "execution_count": 30,
     "metadata": {},
     "output_type": "execute_result"
    }
   ],
   "source": [
    "columns"
   ]
  },
  {
   "cell_type": "code",
   "execution_count": 31,
   "id": "4f04651f",
   "metadata": {
    "scrolled": true
   },
   "outputs": [
    {
     "name": "stdout",
     "output_type": "stream",
     "text": [
      "Year\n",
      "2014.0    78\n",
      "2010.0    64\n",
      "2006.0    64\n",
      "2002.0    64\n",
      "1998.0    64\n",
      "1982.0    52\n",
      "1994.0    52\n",
      "1990.0    52\n",
      "1986.0    52\n",
      "1978.0    38\n",
      "1974.0    38\n",
      "1958.0    35\n",
      "1970.0    32\n",
      "1966.0    32\n",
      "1962.0    32\n",
      "1954.0    26\n",
      "1950.0    22\n",
      "1938.0    18\n",
      "1930.0    18\n",
      "1934.0    17\n",
      "Name: Year, dtype: int64\n",
      "---------------------------------------\n",
      "Datetime\n",
      "27 May 1934 - 16:30     8\n",
      "11 Jun 1958 - 19:00     7\n",
      "08 Jun 1958 - 19:00     7\n",
      "15 Jun 1958 - 19:00     7\n",
      "23 Jun 1974 - 16:00     4\n",
      "                       ..\n",
      "24 Jun 1994 - 12:30     1\n",
      "23 Jun 1994 - 19:30     1\n",
      "23 Jun 1994 - 16:00     1\n",
      "22 Jun 1994 - 19:30     1\n",
      "04 Jul 1998 - 16:30     1\n",
      "Name: Datetime, Length: 601, dtype: int64\n",
      "---------------------------------------\n",
      "Stage\n",
      "Round of 16                 70\n",
      "Quarter-finals              66\n",
      "Group 1                     62\n",
      "Group A                     60\n",
      "Group B                     60\n",
      "Group 2                     59\n",
      "Group 3                     56\n",
      "Group 4                     55\n",
      "Group C                     48\n",
      "Group D                     48\n",
      "Group E                     48\n",
      "Group F                     48\n",
      "Semi-finals                 36\n",
      "Group G                     30\n",
      "Group H                     30\n",
      "Final                       20\n",
      "Match for third place       15\n",
      "Group 6                     12\n",
      "First round                  9\n",
      "Preliminary round            8\n",
      "Group 5                      6\n",
      "Third place                  2\n",
      "Play-off for third place     2\n",
      "Name: Stage, dtype: int64\n",
      "---------------------------------------\n",
      "Stadium\n",
      "Estadio Azteca             19\n",
      "Olympiastadion             14\n",
      "Jalisco                    14\n",
      "Nou Camp - Estadio Le�n    11\n",
      "Estadio Centenario         10\n",
      "                           ..\n",
      "Comunale di Cornaredo       1\n",
      "Rimnersvallen               1\n",
      "Tunavallen                  1\n",
      "White City                  1\n",
      "Eyravallen                  1\n",
      "Name: Stadium, Length: 181, dtype: int64\n",
      "---------------------------------------\n",
      "City\n",
      "Mexico City        23\n",
      "Montevideo         18\n",
      "Rio De Janeiro     18\n",
      "Guadalajara        17\n",
      "Johannesburg       15\n",
      "                   ..\n",
      "Eskilstuna          1\n",
      "Orebro              1\n",
      "Reims               1\n",
      "Antibes             1\n",
      "Lille               1\n",
      "Name: City, Length: 151, dtype: int64\n",
      "---------------------------------------\n",
      "Home Team Name\n",
      "Brazil                    82\n",
      "Italy                     57\n",
      "Argentina                 54\n",
      "Germany FR                43\n",
      "England                   35\n",
      "                          ..\n",
      "Wales                      1\n",
      "Norway                     1\n",
      "United Arab Emirates       1\n",
      "Haiti                      1\n",
      "Bosnia and Herzegovina     1\n",
      "Name: Home Team Name, Length: 78, dtype: int64\n",
      "---------------------------------------\n",
      "Home Team Goals\n",
      "1.0     246\n",
      "2.0     203\n",
      "0.0     177\n",
      "3.0     116\n",
      "4.0      59\n",
      "6.0      17\n",
      "5.0      17\n",
      "7.0       8\n",
      "8.0       4\n",
      "9.0       2\n",
      "10.0      1\n",
      "Name: Home Team Goals, dtype: int64\n",
      "---------------------------------------\n",
      "Away Team Goals\n",
      "1.0    321\n",
      "0.0    313\n",
      "2.0    140\n",
      "3.0     52\n",
      "4.0     14\n",
      "5.0      7\n",
      "7.0      3\n",
      "Name: Away Team Goals, dtype: int64\n",
      "---------------------------------------\n",
      "Away Team Name\n",
      "Mexico               38\n",
      "France               30\n",
      "Spain                29\n",
      "Argentina            27\n",
      "England              27\n",
      "                     ..\n",
      "Dutch East Indies     1\n",
      "Togo                  1\n",
      "Cuba                  1\n",
      "Zaire                 1\n",
      "Iraq                  1\n",
      "Name: Away Team Name, Length: 83, dtype: int64\n",
      "---------------------------------------\n",
      "Win conditions\n",
      "                                                 787\n",
      "Italy win after extra time                         5\n",
      "Argentina win after extra time                     4\n",
      "Belgium win after extra time                       3\n",
      "Win on Golden Goal                                 3\n",
      "England win after extra time                       3\n",
      "Brazil win on penalties (3 - 2)                    3\n",
      "Netherlands win on penalties (4 - 3)               2\n",
      "Argentina win on penalties (2 - 4)                 2\n",
      "Germany win after extra time                       2\n",
      "France win after extra time                        2\n",
      "France win on penalties (3 - 4)                    2\n",
      "Costa Rica win on penalties (5 - 3)                2\n",
      " win on penalties (5 - 4)                          1\n",
      "Germany FR win on penalties (4 - 1)                1\n",
      "Brazil win after extra time                        1\n",
      "Czechoslovakia win after extra time                1\n",
      "Hungary win after extra time                       1\n",
      "Spain win after extra time                         1\n",
      "Uruguay win on penalties (4 - 2)                   1\n",
      "Paraguay win on penalties (5 - 3)                  1\n",
      "Ghana win after extra time                         1\n",
      "Italy win on penalties (5 - 3)                     1\n",
      "Portugal win on penalties (1 - 3)                  1\n",
      "Germany win on penalties (4 - 2)                   1\n",
      "Ukraine win on penalties (0 - 3)                   1\n",
      "Korea Republic win on penalties (3 - 5)            1\n",
      "Northern Ireland win after extra time              1\n",
      "Spain win on penalties (3 - 2)                     1\n",
      "Brazil win on penalties (4 - 2)                    1\n",
      "Argentina win on penalties (4 - 3)                 1\n",
      "Germany FR win after extra time                    1\n",
      "Sweden win on penalties (4 - 5)                    1\n",
      "Bulgaria win on penalties (1 - 3)                  1\n",
      " win on penalties (4 - 3)                          1\n",
      "Austria win after extra time                       1\n",
      " win on penalties (2 - 3)                          1\n",
      "Yugoslavia win after extra time                    1\n",
      "Republic of Ireland win on penalties (5 - 4)       1\n",
      "Cameroon win after extra time                      1\n",
      "Uruguay win after extra time                       1\n",
      "Belgium win on penalties (4 - 5)                   1\n",
      " win on penalties (3 - 4)                          1\n",
      "Name: Win conditions, dtype: int64\n",
      "---------------------------------------\n",
      "Attendance\n",
      "45000.0    13\n",
      "43000.0    13\n",
      "52000.0    11\n",
      "65000.0     9\n",
      "25000.0     8\n",
      "           ..\n",
      "23800.0     1\n",
      "55100.0     1\n",
      "27000.0     1\n",
      "81100.0     1\n",
      "20200.0     1\n",
      "Name: Attendance, Length: 622, dtype: int64\n",
      "---------------------------------------\n",
      "Half-time Home Goals\n",
      "0.0    446\n",
      "1.0    269\n",
      "2.0     87\n",
      "3.0     34\n",
      "4.0     12\n",
      "5.0      1\n",
      "6.0      1\n",
      "Name: Half-time Home Goals, dtype: int64\n",
      "---------------------------------------\n",
      "Half-time Away Goals\n",
      "0.0    557\n",
      "1.0    238\n",
      "2.0     45\n",
      "3.0      6\n",
      "5.0      3\n",
      "4.0      1\n",
      "Name: Half-time Away Goals, dtype: int64\n",
      "---------------------------------------\n",
      "Referee\n",
      "Ravshan IRMATOV (UZB)             10\n",
      "QUINIOU Joel (FRA)                 8\n",
      "RODRIGUEZ Marco (MEX)              8\n",
      "LARRIONDA Jorge (URU)              8\n",
      "ARCHUNDIA Benito (MEX)             8\n",
      "                                  ..\n",
      "LABO REVOREDO Enrique (PER)        1\n",
      "ITHURRALDE Arturo Andres (ARG)     1\n",
      "DWOMOH Benjamin (GHA)              1\n",
      "ESCHWEILER Walter (GER)            1\n",
      "Bakary GASSAMA (GAM)               1\n",
      "Name: Referee, Length: 366, dtype: int64\n",
      "---------------------------------------\n",
      "Assistant 1\n",
      "BERANEK Alois (AUT)                 7\n",
      "VERGARA Hector (CAN)                7\n",
      "GONZALEZ ARCHUNDIA Alfonso (MEX)    7\n",
      "HERMANS Peter (BEL)                 7\n",
      "ACHIK Redouane (MAR)                7\n",
      "                                   ..\n",
      "McCABE George (ENG)                 1\n",
      "DIAZ GALVEZ Jorge (CHI)             1\n",
      "SALINAS Reynaldo (HON)              1\n",
      "ARANGO Jorge Luis (COL)             1\n",
      "GONZALEZ ROA Gabriel (PAR)          1\n",
      "Name: Assistant 1, Length: 387, dtype: int64\n",
      "---------------------------------------\n",
      "Assistant 2\n",
      "KOCHKAROV Bakhadyr (KGZ)    10\n",
      "VERGARA Hector (CAN)         7\n",
      "YUSTE Juan (ESP)             7\n",
      "VROMANS Walter (BEL)         7\n",
      "LISTKIEWICZ Michal (POL)     7\n",
      "                            ..\n",
      "TAREKEGN Seyoum (ETH)        1\n",
      "CHOI Duk Ryong (PRK)         1\n",
      "DAGNALL Kenneth (ENG)        1\n",
      "BAKHRAMOV Tofik (URS)        1\n",
      "KABANDA Felicien (RWA)       1\n",
      "Name: Assistant 2, Length: 408, dtype: int64\n",
      "---------------------------------------\n",
      "RoundID\n",
      "249722.0      48\n",
      "255931.0      48\n",
      "43950100.0    48\n",
      "97410100.0    48\n",
      "1014.0        48\n",
      "              ..\n",
      "3478.0         1\n",
      "3479.0         1\n",
      "1028.0         1\n",
      "1027.0         1\n",
      "3481.0         1\n",
      "Name: RoundID, Length: 101, dtype: int64\n",
      "---------------------------------------\n",
      "MatchID\n",
      "300186497.0    2\n",
      "300186501.0    2\n",
      "300186487.0    2\n",
      "300186491.0    2\n",
      "300186461.0    2\n",
      "              ..\n",
      "2197.0         1\n",
      "2246.0         1\n",
      "2224.0         1\n",
      "2408.0         1\n",
      "75.0           1\n",
      "Name: MatchID, Length: 835, dtype: int64\n",
      "---------------------------------------\n",
      "Home Team Initials\n",
      "BRA    82\n",
      "ITA    57\n",
      "ARG    54\n",
      "FRG    43\n",
      "ENG    35\n",
      "       ..\n",
      "TRI     1\n",
      "BOL     1\n",
      "JAM     1\n",
      "HAI     1\n",
      "BIH     1\n",
      "Name: Home Team Initials, Length: 77, dtype: int64\n",
      "---------------------------------------\n",
      "Away Team Initials\n",
      "MEX    38\n",
      "FRA    30\n",
      "ESP    29\n",
      "ARG    27\n",
      "ENG    27\n",
      "       ..\n",
      "INH     1\n",
      "TOG     1\n",
      "CUB     1\n",
      "ZAI     1\n",
      "IRQ     1\n",
      "Name: Away Team Initials, Length: 82, dtype: int64\n",
      "---------------------------------------\n"
     ]
    }
   ],
   "source": [
    "for i in columns:\n",
    "    print(worldcup_matches_df[i].name)\n",
    "    print(worldcup_matches_df[i].value_counts())\n",
    "    print('---------------------------------------')"
   ]
  },
  {
   "cell_type": "code",
   "execution_count": 32,
   "id": "ab9f5b83",
   "metadata": {},
   "outputs": [
    {
     "data": {
      "image/png": "[encoded data removed]",
      "text/plain": [
       "<Figure size 1296x576 with 1 Axes>"
      ]
     },
     "metadata": {
      "needs_background": "light"
     },
     "output_type": "display_data"
    }
   ],
   "source": [
    "#Let's check for the ouliers in our data\n",
    "plt.figure(figsize=(18,8))\n",
    "sns.set(style='white')\n",
    "boxplot = sns.boxplot(data=worldcup_matches_df, palette = \"Set2\", width=0.75, whis=2)\n",
    "boxplot.axes.set_title(\"BoxPlot\", fontsize=20, color='Green')\n",
    "plt.show()"
   ]
  },
  {
   "cell_type": "code",
   "execution_count": 33,
   "id": "2d6bd2fc",
   "metadata": {
    "scrolled": true
   },
   "outputs": [
    {
     "data": {
      "text/plain": [
       "249722.0      48\n",
       "255931.0      48\n",
       "43950100.0    48\n",
       "97410100.0    48\n",
       "1014.0        48\n",
       "              ..\n",
       "3478.0         1\n",
       "3479.0         1\n",
       "1028.0         1\n",
       "1027.0         1\n",
       "3481.0         1\n",
       "Name: RoundID, Length: 101, dtype: int64"
      ]
     },
     "execution_count": 33,
     "metadata": {},
     "output_type": "execute_result"
    }
   ],
   "source": [
    "worldcup_matches_df['RoundID'].value_counts()"
   ]
  },
  {
   "cell_type": "code",
   "execution_count": 34,
   "id": "ae292dd2",
   "metadata": {},
   "outputs": [],
   "source": [
    "#Let's convert column datetime datatype\n",
    "worldcup_matches_df['Datetime'] = pd.to_datetime(worldcup_matches_df['Datetime'])"
   ]
  },
  {
   "cell_type": "code",
   "execution_count": 35,
   "id": "364a9a3f",
   "metadata": {},
   "outputs": [
    {
     "name": "stdout",
     "output_type": "stream",
     "text": [
      "<class 'pandas.core.frame.DataFrame'>\n",
      "Int64Index: 850 entries, 0 to 851\n",
      "Data columns (total 20 columns):\n",
      " #   Column                Non-Null Count  Dtype         \n",
      "---  ------                --------------  -----         \n",
      " 0   Year                  850 non-null    float64       \n",
      " 1   Datetime              850 non-null    datetime64[ns]\n",
      " 2   Stage                 850 non-null    object        \n",
      " 3   Stadium               850 non-null    object        \n",
      " 4   City                  850 non-null    object        \n",
      " 5   Home Team Name        850 non-null    object        \n",
      " 6   Home Team Goals       850 non-null    float64       \n",
      " 7   Away Team Goals       850 non-null    float64       \n",
      " 8   Away Team Name        850 non-null    object        \n",
      " 9   Win conditions        850 non-null    object        \n",
      " 10  Attendance            850 non-null    float64       \n",
      " 11  Half-time Home Goals  850 non-null    float64       \n",
      " 12  Half-time Away Goals  850 non-null    float64       \n",
      " 13  Referee               850 non-null    object        \n",
      " 14  Assistant 1           850 non-null    object        \n",
      " 15  Assistant 2           850 non-null    object        \n",
      " 16  RoundID               850 non-null    float64       \n",
      " 17  MatchID               850 non-null    float64       \n",
      " 18  Home Team Initials    850 non-null    object        \n",
      " 19  Away Team Initials    850 non-null    object        \n",
      "dtypes: datetime64[ns](1), float64(8), object(11)\n",
      "memory usage: 139.5+ KB\n"
     ]
    }
   ],
   "source": [
    "worldcup_matches_df.info()"
   ]
  },
  {
   "cell_type": "code",
   "execution_count": 36,
   "id": "f02b03e2",
   "metadata": {},
   "outputs": [
    {
     "data": {
      "text/plain": [
       "0   1930-07-13 15:00:00\n",
       "1   1930-07-13 15:00:00\n",
       "2   1930-07-14 12:45:00\n",
       "3   1930-07-14 14:50:00\n",
       "4   1930-07-15 16:00:00\n",
       "Name: Datetime, dtype: datetime64[ns]"
      ]
     },
     "execution_count": 36,
     "metadata": {},
     "output_type": "execute_result"
    }
   ],
   "source": [
    "#Check for the datatime\n",
    "worldcup_matches_df['Datetime'].head()"
   ]
  },
  {
   "cell_type": "code",
   "execution_count": 37,
   "id": "9d55364b",
   "metadata": {},
   "outputs": [
    {
     "name": "stdout",
     "output_type": "stream",
     "text": [
      "Year\n",
      "\n",
      "[1930. 1934. 1938. 1950. 1954. 1958. 1962. 1966. 1970. 1974. 1978. 1982.\n",
      " 1986. 1990. 1994. 1998. 2002. 2006. 2010. 2014.]\n",
      "------------------------------------------------------\n",
      "Datetime\n",
      "\n",
      "['1930-07-13T15:00:00.000000000' '1930-07-14T12:45:00.000000000'\n",
      " '1930-07-14T14:50:00.000000000' '1930-07-15T16:00:00.000000000'\n",
      " '1930-07-16T14:45:00.000000000' '1930-07-17T12:45:00.000000000'\n",
      " '1930-07-17T14:45:00.000000000' '1930-07-18T14:30:00.000000000'\n",
      " '1930-07-19T12:50:00.000000000' '1930-07-19T15:00:00.000000000'\n",
      " '1930-07-20T13:00:00.000000000' '1930-07-20T15:00:00.000000000'\n",
      " '1930-07-21T14:50:00.000000000' '1930-07-22T14:45:00.000000000'\n",
      " '1930-07-26T14:45:00.000000000' '1930-07-27T14:45:00.000000000'\n",
      " '1930-07-30T14:15:00.000000000' '1934-05-27T16:30:00.000000000'\n",
      " '1934-05-31T16:30:00.000000000' '1934-06-01T16:30:00.000000000'\n",
      " '1934-06-03T16:30:00.000000000' '1934-06-07T18:00:00.000000000'\n",
      " '1934-06-10T17:30:00.000000000' '1938-06-04T17:00:00.000000000'\n",
      " '1938-06-05T17:00:00.000000000' '1938-06-05T17:30:00.000000000'\n",
      " '1938-06-05T18:30:00.000000000' '1938-06-09T18:00:00.000000000'\n",
      " '1938-06-12T17:00:00.000000000' '1938-06-14T18:00:00.000000000'\n",
      " '1938-06-16T18:00:00.000000000' '1938-06-19T17:00:00.000000000'\n",
      " '1950-06-24T15:00:00.000000000' '1950-06-25T15:00:00.000000000'\n",
      " '1950-06-28T15:00:00.000000000' '1950-06-29T15:00:00.000000000'\n",
      " '1950-06-29T15:30:00.000000000' '1950-07-01T15:00:00.000000000'\n",
      " '1950-07-02T15:00:00.000000000' '1950-07-02T15:40:00.000000000'\n",
      " '1950-07-09T15:00:00.000000000' '1950-07-13T15:00:00.000000000'\n",
      " '1950-07-16T15:00:00.000000000' '1954-06-16T18:00:00.000000000'\n",
      " '1954-06-17T18:00:00.000000000' '1954-06-17T18:10:00.000000000'\n",
      " '1954-06-17T17:50:00.000000000' '1954-06-19T16:50:00.000000000'\n",
      " '1954-06-19T17:00:00.000000000' '1954-06-19T17:10:00.000000000'\n",
      " '1954-06-20T16:50:00.000000000' '1954-06-20T17:00:00.000000000'\n",
      " '1954-06-20T17:10:00.000000000' '1954-06-23T18:00:00.000000000'\n",
      " '1954-06-26T17:00:00.000000000' '1954-06-27T17:00:00.000000000'\n",
      " '1954-06-30T18:00:00.000000000' '1954-07-03T17:00:00.000000000'\n",
      " '1954-07-04T17:00:00.000000000' '1958-06-08T14:00:00.000000000'\n",
      " '1958-06-08T19:00:00.000000000' '1958-06-11T19:00:00.000000000'\n",
      " '1958-06-12T19:00:00.000000000' '1958-06-15T14:00:00.000000000'\n",
      " '1958-06-15T19:00:00.000000000' '1958-06-17T19:00:00.000000000'\n",
      " '1958-06-19T19:00:00.000000000' '1958-06-24T19:00:00.000000000'\n",
      " '1958-06-28T17:00:00.000000000' '1958-06-29T15:00:00.000000000'\n",
      " '1962-05-30T15:00:00.000000000' '1962-05-31T15:00:00.000000000'\n",
      " '1962-06-02T15:00:00.000000000' '1962-06-03T15:00:00.000000000'\n",
      " '1962-06-06T15:00:00.000000000' '1962-06-07T15:00:00.000000000'\n",
      " '1962-06-10T14:30:00.000000000' '1962-06-13T14:30:00.000000000'\n",
      " '1962-06-16T14:30:00.000000000' '1962-06-17T14:30:00.000000000'\n",
      " '1966-07-11T19:30:00.000000000' '1966-07-12T19:30:00.000000000'\n",
      " '1966-07-13T19:30:00.000000000' '1966-07-15T19:30:00.000000000'\n",
      " '1966-07-16T15:00:00.000000000' '1966-07-16T19:30:00.000000000'\n",
      " '1966-07-19T16:30:00.000000000' '1966-07-19T19:30:00.000000000'\n",
      " '1966-07-20T19:30:00.000000000' '1966-07-23T15:00:00.000000000'\n",
      " '1966-07-25T19:30:00.000000000' '1966-07-26T19:30:00.000000000'\n",
      " '1966-07-28T19:30:00.000000000' '1966-07-30T15:00:00.000000000'\n",
      " '1970-05-31T12:00:00.000000000' '1970-06-02T16:00:00.000000000'\n",
      " '1970-06-03T16:00:00.000000000' '1970-06-06T16:00:00.000000000'\n",
      " '1970-06-07T12:00:00.000000000' '1970-06-10T16:00:00.000000000'\n",
      " '1970-06-11T16:00:00.000000000' '1970-06-14T12:00:00.000000000'\n",
      " '1970-06-17T16:00:00.000000000' '1970-06-20T16:00:00.000000000'\n",
      " '1970-06-21T12:00:00.000000000' '1974-06-13T17:00:00.000000000'\n",
      " '1974-06-14T16:00:00.000000000' '1974-06-14T19:30:00.000000000'\n",
      " '1974-06-15T16:00:00.000000000' '1974-06-15T18:00:00.000000000'\n",
      " '1974-06-18T16:00:00.000000000' '1974-06-18T19:30:00.000000000'\n",
      " '1974-06-19T19:30:00.000000000' '1974-06-22T16:00:00.000000000'\n",
      " '1974-06-22T19:30:00.000000000' '1974-06-23T16:00:00.000000000'\n",
      " '1974-06-26T16:00:00.000000000' '1974-06-26T19:30:00.000000000'\n",
      " '1974-06-30T16:00:00.000000000' '1974-06-30T19:30:00.000000000'\n",
      " '1974-07-03T17:00:00.000000000' '1974-07-03T19:30:00.000000000'\n",
      " '1974-07-06T16:00:00.000000000' '1974-07-07T16:00:00.000000000'\n",
      " '1978-06-01T15:00:00.000000000' '1978-06-02T13:45:00.000000000'\n",
      " '1978-06-02T16:45:00.000000000' '1978-06-02T19:15:00.000000000'\n",
      " '1978-06-03T13:45:00.000000000' '1978-06-03T16:45:00.000000000'\n",
      " '1978-06-06T13:45:00.000000000' '1978-06-06T16:45:00.000000000'\n",
      " '1978-06-06T19:15:00.000000000' '1978-06-07T13:45:00.000000000'\n",
      " '1978-06-07T16:45:00.000000000' '1978-06-10T15:10:00.000000000'\n",
      " '1978-06-10T16:45:00.000000000' '1978-06-10T19:15:00.000000000'\n",
      " '1978-06-11T13:45:00.000000000' '1978-06-11T16:45:00.000000000'\n",
      " '1978-06-14T13:45:00.000000000' '1978-06-14T16:45:00.000000000'\n",
      " '1978-06-14T19:15:00.000000000' '1978-06-18T13:45:00.000000000'\n",
      " '1978-06-18T16:45:00.000000000' '1978-06-18T19:15:00.000000000'\n",
      " '1978-06-21T13:45:00.000000000' '1978-06-21T16:45:00.000000000'\n",
      " '1978-06-21T19:15:00.000000000' '1978-06-24T15:00:00.000000000'\n",
      " '1978-06-25T15:00:00.000000000' '1982-06-13T20:00:00.000000000'\n",
      " '1982-06-14T17:15:00.000000000' '1982-06-14T21:00:00.000000000'\n",
      " '1982-06-15T17:15:00.000000000' '1982-06-15T21:00:00.000000000'\n",
      " '1982-06-16T17:15:00.000000000' '1982-06-16T21:00:00.000000000'\n",
      " '1982-06-17T17:15:00.000000000' '1982-06-17T17:45:00.000000000'\n",
      " '1982-06-17T21:00:00.000000000' '1982-06-18T17:15:00.000000000'\n",
      " '1982-06-18T21:00:00.000000000' '1982-06-19T19:15:00.000000000'\n",
      " '1982-06-19T21:00:00.000000000' '1982-06-20T17:15:00.000000000'\n",
      " '1982-06-20T21:00:00.000000000' '1982-06-21T17:15:00.000000000'\n",
      " '1982-06-21T21:00:00.000000000' '1982-06-22T17:15:00.000000000'\n",
      " '1982-06-22T21:00:00.000000000' '1982-06-23T17:15:00.000000000'\n",
      " '1982-06-23T21:00:00.000000000' '1982-06-24T17:15:00.000000000'\n",
      " '1982-06-24T21:00:00.000000000' '1982-06-25T17:15:00.000000000'\n",
      " '1982-06-25T21:00:00.000000000' '1982-06-28T17:15:00.000000000'\n",
      " '1982-06-28T21:00:00.000000000' '1982-06-29T17:15:00.000000000'\n",
      " '1982-06-29T21:00:00.000000000' '1982-07-01T17:15:00.000000000'\n",
      " '1982-07-01T21:00:00.000000000' '1982-07-02T17:15:00.000000000'\n",
      " '1982-07-02T21:00:00.000000000' '1982-07-04T17:15:00.000000000'\n",
      " '1982-07-04T21:00:00.000000000' '1982-07-05T17:15:00.000000000'\n",
      " '1982-07-05T21:00:00.000000000' '1982-07-08T17:15:00.000000000'\n",
      " '1982-07-08T21:00:00.000000000' '1982-07-10T20:00:00.000000000'\n",
      " '1982-07-11T20:00:00.000000000' '1986-05-31T12:00:00.000000000'\n",
      " '1986-06-01T16:00:00.000000000' '1986-06-01T12:00:00.000000000'\n",
      " '1986-06-02T12:00:00.000000000' '1986-06-02T16:00:00.000000000'\n",
      " '1986-06-03T12:00:00.000000000' '1986-06-03T16:00:00.000000000'\n",
      " '1986-06-04T12:00:00.000000000' '1986-06-04T16:00:00.000000000'\n",
      " '1986-06-05T12:00:00.000000000' '1986-06-05T16:00:00.000000000'\n",
      " '1986-06-06T12:00:00.000000000' '1986-06-06T16:00:00.000000000'\n",
      " '1986-06-07T12:00:00.000000000' '1986-06-07T16:00:00.000000000'\n",
      " '1986-06-08T12:00:00.000000000' '1986-06-08T16:00:00.000000000'\n",
      " '1986-06-09T12:00:00.000000000' '1986-06-10T12:00:00.000000000'\n",
      " '1986-06-11T12:00:00.000000000' '1986-06-11T16:00:00.000000000'\n",
      " '1986-06-12T12:00:00.000000000' '1986-06-13T12:00:00.000000000'\n",
      " '1986-06-15T16:00:00.000000000' '1986-06-15T12:00:00.000000000'\n",
      " '1986-06-16T16:00:00.000000000' '1986-06-16T12:00:00.000000000'\n",
      " '1986-06-17T12:00:00.000000000' '1986-06-17T16:00:00.000000000'\n",
      " '1986-06-18T12:00:00.000000000' '1986-06-18T16:00:00.000000000'\n",
      " '1986-06-21T12:00:00.000000000' '1986-06-21T16:00:00.000000000'\n",
      " '1986-06-22T16:00:00.000000000' '1986-06-22T12:00:00.000000000'\n",
      " '1986-06-25T12:00:00.000000000' '1986-06-25T16:00:00.000000000'\n",
      " '1986-06-28T12:00:00.000000000' '1986-06-29T12:00:00.000000000'\n",
      " '1990-06-08T18:00:00.000000000' '1990-06-09T17:00:00.000000000'\n",
      " '1990-06-09T21:00:00.000000000' '1990-06-10T17:00:00.000000000'\n",
      " '1990-06-10T21:00:00.000000000' '1990-06-11T17:00:00.000000000'\n",
      " '1990-06-11T21:00:00.000000000' '1990-06-12T17:00:00.000000000'\n",
      " '1990-06-12T21:00:00.000000000' '1990-06-13T17:00:00.000000000'\n",
      " '1990-06-13T21:00:00.000000000' '1990-06-14T17:00:00.000000000'\n",
      " '1990-06-14T21:00:00.000000000' '1990-06-15T17:00:00.000000000'\n",
      " '1990-06-15T21:00:00.000000000' '1990-06-16T17:00:00.000000000'\n",
      " '1990-06-16T21:00:00.000000000' '1990-06-17T17:00:00.000000000'\n",
      " '1990-06-17T21:00:00.000000000' '1990-06-18T21:00:00.000000000'\n",
      " '1990-06-19T17:00:00.000000000' '1990-06-19T21:00:00.000000000'\n",
      " '1990-06-20T21:00:00.000000000' '1990-06-21T17:00:00.000000000'\n",
      " '1990-06-21T21:00:00.000000000' '1990-06-23T17:00:00.000000000'\n",
      " '1990-06-23T21:00:00.000000000' '1990-06-24T17:00:00.000000000'\n",
      " '1990-06-24T21:00:00.000000000' '1990-06-25T17:00:00.000000000'\n",
      " '1990-06-25T21:00:00.000000000' '1990-06-26T17:00:00.000000000'\n",
      " '1990-06-26T21:00:00.000000000' '1990-06-30T17:00:00.000000000'\n",
      " '1990-06-30T21:00:00.000000000' '1990-07-01T17:00:00.000000000'\n",
      " '1990-07-01T21:00:00.000000000' '1990-07-03T20:00:00.000000000'\n",
      " '1990-07-04T20:00:00.000000000' '1990-07-07T20:00:00.000000000'\n",
      " '1990-07-08T20:00:00.000000000' '1994-06-17T19:30:00.000000000'\n",
      " '1994-06-17T15:00:00.000000000' '1994-06-18T11:30:00.000000000'\n",
      " '1994-06-18T16:00:00.000000000' '1994-06-18T19:30:00.000000000'\n",
      " '1994-06-19T12:30:00.000000000' '1994-06-19T16:00:00.000000000'\n",
      " '1994-06-19T19:30:00.000000000' '1994-06-20T19:30:00.000000000'\n",
      " '1994-06-20T16:00:00.000000000' '1994-06-21T12:30:00.000000000'\n",
      " '1994-06-21T19:30:00.000000000' '1994-06-21T16:00:00.000000000'\n",
      " '1994-06-22T16:00:00.000000000' '1994-06-22T19:30:00.000000000'\n",
      " '1994-06-23T16:00:00.000000000' '1994-06-23T19:30:00.000000000'\n",
      " '1994-06-24T12:30:00.000000000' '1994-06-24T19:30:00.000000000'\n",
      " '1994-06-24T16:00:00.000000000' '1994-06-25T12:30:00.000000000'\n",
      " '1994-06-25T16:00:00.000000000' '1994-06-26T12:30:00.000000000'\n",
      " '1994-06-26T16:00:00.000000000' '1994-06-27T16:00:00.000000000'\n",
      " '1994-06-28T12:30:00.000000000' '1994-06-28T16:00:00.000000000'\n",
      " '1994-06-29T12:30:00.000000000' '1994-06-30T19:30:00.000000000'\n",
      " '1994-07-02T12:00:00.000000000' '1994-07-02T16:30:00.000000000'\n",
      " '1994-07-03T12:00:00.000000000' '1994-07-03T13:30:00.000000000'\n",
      " '1994-07-04T12:00:00.000000000' '1994-07-04T12:30:00.000000000'\n",
      " '1994-07-05T13:00:00.000000000' '1994-07-05T16:30:00.000000000'\n",
      " '1994-07-09T12:00:00.000000000' '1994-07-09T14:30:00.000000000'\n",
      " '1994-07-10T12:00:00.000000000' '1994-07-10T12:30:00.000000000'\n",
      " '1994-07-13T16:00:00.000000000' '1994-07-13T16:30:00.000000000'\n",
      " '1994-07-16T12:30:00.000000000' '1994-07-17T12:30:00.000000000'\n",
      " '1998-06-10T17:30:00.000000000' '1998-06-10T21:00:00.000000000'\n",
      " '1998-06-11T17:30:00.000000000' '1998-06-11T21:00:00.000000000'\n",
      " '1998-06-12T14:30:00.000000000' '1998-06-12T17:30:00.000000000'\n",
      " '1998-06-12T21:00:00.000000000' '1998-06-13T14:30:00.000000000'\n",
      " '1998-06-13T17:30:00.000000000' '1998-06-13T21:00:00.000000000'\n",
      " '1998-06-14T14:30:00.000000000' '1998-06-14T17:30:00.000000000'\n",
      " '1998-06-14T21:00:00.000000000' '1998-06-15T14:30:00.000000000'\n",
      " '1998-06-15T17:30:00.000000000' '1998-06-15T21:00:00.000000000'\n",
      " '1998-06-16T17:30:00.000000000' '1998-06-16T21:00:00.000000000'\n",
      " '1998-06-17T17:30:00.000000000' '1998-06-17T21:00:00.000000000'\n",
      " '1998-06-18T17:30:00.000000000' '1998-06-18T21:00:00.000000000'\n",
      " '1998-06-19T17:30:00.000000000' '1998-06-19T21:00:00.000000000'\n",
      " '1998-06-20T14:30:00.000000000' '1998-06-20T17:30:00.000000000'\n",
      " '1998-06-20T21:00:00.000000000' '1998-06-21T14:30:00.000000000'\n",
      " '1998-06-21T17:30:00.000000000' '1998-06-21T21:00:00.000000000'\n",
      " '1998-06-22T17:30:00.000000000' '1998-06-22T21:00:00.000000000'\n",
      " '1998-06-23T16:00:00.000000000' '1998-06-23T21:00:00.000000000'\n",
      " '1998-06-24T16:00:00.000000000' '1998-06-24T21:00:00.000000000'\n",
      " '1998-06-25T16:00:00.000000000' '1998-06-25T21:00:00.000000000'\n",
      " '1998-06-26T16:00:00.000000000' '1998-06-26T21:00:00.000000000'\n",
      " '1998-06-27T16:30:00.000000000' '1998-06-27T21:00:00.000000000'\n",
      " '1998-06-28T16:30:00.000000000' '1998-06-28T21:00:00.000000000'\n",
      " '1998-06-29T16:30:00.000000000' '1998-06-29T21:00:00.000000000'\n",
      " '1998-06-30T16:30:00.000000000' '1998-06-30T21:00:00.000000000'\n",
      " '1998-07-03T16:30:00.000000000' '1998-07-03T21:00:00.000000000'\n",
      " '1998-07-04T16:30:00.000000000' '1998-07-04T21:00:00.000000000'\n",
      " '1998-07-07T21:00:00.000000000' '1998-07-08T21:00:00.000000000'\n",
      " '1998-07-11T21:00:00.000000000' '1998-07-12T21:00:00.000000000'\n",
      " '2002-05-31T20:30:00.000000000' '2002-06-01T18:00:00.000000000'\n",
      " '2002-06-01T15:30:00.000000000' '2002-06-01T20:30:00.000000000'\n",
      " '2002-06-02T14:30:00.000000000' '2002-06-02T16:30:00.000000000'\n",
      " '2002-06-02T18:30:00.000000000' '2002-06-02T20:30:00.000000000'\n",
      " '2002-06-03T18:00:00.000000000' '2002-06-03T20:30:00.000000000'\n",
      " '2002-06-03T15:30:00.000000000' '2002-06-04T15:30:00.000000000'\n",
      " '2002-06-04T18:00:00.000000000' '2002-06-04T20:30:00.000000000'\n",
      " '2002-06-05T15:30:00.000000000' '2002-06-05T18:00:00.000000000'\n",
      " '2002-06-05T20:30:00.000000000' '2002-06-06T15:30:00.000000000'\n",
      " '2002-06-06T18:00:00.000000000' '2002-06-06T20:30:00.000000000'\n",
      " '2002-06-07T15:30:00.000000000' '2002-06-07T20:30:00.000000000'\n",
      " '2002-06-07T18:00:00.000000000' '2002-06-08T15:30:00.000000000'\n",
      " '2002-06-08T20:30:00.000000000' '2002-06-08T18:00:00.000000000'\n",
      " '2002-06-09T18:00:00.000000000' '2002-06-09T20:30:00.000000000'\n",
      " '2002-06-09T15:30:00.000000000' '2002-06-10T15:30:00.000000000'\n",
      " '2002-06-10T20:30:00.000000000' '2002-06-10T18:00:00.000000000'\n",
      " '2002-06-11T15:30:00.000000000' '2002-06-11T20:30:00.000000000'\n",
      " '2002-06-12T15:30:00.000000000' '2002-06-12T20:30:00.000000000'\n",
      " '2002-06-13T15:30:00.000000000' '2002-06-13T20:30:00.000000000'\n",
      " '2002-06-14T15:30:00.000000000' '2002-06-14T20:30:00.000000000'\n",
      " '2002-06-15T20:30:00.000000000' '2002-06-15T15:30:00.000000000'\n",
      " '2002-06-16T20:30:00.000000000' '2002-06-16T15:30:00.000000000'\n",
      " '2002-06-17T20:30:00.000000000' '2002-06-17T15:30:00.000000000'\n",
      " '2002-06-18T15:30:00.000000000' '2002-06-18T20:30:00.000000000'\n",
      " '2002-06-21T15:30:00.000000000' '2002-06-21T20:30:00.000000000'\n",
      " '2002-06-22T20:30:00.000000000' '2002-06-22T15:30:00.000000000'\n",
      " '2002-06-25T20:30:00.000000000' '2002-06-26T20:30:00.000000000'\n",
      " '2002-06-29T20:00:00.000000000' '2002-06-30T20:00:00.000000000'\n",
      " '2006-06-09T18:00:00.000000000' '2006-06-09T21:00:00.000000000'\n",
      " '2006-06-10T15:00:00.000000000' '2006-06-10T18:00:00.000000000'\n",
      " '2006-06-10T21:00:00.000000000' '2006-06-11T15:00:00.000000000'\n",
      " '2006-06-11T18:00:00.000000000' '2006-06-11T21:00:00.000000000'\n",
      " '2006-06-12T15:00:00.000000000' '2006-06-12T18:00:00.000000000'\n",
      " '2006-06-12T21:00:00.000000000' '2006-06-13T15:00:00.000000000'\n",
      " '2006-06-13T18:00:00.000000000' '2006-06-13T21:00:00.000000000'\n",
      " '2006-06-14T15:00:00.000000000' '2006-06-14T18:00:00.000000000'\n",
      " '2006-06-14T21:00:00.000000000' '2006-06-15T15:00:00.000000000'\n",
      " '2006-06-15T18:00:00.000000000' '2006-06-15T21:00:00.000000000'\n",
      " '2006-06-16T15:00:00.000000000' '2006-06-16T18:00:00.000000000'\n",
      " '2006-06-16T21:00:00.000000000' '2006-06-17T15:00:00.000000000'\n",
      " '2006-06-17T18:00:00.000000000' '2006-06-17T21:00:00.000000000'\n",
      " '2006-06-18T15:00:00.000000000' '2006-06-18T18:00:00.000000000'\n",
      " '2006-06-18T21:00:00.000000000' '2006-06-19T15:00:00.000000000'\n",
      " '2006-06-19T18:00:00.000000000' '2006-06-19T21:00:00.000000000'\n",
      " '2006-06-20T16:00:00.000000000' '2006-06-20T21:00:00.000000000'\n",
      " '2006-06-21T16:00:00.000000000' '2006-06-21T21:00:00.000000000'\n",
      " '2006-06-22T16:00:00.000000000' '2006-06-22T21:00:00.000000000'\n",
      " '2006-06-23T16:00:00.000000000' '2006-06-23T21:00:00.000000000'\n",
      " '2006-06-24T17:00:00.000000000' '2006-06-24T21:00:00.000000000'\n",
      " '2006-06-25T17:00:00.000000000' '2006-06-25T21:00:00.000000000'\n",
      " '2006-06-26T17:00:00.000000000' '2006-06-26T21:00:00.000000000'\n",
      " '2006-06-27T17:00:00.000000000' '2006-06-27T21:00:00.000000000'\n",
      " '2006-06-30T17:00:00.000000000' '2006-06-30T21:00:00.000000000'\n",
      " '2006-07-01T17:00:00.000000000' '2006-07-01T21:00:00.000000000'\n",
      " '2006-07-04T21:00:00.000000000' '2006-07-05T21:00:00.000000000'\n",
      " '2006-07-08T21:00:00.000000000' '2006-07-09T20:00:00.000000000'\n",
      " '2010-06-11T16:00:00.000000000' '2010-06-11T20:30:00.000000000'\n",
      " '2010-06-12T13:30:00.000000000' '2010-06-12T16:00:00.000000000'\n",
      " '2010-06-12T20:30:00.000000000' '2010-06-13T13:30:00.000000000'\n",
      " '2010-06-13T16:00:00.000000000' '2010-06-13T20:30:00.000000000'\n",
      " '2010-06-14T13:30:00.000000000' '2010-06-14T16:00:00.000000000'\n",
      " '2010-06-14T20:30:00.000000000' '2010-06-15T13:30:00.000000000'\n",
      " '2010-06-15T16:00:00.000000000' '2010-06-15T20:30:00.000000000'\n",
      " '2010-06-16T13:30:00.000000000' '2010-06-16T16:00:00.000000000'\n",
      " '2010-06-16T20:30:00.000000000' '2010-06-17T13:30:00.000000000'\n",
      " '2010-06-17T16:00:00.000000000' '2010-06-17T20:30:00.000000000'\n",
      " '2010-06-18T13:30:00.000000000' '2010-06-18T16:00:00.000000000'\n",
      " '2010-06-18T20:30:00.000000000' '2010-06-19T13:30:00.000000000'\n",
      " '2010-06-19T16:00:00.000000000' '2010-06-19T20:30:00.000000000'\n",
      " '2010-06-20T13:30:00.000000000' '2010-06-20T16:00:00.000000000'\n",
      " '2010-06-20T20:30:00.000000000' '2010-06-21T13:30:00.000000000'\n",
      " '2010-06-21T16:00:00.000000000' '2010-06-21T20:30:00.000000000'\n",
      " '2010-06-22T16:00:00.000000000' '2010-06-22T20:30:00.000000000'\n",
      " '2010-06-23T16:00:00.000000000' '2010-06-23T20:30:00.000000000'\n",
      " '2010-06-24T16:00:00.000000000' '2010-06-24T20:30:00.000000000'\n",
      " '2010-06-25T16:00:00.000000000' '2010-06-25T20:30:00.000000000'\n",
      " '2010-06-26T16:00:00.000000000' '2010-06-26T20:30:00.000000000'\n",
      " '2010-06-27T16:00:00.000000000' '2010-06-27T20:30:00.000000000'\n",
      " '2010-06-28T16:00:00.000000000' '2010-06-28T20:30:00.000000000'\n",
      " '2010-06-29T16:00:00.000000000' '2010-06-29T20:30:00.000000000'\n",
      " '2010-07-02T16:00:00.000000000' '2010-07-02T20:30:00.000000000'\n",
      " '2010-07-03T16:00:00.000000000' '2010-07-03T20:30:00.000000000'\n",
      " '2010-07-06T20:30:00.000000000' '2010-07-07T20:30:00.000000000'\n",
      " '2010-07-10T20:30:00.000000000' '2010-07-11T20:30:00.000000000'\n",
      " '2014-06-12T17:00:00.000000000' '2014-06-13T13:00:00.000000000'\n",
      " '2014-06-13T16:00:00.000000000' '2014-06-13T18:00:00.000000000'\n",
      " '2014-06-14T13:00:00.000000000' '2014-06-14T16:00:00.000000000'\n",
      " '2014-06-14T18:00:00.000000000' '2014-06-14T22:00:00.000000000'\n",
      " '2014-06-15T13:00:00.000000000' '2014-06-15T16:00:00.000000000'\n",
      " '2014-06-15T19:00:00.000000000' '2014-06-16T13:00:00.000000000'\n",
      " '2014-06-16T16:00:00.000000000' '2014-06-16T19:00:00.000000000'\n",
      " '2014-06-17T13:00:00.000000000' '2014-06-17T16:00:00.000000000'\n",
      " '2014-06-17T18:00:00.000000000' '2014-06-18T13:00:00.000000000'\n",
      " '2014-06-18T16:00:00.000000000' '2014-06-18T18:00:00.000000000'\n",
      " '2014-06-19T13:00:00.000000000' '2014-06-19T16:00:00.000000000'\n",
      " '2014-06-19T19:00:00.000000000' '2014-06-20T13:00:00.000000000'\n",
      " '2014-06-20T16:00:00.000000000' '2014-06-20T19:00:00.000000000'\n",
      " '2014-06-21T13:00:00.000000000' '2014-06-21T16:00:00.000000000'\n",
      " '2014-06-21T18:00:00.000000000' '2014-06-22T13:00:00.000000000'\n",
      " '2014-06-22T16:00:00.000000000' '2014-06-22T18:00:00.000000000'\n",
      " '2014-06-23T13:00:00.000000000' '2014-06-23T17:00:00.000000000'\n",
      " '2014-06-24T13:00:00.000000000' '2014-06-24T16:00:00.000000000'\n",
      " '2014-06-24T17:00:00.000000000' '2014-06-25T13:00:00.000000000'\n",
      " '2014-06-25T16:00:00.000000000' '2014-06-25T17:00:00.000000000'\n",
      " '2014-06-26T13:00:00.000000000' '2014-06-26T17:00:00.000000000'\n",
      " '2014-06-28T13:00:00.000000000' '2014-06-28T17:00:00.000000000'\n",
      " '2014-06-30T13:00:00.000000000' '2014-07-04T17:00:00.000000000'\n",
      " '2014-07-04T13:00:00.000000000' '2014-07-08T17:00:00.000000000'\n",
      " '2014-07-12T17:00:00.000000000' '2014-07-13T16:00:00.000000000'\n",
      " '2014-07-09T17:00:00.000000000' '2014-07-05T17:00:00.000000000'\n",
      " '2014-07-05T13:00:00.000000000' '2014-06-29T13:00:00.000000000'\n",
      " '2014-06-29T17:00:00.000000000' '2014-07-01T13:00:00.000000000'\n",
      " '2014-07-01T17:00:00.000000000']\n",
      "------------------------------------------------------\n",
      "Stage\n",
      "\n",
      "['Group 1' 'Group 4' 'Group 2' 'Group 3' 'Semi-finals' 'Final'\n",
      " 'Preliminary round' 'Quarter-finals' 'Match for third place'\n",
      " 'First round' 'Group 6' 'Group B' 'Group A' 'Group 5' 'Group C' 'Group D'\n",
      " 'Group F' 'Group E' 'Round of 16' 'Group H' 'Group G' 'Third place'\n",
      " 'Play-off for third place']\n",
      "------------------------------------------------------\n",
      "Stadium\n",
      "\n",
      "['Pocitos' 'Parque Central' 'Estadio Centenario' 'Stadio Benito Mussolini'\n",
      " 'Giorgio Ascarelli' 'San Siro' 'Littorale' 'Giovanni Berta'\n",
      " 'Luigi Ferraris' 'Nazionale PNF' 'Littorio' 'Parc des Princes'\n",
      " 'Velodrome Municipale' 'Stade Olympique' 'Stade Municipal'\n",
      " 'Stade V�lodrome' 'Stade de la Meinau' 'Cavee Verte'\n",
      " 'Stade du Parc Lescure' 'Victor Boucquey' 'Fort Carree'\n",
      " 'Maracan� - Est�dio Jornalista M�rio Filho' 'Durival de Brito' 'Pacaembu'\n",
      " 'Independencia' 'Eucaliptos' 'Ilha do Retiro' 'Wankdorf Stadium'\n",
      " 'Hardturm' 'Charmilles' 'La Pontaise' 'St. Jakob' 'Comunale di Cornaredo'\n",
      " 'Rasunda Stadium' 'Nya Ullevi' 'Malmo Stadion' 'Jarnvallen'\n",
      " 'Idrottsparken' 'Arosvallen' 'Rimnersvallen' 'Orjans Vall' 'Ryavallen'\n",
      " 'Olympia Stadium' 'Tunavallen' 'Eyravallen' 'Carlos Dittborn'\n",
      " 'Estadio Sausalito' 'Estadio El Teniente-Codelco' 'Nacional'\n",
      " 'Wembley Stadium' 'Hillsborough' 'Goodison Park' 'Ayresome Park'\n",
      " 'Old Trafford Stadium' 'Villa Park' 'Roker Park Ground' 'White City'\n",
      " 'Estadio Azteca' 'Cuauhtemoc' 'Nou Camp - Estadio Le�n' 'Jalisco'\n",
      " 'Luis Dosal' 'Waldstadion' 'Olympiastadion' 'Volksparkstadion'\n",
      " 'Westfalenstadion' 'Niedersachsenstadion' 'Rheinstadion' 'Neckarstadion'\n",
      " 'Parkstadion' 'El Monumental - Estadio Monumental Antonio Vespuci'\n",
      " 'Estadio Jos� Mar�a Minella'\n",
      " 'Arroyito - Estadio Dr. Lisandro de la Torre' 'Jose Amalfitani'\n",
      " 'Estadio Ol�mpico Chateau Carreras' 'San Martin' 'Camp Nou'\n",
      " 'Estadio Municipal de Bala�dos' 'Ramon Sanchez Pizjuan' 'Riazor'\n",
      " 'Nuevo Estadio' 'La Rosaleda' 'El Molinon' 'San Mames' 'Luis Casanova'\n",
      " 'Carlos Tartiere' 'Jose Zorrilla' 'La Romareda' 'Jose Rico Perez'\n",
      " 'Benito Villamarin' 'Vicente Calderon' 'Sarria' 'Santiago Bernabeu'\n",
      " 'Estadio Irapuato' 'Estadio Ol�mpico Universitario'\n",
      " 'Estadio Universitario' 'Tres de Marzo' 'Tecnologico'\n",
      " 'Bombonera - Estadio Nemesio Diez' 'Neza' 'Estadio Corregidora'\n",
      " 'Giuseppe Meazza' 'Stadio San Nicola' 'Renato Dall Ara' 'Stadio Olimpico'\n",
      " 'Comunale' 'Stadio delle Alpi' 'Sant Elia' 'Marc Antonio Bentegodi'\n",
      " 'Della Favorita' 'Dacia Arena' 'San Paolo' 'Friuli' 'Cotton Bowl'\n",
      " 'Soldier Field' 'Pontiac Silverdome' 'Giants Stadium' 'Rose Bowl'\n",
      " 'Citrus Bowl' 'RFK Stadium' 'Stanford Stadium' 'Foxboro Stadium'\n",
      " 'Stade de France' 'La Mosson' 'Stade Felix Bollaert' 'La Beaujoire'\n",
      " 'Stade de Gerland' 'Stade Geoffroy Guichard' 'Seoul World Cup Stadium'\n",
      " 'Munsu Football Stadium' 'Niigata Stadium Big Swan' 'Sapporo Dome'\n",
      " 'Kashima Stadium' 'Busan Asiad Main Stadium' 'Saitama Stadium 2002'\n",
      " 'Gwangju World Cup Stadium' 'Kobe Wing Stadium' 'Suwon World Cup Stadium'\n",
      " 'Daegu World Cup Stadium' 'Jeonju World Cup Stadium'\n",
      " 'Jeju World Cup Stadium' 'Incheon Football Stadium'\n",
      " 'International Stadium Yokohama' 'Miyagi Stadium' 'Oita Stadium Big Eye'\n",
      " 'Shizuoka Stadium Ecopa' 'Osaka Nagai Stadium'\n",
      " 'Daejeon World Cup Stadium' 'FIFA World Cup Stadium, Munich'\n",
      " 'FIFA World Cup Stadium, Gelsenkirchen'\n",
      " 'FIFA World Cup Stadium, Frankfurt' 'FIFA World Cup Stadium, Dortmund'\n",
      " 'FIFA World Cup Stadium, Hamburg' 'Zentralstadion' 'Franken-Stadion'\n",
      " 'FIFA World Cup Stadium, Cologne' 'Fritz-Walter-Stadion'\n",
      " 'FIFA World Cup Stadium, Hanover' 'Gottlieb-Daimler-Stadion'\n",
      " 'Soccer City Stadium' 'Cape Town Stadium' 'Port Elizabeth Stadium'\n",
      " 'Ellis Park Stadium' 'Royal Bafokeng Sports Palace'\n",
      " 'Peter Mokaba Stadium' 'Loftus Versfeld Stadium' 'Durban Stadium'\n",
      " 'Free State Stadium' 'Mbombela Stadium' 'Arena de Sao Paulo'\n",
      " 'Estadio das Dunas' 'Arena Fonte Nova' 'Arena Pantanal'\n",
      " 'Estadio Mineirao' 'Estadio Castelao' 'Arena Amazonia' 'Arena Pernambuco'\n",
      " 'Estadio Nacional' 'Estadio Beira-Rio' 'Estadio do Maracana'\n",
      " 'Arena da Baixada']\n",
      "------------------------------------------------------\n",
      "City\n",
      "\n",
      "['Montevideo ' 'Turin ' 'Naples ' 'Milan ' 'Bologna ' 'Florence ' 'Genoa '\n",
      " 'Rome ' 'Trieste ' 'Paris ' 'Reims ' 'Colombes ' 'Toulouse '\n",
      " 'Marseilles ' 'Strasbourg ' 'Le Havre ' 'Bordeaux ' 'Lille ' 'Antibes '\n",
      " 'Rio De Janeiro ' 'Curitiba ' 'Sao Paulo ' 'Belo Horizonte '\n",
      " 'Porto Alegre ' 'Recife ' 'Berne ' 'Zurich ' 'Geneva ' 'Lausanne '\n",
      " 'Basel ' 'Lugano ' 'Solna ' 'Gothenburg ' 'Malm' 'Sandviken '\n",
      " 'Norrkoping' 'Vasteras ' 'Udevalla ' 'Halmstad ' 'Boras ' 'Helsingborg '\n",
      " 'Eskilstuna ' 'Orebro ' 'Arica ' 'Vina Del Mar ' 'Rancagua '\n",
      " 'Santiago De Chile ' 'London ' 'Sheffield ' 'Liverpool ' 'Middlesbrough '\n",
      " 'Manchester ' 'Birmingham ' 'Sunderland ' 'Mexico City ' 'Puebla '\n",
      " 'Leon ' 'Guadalajara ' 'Toluca ' 'Frankfurt/Main ' 'Berlin West '\n",
      " 'Hamburg ' 'Dortmund ' 'Hanover ' 'Dusseldorf' 'Munich ' 'Stuttgart '\n",
      " 'Gelsenkirchen ' 'Buenos Aires ' 'Mar Del Plata ' 'Rosario ' 'Cordoba '\n",
      " 'Mendoza ' 'Barcelona ' 'Vigo ' 'Seville ' 'A Coruna' 'Elche ' 'Malaga '\n",
      " 'Gijon ' 'Bilbao ' 'Valencia ' 'Oviedo ' 'Valladolid ' 'Zaragoza '\n",
      " 'Alicante ' 'Madrid ' 'Irapuato ' 'Monterrey ' 'Nezahualcoyotl '\n",
      " 'Queretaro ' 'Bari ' 'Cagliari ' 'Verona ' 'Palermo ' 'Udine ' 'Dallas '\n",
      " 'Chicago ' 'Detroit ' 'New York/New Jersey ' 'Los Angeles ' 'Orlando '\n",
      " 'Washington Dc ' 'San Francisco ' 'Boston ' 'Saint-Denis ' 'Montpellier '\n",
      " 'Lens ' 'Nantes ' 'Lyon ' 'Saint-Etienne ' 'Seoul ' 'Ulsan ' 'Niigata '\n",
      " 'Sapporo ' 'Ibaraki ' 'Busan ' 'Saitama ' 'Gwangju ' 'Kobe ' 'Suwon '\n",
      " 'Daegu ' 'Jeonju ' 'Jeju ' 'Incheon ' 'Yokohama ' 'Rifu ' 'Oita '\n",
      " 'Shizuoka ' 'Osaka ' 'Daejeon ' 'Leipzig ' 'Nuremberg ' 'Cologne '\n",
      " 'Kaiserslautern ' 'Berlin ' 'Johannesburg ' 'Cape Town '\n",
      " 'Nelson Mandela Bay/Port Elizabeth ' 'Phokeng ' 'Polokwane '\n",
      " 'Tshwane/Pretoria ' 'Durban ' 'Mangaung/Bloemfontein ' 'Nelspruit '\n",
      " 'Natal ' 'Salvador ' 'Cuiaba ' 'Fortaleza ' 'Manaus ' 'Brasilia ']\n",
      "------------------------------------------------------\n",
      "Home Team Name\n",
      "\n",
      "['France' 'USA' 'Yugoslavia' 'Romania' 'Argentina' 'Chile' 'Uruguay'\n",
      " 'Brazil' 'Paraguay' 'Austria' 'Hungary' 'Switzerland' 'Sweden' 'Germany'\n",
      " 'Spain' 'Italy' 'Czechoslovakia' 'Cuba' 'England' 'Germany FR' 'Turkey'\n",
      " 'Soviet Union' 'Northern Ireland' 'Mexico' 'Wales' 'Portugal' 'Korea DPR'\n",
      " 'Peru' 'Belgium' 'Bulgaria' 'German DR' 'Zaire' 'Poland' 'Australia'\n",
      " 'Scotland' 'Netherlands' 'Haiti' 'Tunisia' 'Algeria' 'Honduras' 'Canada'\n",
      " 'Morocco' 'Korea Republic' 'Iraq' 'Denmark' 'United Arab Emirates'\n",
      " 'Costa Rica' 'Cameroon' 'Republic of Ireland' 'Colombia' 'Norway'\n",
      " 'Nigeria' 'Saudi Arabia' 'Bolivia' 'Russia' 'Greece' 'Jamaica'\n",
      " 'South Africa' 'Japan' 'Croatia' 'China PR' 'Senegal' 'Slovenia'\n",
      " 'Ecuador' 'Trinidad and Tobago' 'rn\">Serbia and Montenegro' 'Angola'\n",
      " 'Czech Republic' 'Togo' 'Iran' 'Ivory Coast' 'Ghana' 'Ukraine' 'Serbia'\n",
      " 'New Zealand' 'Slovakia' 'IR Iran' 'Bosnia and Herzegovina']\n",
      "------------------------------------------------------\n",
      "Home Team Goals\n",
      "\n",
      "[ 4.  3.  2.  1.  6.  5.  7.  8.  9.  0. 10.]\n",
      "------------------------------------------------------\n",
      "Away Team Goals\n",
      "\n",
      "[1. 0. 3. 2. 5. 4. 7.]\n",
      "------------------------------------------------------\n",
      "Away Team Name\n",
      "\n",
      "['Mexico' 'Belgium' 'Brazil' 'Peru' 'France' 'Bolivia' 'Paraguay'\n",
      " 'Romania' 'Chile' 'USA' 'Yugoslavia' 'Argentina' 'Egypt' 'Netherlands'\n",
      " 'Switzerland' 'Sweden' 'Spain' 'Hungary' 'Austria' 'Germany'\n",
      " 'Czechoslovakia' 'Dutch East Indies' 'Norway' 'Poland' 'Cuba' 'Italy'\n",
      " 'England' 'Scotland' 'Turkey' 'Korea Republic' 'Germany FR' 'Uruguay'\n",
      " 'Wales' 'Northern Ireland' 'Soviet Union' 'Colombia' 'Bulgaria'\n",
      " 'Korea DPR' 'Portugal' 'Israel' 'Morocco' 'El Salvador' 'Australia'\n",
      " 'Haiti' 'German DR' 'Zaire' 'IR Iran' 'Tunisia' 'Iran' 'Cameroon'\n",
      " 'New Zealand' 'Algeria' 'Honduras' 'Kuwait' 'Iraq' 'Denmark' 'Canada'\n",
      " 'rn\">Republic of Ireland' 'rn\">United Arab Emirates' 'Costa Rica'\n",
      " 'Saudi Arabia' 'Russia' 'Greece' 'Nigeria' 'South Africa' 'Japan'\n",
      " 'Croatia' 'Jamaica' 'Senegal' 'Slovenia' 'Ecuador' 'China PR'\n",
      " \"C�te d'Ivoire\" 'Czech Republic' 'Ghana' 'Togo' 'Ukraine'\n",
      " 'rn\">Trinidad and Tobago' 'rn\">Serbia and Montenegro' 'Angola' 'Slovakia'\n",
      " 'Serbia' 'rn\">Bosnia and Herzegovina']\n",
      "------------------------------------------------------\n",
      "Win conditions\n",
      "\n",
      "[' ' 'Austria win after extra time ' 'Italy win after extra time '\n",
      " 'Brazil win after extra time ' 'Czechoslovakia win after extra time '\n",
      " 'Hungary win after extra time ' 'Northern Ireland win after extra time '\n",
      " 'England win after extra time ' 'Germany FR win after extra time '\n",
      " 'Uruguay win after extra time ' 'Argentina win after extra time '\n",
      " ' win on penalties (5 - 4) ' 'Belgium win after extra time '\n",
      " 'France win on penalties (3 - 4) ' 'Germany FR win on penalties (4 - 1) '\n",
      " 'Belgium win on penalties (4 - 5) ' 'France win after extra time '\n",
      " 'Cameroon win after extra time '\n",
      " 'Republic of Ireland win on penalties (5 - 4) '\n",
      " 'Yugoslavia win after extra time ' ' win on penalties (2 - 3) '\n",
      " ' win on penalties (3 - 4) ' ' win on penalties (4 - 3) '\n",
      " 'Bulgaria win on penalties (1 - 3) ' 'Sweden win on penalties (4 - 5) '\n",
      " 'Brazil win on penalties (3 - 2) ' 'Argentina win on penalties (4 - 3) '\n",
      " 'Brazil win on penalties (4 - 2) ' 'Spain win on penalties (3 - 2) '\n",
      " 'Win on Golden Goal ' 'Korea Republic win on penalties (3 - 5) '\n",
      " 'Ukraine win on penalties (0 - 3) ' 'Germany win on penalties (4 - 2) '\n",
      " 'Portugal win on penalties (1 - 3) ' 'Italy win on penalties (5 - 3) '\n",
      " 'Ghana win after extra time ' 'Paraguay win on penalties (5 - 3) '\n",
      " 'Uruguay win on penalties (4 - 2) ' 'Spain win after extra time '\n",
      " 'Germany win after extra time ' 'Argentina win on penalties (2 - 4) '\n",
      " 'Netherlands win on penalties (4 - 3) '\n",
      " 'Costa Rica win on penalties (5 - 3) ']\n",
      "------------------------------------------------------\n",
      "Attendance\n",
      "\n",
      "[  4444.  18346.  24059.   2549.  23409.   9249.  18306.  57735.   2000.\n",
      "  42100.  25466.  12000.  70022.  41459.  72886.  79867.  68346.  16000.\n",
      "   9000.  33000.  14000.   8000.  21000.  25000.   3000.  35000.  23000.\n",
      "  43000.  15000.   7000.  55000.  27152.  30454.  19000.  13452.  11000.\n",
      "  20025.  22021.  58455.  18141.  20000.  45000.  81649.  29703.   9511.\n",
      "  36502.   7336.  42032.  11078.  19790.   7903.  10151. 142429.  74462.\n",
      "  25811.   5284.   3580.   8501.  44802. 138886. 152772.   7987.  11227.\n",
      " 173850.  20500.  13470.  28000.  13000.  34000.  26000.  24637.  56000.\n",
      "   4000.  43500.  24000.  17000.  30000.  40000.  58000.  32000.  62500.\n",
      "  34107.  49348.  31156.  15343.  16518.   9591.  17788.  10647.  40895.\n",
      "  15150.  11665.  12217.  21239.  14174.  38850.  30287.  50928.  21990.\n",
      "  13300.  13103.  13554.  15872.  16418.  23182.   6196.   2823.  25923.\n",
      "  20055.  31900.  11800.  49471.  27100.  32483.  49737.   7908.  10484.\n",
      "   7134.  65006.   9622.  12700.   7938.  65440.   8829.  14903.   9794.\n",
      "  66057.   8040.  11875.   7442.  64922.   9973.  18715.   7945.  67224.\n",
      "   7167.  10648.   5700.  59828.  17268.  17736.  11690.  63324.   5890.\n",
      "  76594.  66697.  68679.  87148.  36127.  47308.  23006.  69237.  29886.\n",
      "  42738.  27199.  45662.  32028.  51387.  13792.  25438.  46587.  27793.\n",
      "  92570.  61112.  32127.  58479.  17829.  98270.  24129.  42187.  16027.\n",
      "  90584.  40007.  26844.  40248.  38273.  94493.  87696.  96924. 107160.\n",
      "  20654.  13765.  50560.  13433.  12942.  52897.  92205.  29968.  13537.\n",
      "  56818.  95261.   9624.  12710.  66843. 103058.  18163.  17875.  50804.\n",
      "  89979.   9890.  12299.  49292. 108192.  26851.  23357.  54233.  26085.\n",
      "  51261. 102444. 104403. 107412.  62000.  81100.  27000.  55100.  23800.\n",
      "  53000.  32700.  53300.  28300.  31700.  53700.  13400.  25300.  70100.\n",
      "  17400.  36200.  60200.  25900.  67385.  59863.  56548.  44955.  39400.\n",
      "  68348.  67800.  54254.  41300.  77100.  78200.  67579.  42373.  17396.\n",
      "  71615.  32569.  40841.  37927.  33431.  26533.  35258.  71666.  34771.\n",
      "  41424.  28125.  23127.  22651.  30667.  71712.  35221.  42132.  21262.\n",
      "  35130.  67547.  25050.  31278.  37091.  35288.  66695.  40750.  37326.\n",
      "  67433.  38318.  39586.  37315.  69659.  71483.  95000.  68000.  36000.\n",
      "  42000.  44172.  49562.  22500.  32093.  47379.  41123.  48000.  22000.\n",
      "  30043.  37000.  32500.  41000.  39700.  65000.  75000.  44000.  90089.\n",
      "  50000.  70000.  90000.  96000.  65500.  35748.  16500.  60000.  19900.\n",
      " 110000.  18000.  30500.  36540.  13800.  20200. 114600.  19915.  26500.\n",
      "  31420.  14200. 103763.  22700.  51000.  23980.  32277. 114580.  19800.\n",
      "  98728.  38500.  41700. 114500.  73780.  42907.  30791.  73303.  33266.\n",
      "  62628.  74765.  30867.  35238.  32790.  33288.  35713.  55759.  38687.\n",
      "  32257.  73423.  38962.  71169.  58007.  31823.  35267.  32733.  33759.\n",
      "  52733.  37307.  72510.  27833.  34857.  62502.  30223.  29039.  35950.\n",
      "  34959.  50026.  47673.  61381.  74559.  31818.  35500.  34520.  38971.\n",
      "  73347.  55205.  59978.  51426.  73603.  56247.  63117.  73425.  75338.\n",
      "  91856.  61219.  52395.  93194.  50535.  81061.  54456.  44132.  63113.\n",
      "  61428.  93869.  74624.  54453.  60790.  71528.  83401.  62387.  76322.\n",
      "  63160.  63998.  63089.  72404.  77217.  52535.  74914.  60578.  52959.\n",
      "  53001.  60246.  53121.  60277.  90469.  61355.  84147.  54367.  71030.\n",
      "  53400.  63500.  72000.  83500.  74110.  91500.  94194.  80000.  29800.\n",
      "  31800.  33500.  38100.  39100.  77000.  30600.  45500.  54000.  76000.\n",
      "  62561.  30157.  33679.  32218.  34050.  25186.  52721.  28598.  33842.\n",
      "  31081.  32239.  27217.  55256.  48760.  30957.  37306.  35854.  52328.\n",
      "  38289.  36194.  35927.  47226.  36750.  36472.  42299.  66108.  45610.\n",
      "  60778.  31000.  48100.  33681.  65320.  47085.  45777.  44864.  30176.\n",
      "  31024.  38524.  43605.  65862.  39291.  45213.  50239.  26482.  46640.\n",
      "  40582.  25176.  38926.  39747.  40440.  36380.  45666.  38588.  47436.\n",
      "  37337.  44233.  42114.  65256.  61058.  63483.  69029.  66000.  52000.\n",
      "  62959.  49480.  46000.  38000.  69000.  84490.  64100.  31513.  55686.\n",
      "  38646.  30325.  38833.  62660.  83465.  30620.  62869.  23871.  37034.\n",
      "  54331.  32664.  62453.  42658.  82174.  31593.  35370.  38294.  45573.\n",
      "  62010.  34812.  38074.  26643.  38229.  84455.  63644.  34872.  54386.\n",
      "  33425.  39415.  61874.  38891.  36893.  35827.  83391.  37836.  53412.\n",
      "  34850.  27967.  63093.  62712.  34763.  41958.  28042.  30597.  34976.\n",
      "  40510.  84377.  61962.  54096.  36742.  62955.  40186.  84017.  55359.\n",
      "  62479.  60960.  36254.  62103.  39216.  48173.  40275.  57174.  58679.\n",
      "  39800.  40267.  68351.  43012.  74738.  51081.  39081.  39760.  56800.\n",
      "  60342.  37603.  42877.  74101.  39982.  68748.  62575.  39485.  40285.\n",
      "  51003.  39224.  57698.  59621.  40499.  73819.  42732.  40123.  39375.\n",
      "  62996.  69112.  41212.  39706.  57823.  40340.  59095.  43285.  48011.\n",
      "  40322.  73749.  41876.  67540.  61397.  39311.  57714.  73804.  67882.\n",
      "  74240.  58141.  68034.  63267.  51179.  68551.  58817.  41242.  63255.\n",
      "  51227.]\n",
      "------------------------------------------------------\n",
      "Half-time Home Goals\n",
      "\n",
      "[3. 2. 1. 0. 4. 5. 6.]\n",
      "------------------------------------------------------\n",
      "Half-time Away Goals\n",
      "\n",
      "[0. 1. 2. 4. 3. 5.]\n",
      "------------------------------------------------------\n",
      "Referee\n",
      "\n",
      "['LOMBARDI Domingo (URU)' 'MACIAS Jose (ARG)' 'TEJADA Anibal (URU)'\n",
      " 'WARNKEN Alberto (CHI)' 'REGO Gilberto (BRA)' 'CRISTOPHE Henry (BEL)'\n",
      " 'MATEUCCI Francisco (URU)' 'LANGENUS Jean (BEL)' 'SAUCEDO Ulises (BOL)'\n",
      " 'BALWAY Thomas (FRA)' 'VALLARINO Ricardo (URU)'\n",
      " 'VAN MOORSEL Johannes (NED)' 'BARLASSINA Rinaldo (ITA)'\n",
      " 'EKLIND Ivan (SWE)' 'BRAUN Eugen (AUT)' 'MATTEA Francesco (ITA)'\n",
      " 'BIRLEM Alfred (GER)' 'MERCET Rene (SUI)' 'BERANEK Alois (AUT)'\n",
      " 'BAERT Louis (BEL)' 'CARRARO Albino (ITA)' 'CONRIE Roger (FRA)'\n",
      " 'WUETHRICH Hans (SUI)' 'SCARPI Giuseppe (ITA)' 'LECLERCQ Lucien (FRA)'\n",
      " 'VON HERTZKA Pal (HUN)' 'KRIST Gustav (TCH)' 'CAPDEVILLE Georges (FRA)'\n",
      " 'READER George (ENG)' 'VAN DER MEER Karel (NED)' 'VIANA Mario (BRA)'\n",
      " 'LUTZ Jean (SUI)' 'GALEATI Giovanni (ITA)' 'AZON ROMA Ramon (ESP)'\n",
      " 'LEAFE Reginald (ENG)' 'MALCHER Alberto (BRA)' 'MITCHELL Robert (SCO)'\n",
      " 'DATTILO Generoso (ITA)' 'GRIFFITHS Benjamin (WAL)' 'ELLIS Arthur (ENG)'\n",
      " 'GARDELLI Mario (BRA)' 'FRANKEN Laurent (BEL)' 'WYSSLING Paul (SUI)'\n",
      " 'DA COSTA VIEIRA Jose (POR)' 'VINCENTI Raymond (FRA)'\n",
      " 'SCHMETZER Emil (FRG)' 'ORLANDINI Vincenzo (ITA)' 'STEFANOVIC Vasa (YUG)'\n",
      " 'ASENSI Manuel (ESP)' 'FAULTLESS Charlie (SCO)' 'LING William (ENG)'\n",
      " 'MARINO Esteban (URU)' 'ZSOLT Istvan (HUN)' 'STEINER Carl (AUT)'\n",
      " 'LATYCHEV Nikolaj (URS)' 'CODESAL Jose Maria (URU)'\n",
      " 'GARDEAZABAL Juan (ESP)' 'GUIGUE Maurice (FRA)' 'SEIPELT Fritz (AUT)'\n",
      " 'DUSCH Albert (GER)' 'LEMESIC Leo (YUG)' 'JORGENSEN Carl Frederik (DEN)'\n",
      " 'AHLNER Sten (SWE)' 'MOWAT Jack (SCO)' 'VAN NUFFEL Lucien (BEL)'\n",
      " 'FERNANDES CAMPOS Joaquim (POR)' 'ERIKSSON Arne (FIN)'\n",
      " 'MACKO Martin (TCH)' 'BROZZI Juan (ARG)' 'BRONKHORST Jan (NED)'\n",
      " 'DOROGI Andor (HUN)' 'DIENST Gottfried (SUI)' 'ASTON Ken (ENG)'\n",
      " 'HORN Leo (NED)' 'DAVIDSON Bob (SCO)' 'GALBA Karol (TCH)'\n",
      " 'SCHWINTE Pierre (FRA)' 'ETZEL FILHO Joao (BRA)' 'TESANIC Branko (YUG)'\n",
      " 'JONNI Cesare (ITA)' 'BUSTAMANTE Sergio (CHI)'\n",
      " 'YAMASAKI MALDONADO Arturo (MEX)' 'ROBLES Carlos (CHI)'\n",
      " 'BLAVIER Arthur (BEL)' 'PHILLIPS Hugh (SCO)' 'TSCHENSCHER Kurt (GER)'\n",
      " 'ASHKENAZI Menachem (ISR)' 'CALLAGHAN Leo (WAL)'\n",
      " 'RUMENTCHEV Dimitar (BUL)' 'BAKHRAMOV Tofik (URS)'\n",
      " 'DAGNALL Kenneth (ENG)' 'KANDIL Aly Hussein (EGY)'\n",
      " 'ZECEVIC Konstantin (YUG)' 'KREITLEIN Rudolf (GER)'\n",
      " 'LO BELLO Concetto (ITA)' 'LOEOEW Bertil (SWE)' 'McCABE George (ENG)'\n",
      " 'GOICOECHEA Roberto (ARG)' 'MARQUES Armando (BRA)' 'ADAIR John (NIR)'\n",
      " 'FINNEY Jim (ENG)' 'SBARDELLA Antonio (ITA)' 'LORAUX Vital (BEL)'\n",
      " 'TAYLOR John (ENG)' 'VAN RAVENS Laurens (NED)' 'BARRETO RUIZ Ramon (URU)'\n",
      " 'RADULESCU Andrei (ROU)' 'GLOECKNER Rudolf (GDR)' 'DE LEO Diego (MEX)'\n",
      " 'SCHEURER Ruedi (SUI)' 'TAREKEGN Seyoum (ETH)'\n",
      " 'ORTIZ DE MENDIBIL Jose Maria (ESP)' 'KLEIN Abraham (ISR)'\n",
      " 'LANDAUER Henry (USA)' 'AGUILAR ELIZALDE Abel (MEX)'\n",
      " 'MARSCHALL Ferdinand (AUT)' 'HORMAZABAL DIAZ Rafael (CHI)'\n",
      " 'DE MORAES Ayrton Vieira (BRA)' 'SALDANHA RIBEIRO Antonio (POR)'\n",
      " 'MACHIN Roger (FRA)' 'COEREZZA Norberto Angel (ARG)'\n",
      " 'BABACAN Dogan (TUR)' 'NDIAYE Youssou (SEN)' 'SCHULENBURG Gerhard (GER)'\n",
      " 'PALOTAI Karoly (HUN)' 'PEREZ NUNEZ Edison A. (PER)'\n",
      " 'LLOBREGAT Vicente (VEN)' 'THOMAS Clive (WAL)' 'KAMEL Mahmoud (EGY)'\n",
      " 'VAN GEMERT Arie (NED)' 'ANGONESE Aurelio (ITA)' 'DELGADO Omar (COL)'\n",
      " 'WINSEMANN Werner (CAN)' 'SUPPIAH George (SIN)' 'KAZAKOV Pavel (URS)'\n",
      " 'GONZALEZ ARCHUNDIA Alfonso (MEX)' 'NAMDAR Jafar (IRN)'\n",
      " 'RAINEA Nicolae (ROU)' 'BOSKOVIC Tony (AUS)' 'SANCHEZ IBANEZ Pablo (ESP)'\n",
      " 'LINEMAYR Erich (AUT)' 'WEYLAND Hans Joachim (FRG)'\n",
      " 'PESTARINO Luis (ARG)' 'GORDON John (SCO)' 'GARRIDO Antonio (POR)'\n",
      " 'ERIKSSON Ulf (SWE)' 'MARTINEZ Angel (ESP)' 'BOUZO Farouk (SYR)'\n",
      " 'DUBACH Jean (SUI)' 'GONELLA Sergio (ITA)' 'CORVER Charles (NED)'\n",
      " 'PROKOP Adolf (GDR)' 'COELHO Arnaldo (BRA)' 'OROZCO GUERRERO Cesar (PER)'\n",
      " 'WURTZ Robert (FRA)' 'BIWERSI Ferdinand (GER)' 'JARGUZ Alojzy (POL)'\n",
      " 'MAKSIMOVIC Dusan (SCG)' 'PARTRIDGE Pat (ENG)' 'RION Francis (BEL)'\n",
      " 'SILVAGNO CAVANNA Juan (CHI)' 'CHRISTOV Vojtech (TCH)'\n",
      " 'VAUTROT Michel (FRA)' 'LAMO CASTILLO Augusto (ESP)'\n",
      " 'WOEHRER Franz (AUT)' 'AL DOY Ebrahim (BHR)' 'SOCHA David (USA)'\n",
      " 'LABO REVOREDO Enrique (PER)' 'ITHURRALDE Arturo Andres (ARG)'\n",
      " 'CARDELLINO DE SAN VICENTE Juan (URU)' 'DWOMOH Benjamin (GHA)'\n",
      " 'FREDRIKSSON Erik (SWE)' 'ESCHWEILER Walter (GER)' 'LACARNE Belaid (ALG)'\n",
      " 'SILES Jesus Paulino (CRC)' 'PONNET Alexis (BEL)' 'MOFFATT Malcolm (NIR)'\n",
      " 'EL GHOUL Yusef Mohamed (LBY)' 'GALLER Bruno (SUI)'\n",
      " 'LUND-SORENSEN Henning (DEN)' 'STUPAR Miroslav (URS)'\n",
      " 'CHAN Thomson Tam Sun (HKG)' 'RUBIO VAZQUEZ Mario (MEX)'\n",
      " 'WHITE Clive (ENG)' 'DOTCHEV Bogdan (BUL)' 'BARRANCOS Luis (BOL)'\n",
      " 'MATOVINOVIC Damir (CRO)' 'MENDEZ MOLINA Romulo (GUA)'\n",
      " 'CASARIN Paolo (ITA)' 'CASTRO Gaston (CHI)' 'VALENTINE Robert (SCO)'\n",
      " 'ARISTIZABAL MURCIA Gilberto (COL)' 'ORTIZ Hector (PAR)'\n",
      " 'SILVA ARCE Hernan (CHI)' 'BAMBRIDGE Christopher (AUS)'\n",
      " 'AGNOLIN Luigi (ITA)' 'SANCHEZ ARMINIO Victoriano (ESP)'\n",
      " 'MARTINEZ BAZAN Jose Luis (URU)' 'BUTENKO Valeri (RUS)'\n",
      " 'ESPOSITO Carlos (ARG)' 'ROTH Volker (GER)' 'PICON-ACKONG Edwin (MRI)'\n",
      " 'NEMETH Lajos (HUN)' 'KEIZER Jan (NED)' 'ARPPI FILHO Romualdo (BRA)'\n",
      " 'AL SHANAR Fallaj Khuzam (KSA)' 'AL SHARIF Jamal (SYR)'\n",
      " 'GONZALEZ ROA Gabriel (PAR)' 'BRUMMEIER Horst (AUT)'\n",
      " 'COURTNEY George (ENG)' 'BENNACEUR Ali (TUN)' 'DIAZ PALACIO Jesus (COL)'\n",
      " 'MARQUEZ RAMIREZ Antonio (MEX)' 'IGNA Ioan (ROU)'\n",
      " 'SILVA VALENTE Carlos Alberto (POR)' 'TRAORE Idrissa (MLI)'\n",
      " 'ULLOA MORERA Berny (CRC)' 'PETROVIC Zoran (SRB)' 'SNODDY Alan (NIR)'\n",
      " 'DAINA Andre (SUI)' 'KIRSCHEN Siegfried (GER)' 'TAKADA Shizuo (JPN)'\n",
      " 'QUINIOU Joel (FRA)' 'RAMIZ WRIGHT Jose (BRA)'\n",
      " 'ROETHLISBERGER Kurt (SUI)' 'LANESE Tullio (ITA)' 'MIKKELSEN Peter (DEN)'\n",
      " 'LOUSTAU Juan (ARG)' 'SCHMIDHUBER Aron (GER)' 'MAURO Vincent (USA)'\n",
      " 'SORIANO ALADREN Emilio (ESP)' 'KOHL Helmut (AUT)'\n",
      " 'CODESAL MENDEZ Edgardo (MEX)' 'SMITH George (SCO)' 'SPIRIN Alexey (RUS)'\n",
      " 'JOUINI Neji (TUN)' 'MACIEL Carlos (PAR)' 'VAN LANGENHOVE Marcel (BEL)'\n",
      " 'JACOME GUERRERO Elias V. (ECU)' 'BRIZIO CARTER Arturo (MEX)'\n",
      " 'LAMOLINA Francisco Oscar (ARG)' 'VAN DER ENDE Mario (NED)'\n",
      " 'TORRES CADENA Jose Joaquin (COL)' 'PUHL Sandor (HUN)'\n",
      " 'TEJADA NORIEGA Alberto (PER)' 'DIAZ VEGA Manuel (ESP)'\n",
      " 'LIM KEE CHONG An Yan (MRI)' 'ANGELES Arturo (USA)'\n",
      " 'BADILLA Rodrigo (CRC)' 'FILIPPI Ernesto (URU)' 'BALDAS Fabio (ITA)'\n",
      " 'KRUG Hellmut (GER)' 'MOTTRAM Leslie (SCO)' 'MARSIGLIA Renato (BRA)'\n",
      " 'DON Philip (ENG)' 'KARLSSON Bo (SWE)' 'BUJSAIM Ali (UAE)'\n",
      " 'PAIRETTO Pierluigi (ITA)' 'GARCIA ARANDA Jose Maria (ESP)'\n",
      " 'ANPRASERT Pirom (THA)' 'BOUCHARDEAU Lucien (NIG)'\n",
      " 'GONZALEZ CHAVEZ Epifanio (PAR)' 'ALZEID Abdulrahman (KSA)'\n",
      " 'CASTRILLI Javier (ARG)' 'REZENDE Marcio (BRA)' 'BAHARMAST Esse (USA)'\n",
      " 'BENKO Gunter (AUT)' 'COLLINA Pierluigi (ITA)' 'MELO PEREIRA Vitor (POR)'\n",
      " 'OKADA Masayoshi (JPN)' 'BELQOLA Said (MAR)' 'VAGNER Laszlo (HUN)'\n",
      " 'LEVNIKOV Nikolai (RUS)' 'EL GHANDOUR Gamal (EGY)' 'LENNIE Edward (AUS)'\n",
      " 'TORO RENDON John (COL)' 'SANCHEZ YANTEN Mario (CHI)' 'McLEOD Ian (RSA)'\n",
      " 'RAMDHAN Ramesh (TRI)' 'DALLAS Hugh (SCO)' 'WOJCIK Ryszard (POL)'\n",
      " 'NIELSEN Kim Milton (DEN)' 'PEDERSEN Rune (NOR)' 'MEIER Urs (SUI)'\n",
      " 'HEYNEMANN Bernd (GER)' 'BATTA Marc (FRA)' 'DURKIN Paul (ENG)'\n",
      " 'MANE Saad (KUW)' 'KAMIKAWA Toru (JPN)' 'AQUINO Ubaldo (PAR)'\n",
      " 'VEISSIERE Gilles (FRA)' 'MICHEL Lubos (SVK)' 'SIMON Carlos (BRA)'\n",
      " 'GUEZZAZ Mohammed (MAR)' 'KIM Young Joo (KOR)' 'HALL Brian (USA)'\n",
      " 'JUN Lu (CHN)' 'VASSARAS Kyros (GRE)' 'MATTUS William (CRC)'\n",
      " 'RUIZ Oscar (COL)' 'PRENDERGAST Peter (JAM)' 'MORENO Byron (ECU)'\n",
      " 'BATRES Carlos (GUA)' 'HAUGE Terje (NOR)' 'RAMOS RIZO Felipe (MEX)'\n",
      " 'ORTUBE Rene (BOL)' 'SANCHEZ Angel (ARG)' 'FRISK Anders (SWE)'\n",
      " 'POLL Graham (ENG)' 'CODJIA Coffi (BEN)' 'MERK Markus (GER)'\n",
      " 'DAAMI Mourad (TUN)' 'SHIELD Mark (AUS)' 'WEGEREEF Jan (NED)'\n",
      " 'NDOYE Falla (SEN)' 'LOPEZ NIETO Antonio (ESP)' 'LU Jun (CHN)'\n",
      " 'ELIZONDO Horacio (ARG)' 'RODRIGUEZ Marco (MEX)' 'MAIDIN Shamsul (SIN)'\n",
      " 'DE BLEECKERE Frank (BEL)' 'ROSETTI Roberto (ITA)'\n",
      " 'LARRIONDA Jorge (URU)' 'ABD EL FATAH Essam (EGY)'\n",
      " 'AMARILLA Carlos (PAR)' 'IVANOV Valentin (RUS)' 'ARCHUNDIA Benito (MEX)'\n",
      " 'BUSACCA Massimo (SUI)' 'MEDINA CANTALEJO Luis (ESP)' 'POULAT Eric (FRA)'\n",
      " 'Ravshan IRMATOV (UZB)' 'NISHIMURA Yuichi (JPN)' 'HESTER Michael (NZL)'\n",
      " 'Wolfgang STARK (GER)' 'BALDASSI Hector (ARG)' 'St�phane LANNOY (FRA)'\n",
      " 'Oleg�rio BENQUEREN�A (POR)' 'DAMON Jerome (RSA)' 'KASSAI Viktor (HUN)'\n",
      " 'MAILLET Eddy (SEY)' 'WEBB Howard (ENG)' 'AL GHAMDI Khalil (KSA)'\n",
      " 'Alberto UNDIANO MALLENCO (ESP)' 'Koman COULIBALY (MLI)'\n",
      " 'POZO Pablo (CHI)' 'ROLDAN Wilmar (COL)' 'Nicola RIZZOLI (ITA)'\n",
      " 'Noumandiez DOUE (CIV)' 'GEIGER Mark (USA)' 'BRYCH Felix (GER)'\n",
      " 'Bj�rn KUIPERS (NED)' 'OSSES Enrique (CHI)' 'RICCI Sandro (BRA)'\n",
      " 'AGUILAR Joel (SLV)' 'MAZIC Milorad (SRB)' 'VERA Carlos (ECU)'\n",
      " 'ERIKSSON Jonas (SWE)' 'C�neyt �AKIR (TUR)' 'PITANA Nestor (ARG)'\n",
      " 'HAIMOUDI Djamel (ALG)' 'PROENCA Pedro (POR)'\n",
      " 'Carlos VELASCO CARBALLO (ESP)' 'Ben WILLIAMS (AUS)'\n",
      " \"Peter O'LEARY (NZL)\" 'SHUKRALLA Nawaf (BHR)' 'Bakary GASSAMA (GAM)']\n",
      "------------------------------------------------------\n",
      "Assistant 1\n",
      "\n",
      "['CRISTOPHE Henry (BEL)' 'MATEUCCI Francisco (URU)'\n",
      " 'VALLARINO Ricardo (URU)' 'LANGENUS Jean (BEL)' 'SAUCEDO Ulises (BOL)'\n",
      " 'APHESTEGUY Martin (URU)' 'LOMBARDI Domingo (URU)' 'BALWAY Thomas (FRA)'\n",
      " 'ALONSO Gualberto (URU)' 'MACIAS Jose (ARG)' 'WARNKEN Alberto (CHI)'\n",
      " 'VALLEJO Gaspar (MEX)' 'CAIRONI Camillo (ITA)' 'DATTILO Generoso (ITA)'\n",
      " 'BERANEK Alois (AUT)' 'CARRARO Albino (ITA)' 'MELANDRI Ermenegildo (ITA)'\n",
      " 'CARMINATI Ettore (ITA)' 'ESCARTIN Pedro (ESP)' 'SCARPI Giuseppe (ITA)'\n",
      " 'MOHAMED Youssuf (EGY)' 'MERCET Rene (SUI)' 'ZENISEK Bohumil (TCH)'\n",
      " 'IVANCSICS Mihaly (HUN)' 'BAERT Louis (BEL)' 'MARENCO Paul (FRA)'\n",
      " 'DE LA SALLE Charles (FRA)' 'KRIST Gustav (TCH)'\n",
      " 'VALPREDE Ferdinand (FRA)' 'BOUTOURE D. (FRA)' 'POISSANT Louis (FRA)'\n",
      " 'OLIVE D. (FRA)' 'CAPDEVILLE Pierre (FRA)' 'WEINGARTNER Karl (AUT)'\n",
      " 'WUETHRICH Hans (SUI)' 'VAN MOORSEL Johannes (NED)'\n",
      " 'GRIFFITHS Benjamin (WAL)' 'GARDELLI Mario (BRA)'\n",
      " 'DA COSTA VIEIRA Jose (POR)' 'EKLIND Ivan (SWE)'\n",
      " 'BUSTAMANTE Sergio (CHI)' 'DAHLNER Gunnar (SWE)' 'MARINO Esteban (URU)'\n",
      " 'LEMESIC Leo (YUG)' 'LUTZ Jean (SUI)' 'GARCIA Prudencio (USA)'\n",
      " 'VIANA Mario (BRA)' 'HEYEN Mario Ruben (PAR)' 'MITCHELL George (SCO)'\n",
      " 'ELLIS Arthur (ENG)' 'LING William (ENG)' 'SCHONHOLZER Ernest (SUI)'\n",
      " 'BAUMBERGER Rene (SUI)' 'ZSOLT Istvan (HUN)' 'VON GUNTER Albert (SUI)'\n",
      " 'BUCHMUELLER Fritz (SUI)' 'ASENSI Manuel (ESP)' 'WYSSLING Paul (SUI)'\n",
      " 'DOERFLINGER Ernst (SUI)' 'FRANKEN Laurent (BEL)' 'SCHICKER Werner (SUI)'\n",
      " 'ORLANDINI Vincenzo (ITA)' 'VINCENTI Raymond (FRA)'\n",
      " 'FAULTLESS Charlie (SCO)' 'STEFANOVIC Vasa (YUG)' 'MOWAT Jack (SCO)'\n",
      " 'NILSEN Birger (NOR)' 'HELGE Leo (DEN)' 'DUSCH Albert (GER)'\n",
      " 'LOEOEW Bertil (SWE)' 'LATYCHEV Nikolaj (URS)' 'GARDEAZABAL Juan (ESP)'\n",
      " 'LEAFE Reginald (ENG)' 'FERNANDES CAMPOS Joaquim (POR)'\n",
      " 'VAN NUFFEL Lucien (BEL)' 'AHLNER Sten (SWE)' 'CODESAL Jose Maria (URU)'\n",
      " 'BRONKHORST Jan (NED)' 'GUIGUE Maurice (FRA)' 'BROZZI Juan (ARG)'\n",
      " 'SEIPELT Fritz (AUT)' 'ETZEL FILHO Joao (BRA)' 'STEINER Carl (AUT)'\n",
      " 'BUERGO Fernando (MEX)' 'BLAVIER Arthur (BEL)' 'MORGAN Raymond (CAN)'\n",
      " 'MASSARO Artur (CHI)' 'REGINATO Adolfe Molina (CHI)'\n",
      " 'GOLDSTEIN Leo (USA)' 'DOROGI Andor (HUN)' 'VICUNA Claudio (CHI)'\n",
      " 'DAVIDSON Bob (SCO)' 'BULNES R. (CHI)' 'ASTON Ken (ENG)'\n",
      " 'JONNI Cesare (ITA)' 'TESANIC Branko (YUG)' 'DIENST Gottfried (SUI)'\n",
      " 'VENTRE Luis Antonio (ARG)' 'HORN Leo (NED)' 'BAKHRAMOV Tofik (URS)'\n",
      " 'ADAIR John (NIR)' 'McCABE George (ENG)' 'KANDIL Aly Hussein (EGY)'\n",
      " 'HOWLEY Kevin (ENG)' 'YAMASAKI MALDONADO Arturo (MEX)' 'FINNEY Jim (ENG)'\n",
      " 'CALLAGHAN Leo (WAL)' 'CRAWFORD William (SCO)' 'GOICOECHEA Roberto (ARG)'\n",
      " 'CHOI Duk Ryong (PRK)' 'GALBA Karol (TCH)' 'SCHWINTE Pierre (FRA)'\n",
      " 'DUNSTAN Keith (BER)' 'SCHEURER Ruedi (SUI)'\n",
      " 'AGUILAR ELIZALDE Abel (MEX)' 'MACHIN Roger (FRA)'\n",
      " 'ORTIZ DE MENDIBIL Jose Maria (ESP)' 'KLEIN Abraham (ISR)'\n",
      " 'GLOECKNER Rudolf (GDR)' 'TSCHENSCHER Kurt (GER)'\n",
      " 'MARUYAMA Yoshiyuki (JPN)' 'EMSBERGER Gyula (HUN)' 'LANDAUER Henry (USA)'\n",
      " 'RADULESCU Andrei (ROU)' 'VELASQUEZ Guillermo (COL)' 'TAYLOR John (ENG)'\n",
      " 'BARRETO RUIZ Ramon (URU)' 'COEREZZA Norberto Angel (ARG)'\n",
      " 'TAREKEGN Seyoum (ETH)' 'MARSCHALL Ferdinand (AUT)'\n",
      " 'HORMAZABAL DIAZ Rafael (CHI)' 'LORAUX Vital (BEL)'\n",
      " 'SANCHEZ IBANEZ Pablo (ESP)' 'BOSKOVIC Tony (AUS)' 'KAZAKOV Pavel (URS)'\n",
      " 'GONZALEZ ARCHUNDIA Alfonso (MEX)' 'NAMDAR Jafar (IRN)'\n",
      " 'ALDINGER Heinz (GER)' 'PALOTAI Karoly (HUN)' 'LLOBREGAT Vicente (VEN)'\n",
      " 'BABACAN Dogan (TUR)' 'BIWERSI Ferdinand (GER)' 'ANGONESE Aurelio (ITA)'\n",
      " 'MARQUES Armando (BRA)' 'KAMEL Mahmoud (EGY)' 'WINSEMANN Werner (CAN)'\n",
      " 'NDIAYE Birame (SEN)' 'LINEMAYR Erich (AUT)' 'RAINEA Nicolae (ROU)'\n",
      " 'ITHURRALDE Arturo Andres (ARG)' 'DUBACH Jean (SUI)'\n",
      " 'NDIAYE Youssou (SEN)' 'JARGUZ Alojzy (POL)'\n",
      " 'GEBREYESUS DIFUE Tesfaye (ERI)' 'WURTZ Robert (FRA)'\n",
      " 'PESTARINO Luis (ARG)' 'GARRIDO Antonio (POR)'\n",
      " 'OROZCO GUERRERO Cesar (PER)' 'MAKSIMOVIC Dusan (SCG)'\n",
      " 'PARTRIDGE Pat (ENG)' 'ERIKSSON Ulf (SWE)' 'COMESANA Miguel (ARG)'\n",
      " 'BOUZO Farouk (SYR)' 'CLIVE Thomas (WAL)' 'IVANOV Anatoly (URS)'\n",
      " 'PROKOP Adolf (GDR)' 'SANCHEZ ARMINIO Victoriano (ESP)'\n",
      " 'CORVER Charles (NED)' 'CHAN Thomson Tam Sun (HKG)'\n",
      " 'ARISTIZABAL MURCIA Gilberto (COL)' 'CASTRO Gaston (CHI)'\n",
      " 'DOTCHEV Bogdan (BUL)' 'CASARIN Paolo (ITA)' 'MENDEZ MOLINA Romulo (GUA)'\n",
      " 'GALLER Bruno (SUI)' 'RUBIO VAZQUEZ Mario (MEX)' 'VAUTROT Michel (FRA)'\n",
      " 'ESCHWEILER Walter (GER)' 'SORIANO ALADREN Emilio (ESP)'\n",
      " 'CHRISTOV Vojtech (TCH)' 'FREDRIKSSON Erik (SWE)'\n",
      " 'LABO REVOREDO Enrique (PER)' 'LAMO CASTILLO Augusto (ESP)'\n",
      " 'DWOMOH Benjamin (GHA)' 'SILES Jesus Paulino (CRC)'\n",
      " 'AL DOY Ebrahim (BHR)' 'LUND-SORENSEN Henning (DEN)' 'ORTIZ Hector (PAR)'\n",
      " 'WOEHRER Franz (AUT)' 'SOCHA David (USA)' 'CODESAL MENDEZ Edgardo (MEX)'\n",
      " 'COURTNEY George (ENG)' 'GONZALEZ ROA Gabriel (PAR)' 'QUINIOU Joel (FRA)'\n",
      " 'DAINA Andre (SUI)' 'SILVA VALENTE Carlos Alberto (POR)'\n",
      " 'ULLOA MORERA Berny (CRC)' 'KIRSCHEN Siegfried (GER)'\n",
      " 'SILVA ARCE Hernan (CHI)' 'MARQUEZ RAMIREZ Antonio (MEX)'\n",
      " 'IGNA Ioan (ROU)' 'PETROVIC Zoran (SRB)' 'MARTINEZ BAZAN Jose Luis (URU)'\n",
      " 'ESPOSITO Carlos (ARG)' 'AGNOLIN Luigi (ITA)' 'PICON-ACKONG Edwin (MRI)'\n",
      " 'KEIZER Jan (NED)' 'PONNET Alexis (BEL)' 'AL SHANAR Fallaj Khuzam (KSA)'\n",
      " 'URREA Joaquin (MEX)' 'ARPPI FILHO Romualdo (BRA)' 'BENNACEUR Ali (TUN)'\n",
      " 'NEMETH Lajos (HUN)' 'BUTENKO Valeri (RUS)' 'BRUMMEIER Horst (AUT)'\n",
      " 'TRAORE Idrissa (MLI)' 'DIAZ PALACIO Jesus (COL)'\n",
      " 'BAMBRIDGE Christopher (AUS)' 'MAURO Vincent (USA)' 'TAKADA Shizuo (JPN)'\n",
      " 'PEREZ HOYOS Armando (COL)' 'VAN LANGENHOVE Marcel (BEL)'\n",
      " 'MANDI Jassim (BHR)' 'MACIEL Carlos (PAR)' 'SNODDY Alan (NIR)'\n",
      " 'SPIRIN Alexey (RUS)' 'RAMIZ WRIGHT Jose (BRA)' 'JOUINI Neji (TUN)'\n",
      " 'CARDELLINO DE SAN VICENTE Juan (URU)' 'LORENC Richard (AUS)'\n",
      " 'DIRAMBA Jean Fidele (GAB)' 'HANSAL Mohamed (ALG)'\n",
      " 'MAGNI Pierluigi (ITA)' 'MIKKELSEN Peter (DEN)' 'D ELIA Pietro (ITA)'\n",
      " 'LISTKIEWICZ Michal (POL)' 'AL SHARIF Jamal (SYR)'\n",
      " 'JACOME GUERRERO Elias V. (ECU)' 'ROETHLISBERGER Kurt (SUI)'\n",
      " 'KOHL Helmut (AUT)' 'CHRISTENSEN Carl-Johan Meyer (DEN)'\n",
      " 'BRAZZALE Eugene (AUS)' 'TAIBI Ernesto (ARG)' 'DOLSTRA Jan (NED)'\n",
      " 'AL GHATTAN Yousif Abdulla (BAH)' 'CALIX GARCIA Raimundo (HON)'\n",
      " 'MARTON Sandor (HUN)' 'JAMES Douglas Micael (TRI)'\n",
      " 'IVANOV Valentin (RUS)' 'RHARIB El Jilali Mohamed (MAR)'\n",
      " 'PARK Hae-Yong (KOR)' 'DUNSTER Gordon (AUS)' 'ZARATE Venancio (PAR)'\n",
      " 'HASSAN Abdel-Magid (EGY)' 'RAMICONE Domenico (ITA)'\n",
      " 'YLI-KARRO Tapio (FIN)' 'MATTHYS Luc (BEL)' 'FANAEI Mohammad (IRN)'\n",
      " 'ALVES Paulo Jorge (BRA)' 'PEARSON Roy (ENG)' 'EVERSTIG Mikael (SWE)'\n",
      " 'TRESACO GRACIA Fernando (ESP)' 'ABDUL HAMID Halim (MAS)'\n",
      " 'DANTE Dramane (MLI)' 'GALVAN Celestino (PAR)' 'SALIE Achmat (RSA)'\n",
      " 'ROSSI Claudio (ARG)' 'PINTO Arnaldo (BRA)' 'TORRES ZUNIGA Luis (CRC)'\n",
      " 'FRED Lencie (VAN)' 'MAZZEI Gennaro (ITA)' 'VAN DEN BROECK Marc (BEL)'\n",
      " 'POWELL Owen (JAM)' 'GRIGORESCU Nicolae (ROU)' 'JEON Young Hyun (KOR)'\n",
      " 'AL MUSAWI Mohamed (OMA)' 'MANSRI Mohamed (TUN)' 'AMLER Evzen (CZE)'\n",
      " 'DUPANOV Yuri (BLR)' 'GHADANFARI Hussain (KUW)' 'ARANGO Jorge Luis (COL)'\n",
      " 'SALINAS Reynaldo (HON)' 'DIAZ GALVEZ Jorge (CHI)'\n",
      " 'SOLDATOS Aristidis Chris (RSA)' 'GONZALES Merere (TRI)'\n",
      " 'FOLEY Eddie (IRL)' 'POCIEGIEL Jacek (POL)' 'ZAMMIT Emanuel (MLT)'\n",
      " 'NILSSON Mikael (SWE)' 'RAUSIS Laurent (SUI)' 'SCHNEIDER Erich (GER)'\n",
      " 'POUDEVIGNE Jacques (FRA)' 'WARREN Mark (ENG)'\n",
      " 'WICKRAMATUNGA Nimal (SRI)' 'ALTRAIFI Ali (KSA)' 'HASSOUNEH Awni (JOR)'\n",
      " 'AWANG HAMAT Mat Lazim (MAS)' 'GIACOMUZZI Miguel (PAR)'\n",
      " 'ARNAULT Frederic (FRA)' 'SRAMKA Igor (SVK)' 'OLIVEIRA Jorge (BRA)'\n",
      " 'TOMUSANGE Ali (UGA)' 'KRISHNAN Visva (SIN)' 'VERGARA Hector (CAN)'\n",
      " 'KOMALEESWARAN Sankar (IND)' 'MATOS Carlos (POR)' 'KOLEIT Haidar (LIB)'\n",
      " 'DORIRI Elise (VAN)' 'RAGOONATH Michael (TRI)' 'FIERRO Bomer (ECU)'\n",
      " 'LARSEN Jens (DEN)' 'SZEKELY Ferenc (HUN)' 'VAN NYLEN Roland (BEL)'\n",
      " 'FERNANDEZ Vladimir (SLV)' 'FARAG Wagih (EGY)' 'RATTALINO Jorge (ARG)'\n",
      " 'LINDBERG Leif (SWE)' 'SHARP Philip (ENG)' 'MUELLER Heiner (GER)'\n",
      " 'ADJENGUI Taoufik (TUN)' 'BEREUTER Egon (AUT)' 'SMITH Paul (NZL)'\n",
      " 'POOL Jaap (NED)' 'WIERZBOWSKI Maciej (POL)' 'SAEED Mohamed (MDV)'\n",
      " 'CHARLES Curtis (ATG)' 'GARCIA Dario (ARG)' 'HIROSHIMA Yoshikazu (JPN)'\n",
      " 'CAMARGO Jose Luis (MEX)' 'PERMPANICH Prachya (THA)'\n",
      " 'HERMANS Peter (BEL)' 'SCHRAER Christian (GER)' 'COPELLI Cristiano (ITA)'\n",
      " 'RIAL Walter (URU)' 'ANDINO Amelio (PAR)' 'TAVARES Aristeu (BRA)'\n",
      " 'GOLUBEV Nikolai (RUS)' 'RAMIREZ Jose (MEX)' 'BURAGINA Francesco (SUI)'\n",
      " 'GIBSON Nathan (AUS)' 'GIRALDEZ CARRASCO Victoriano (ESP)'\n",
      " 'NTAGUNGIRA Celestin (RWA)' 'Roman SLYSKO (SVK)' 'TAMAYO Fernando (ECU)'\n",
      " 'DAGORNE Lionel (FRA)' 'ILYASOV Rafael (UZB)' 'SAGARA Toru (JPN)'\n",
      " 'HINTZ Jan Hendrik (NZL)' 'SALVER Jan-Hendrik (GER)'\n",
      " 'HAUSMANN Altemir (BRA)' 'LEAL Leonel (CRC)' 'CASAS Ricardo (ARG)'\n",
      " 'DANSAULT Eric (FRA)' 'CARDINAL Jose (POR)' 'FANDINO Pablo (URU)'\n",
      " 'EROS Gabor (HUN)' 'MENKOUANDE Evarist (CMR)' 'Darren CANN (ENG)'\n",
      " 'ARNET Matthias (SUI)' 'GONZALEZ Abraham (COL)' 'KAMRANIFAR Hassan (IRN)'\n",
      " 'MARTINEZ Fermin (ESP)' 'ACHIK Redouane (MAR)' 'CALCAGNO Paolo (ITA)'\n",
      " 'BASUALTO Patricio (CHI)' 'CLAVIJO Humberto (COL)'\n",
      " 'Renato FAVERANI (ITA)' 'YEO Songuifolo (CIV)' 'HURD Sean (USA)'\n",
      " 'BORSCH Mark (GER)' 'Sander VAN ROEKEL (NED)' 'ASTROZA Carlos (CHI)'\n",
      " 'RASULOV Abduxamidullo (UZB)' 'DE CARVALHO Emerson (BRA)'\n",
      " 'TORRES William (SLV)' 'RISTIC Milovan (SRB)' 'LESCANO Christian (ECU)'\n",
      " 'KLASENIUS Mathias (SWE)' 'TORRENTERA Marvin (MEX)'\n",
      " 'DURAN Bahattin (TUR)' 'MAIDANA Hernan (ARG)' 'MIRANDA Bertino (POR)'\n",
      " 'MULLARKEY Michael (ENG)' 'ALONSO FERNANDEZ Roberto (ESP)'\n",
      " 'CREAM Matthew (AUS)' 'DIAZ Eduardo (COL)' 'TULEFAT Yaser (BHR)']\n",
      "------------------------------------------------------\n",
      "Assistant 2\n",
      "\n",
      "['REGO Gilberto (BRA)' 'WARNKEN Alberto (CHI)' 'BALWAY Thomas (FRA)'\n",
      " 'MATEUCCI Francisco (URU)' 'RADULESCU Constantin (ROU)'\n",
      " 'LANGENUS Jean (BEL)' 'TEJADA Anibal (URU)' 'CRISTOPHE Henry (BEL)'\n",
      " 'VALLEJO Gaspar (MEX)' 'LOMBARDI Domingo (URU)' 'SAUCEDO Ulises (BOL)'\n",
      " 'BAERT Louis (BEL)' 'SASSI Otello (ITA)' 'BONIVENTO Ferruccio (ITA)'\n",
      " 'TURBIANI Giuseppe (ITA)' 'BAERT Jacques (FRA)' 'IVANCSICS Mihaly (HUN)'\n",
      " 'ZENISEK Bohumil (TCH)' 'SCORZONI Raffaele (ITA)'\n",
      " 'VAN MOORSEL Johannes (NED)' 'BIRLEM Alfred (GER)' 'ESCARTIN Pedro (ESP)'\n",
      " 'WEINGARTNER Karl (AUT)' 'MERKCX Jean (FRA)' 'TREHOU D. (FRA)'\n",
      " 'KISSENBERGER Ernest (FRA)' 'SDEZ Victor (FRA)' 'MARENCO Paul (FRA)'\n",
      " 'DE LA SALLE Charles (FRA)' 'BOUTOURE D. (FRA)' 'EKLIND Ivan (SWE)'\n",
      " 'SCARPI Giuseppe (ITA)' 'VALPREDE Ferdinand (FRA)' 'KRIST Gustav (TCH)'\n",
      " 'MITCHELL George (SCO)' 'DAHLNER Gunnar (SWE)' 'TEJADA Carlos (MEX)'\n",
      " 'DATTILO Generoso (ITA)' 'DE NICOLA Cayetano (PAR)'\n",
      " 'VAN DER MEER Karel (NED)' 'ALVAREZ Alfredo (BOL)'\n",
      " 'GARCIA Prudencio (USA)' 'GALEATI Giovanni (ITA)'\n",
      " 'DA COSTA VIEIRA Jose (POR)' 'LEMESIC Leo (YUG)'\n",
      " 'BUSTAMANTE Sergio (CHI)' 'SCHICKER Werner (SUI)' 'GULDE Josef (SUI)'\n",
      " 'ASENSI Manuel (ESP)' 'MERLOTTI Armand (SUI)' 'STEINER Carl (AUT)'\n",
      " 'RUFFLI Willy (SUI)' 'MARINO Esteban (URU)' 'GUIDI Denilo (SUI)'\n",
      " 'BAUMBERGER Rene (SUI)' 'VON GUNTER Albert (SUI)'\n",
      " 'GRIFFITHS Benjamin (WAL)' 'SCHONHOLZER Ernest (SUI)'\n",
      " 'STEFANOVIC Vasa (YUG)' 'SCHMETZER Emil (FRG)' 'DOERFLINGER Ernst (SUI)'\n",
      " 'LING William (ENG)' 'ORLANDINI Vincenzo (ITA)' 'BUCHMUELLER Fritz (SUI)'\n",
      " 'WYSSLING Paul (SUI)' 'VINCENTI Raymond (FRA)' 'ELLIS Arthur (ENG)'\n",
      " 'ERIKSSON Arne (FIN)' 'JORGENSEN Carl Frederik (DEN)' 'AHLNER Sten (SWE)'\n",
      " 'VAN NUFFEL Lucien (BEL)' 'BROZZI Juan (ARG)' 'MACKO Martin (TCH)'\n",
      " 'BRONKHORST Jan (NED)' 'FERNANDES CAMPOS Joaquim (POR)'\n",
      " 'ZSOLT Istvan (HUN)' 'CODESAL Jose Maria (URU)' 'ANDREN Bengt (SWE)'\n",
      " 'DRAGVOLL Georg (NOR)' 'ACKEBORN Gosta (SWE)' 'SEIPELT Fritz (AUT)'\n",
      " 'HELGE Leo (DEN)' 'LATYCHEV Nikolaj (URS)' 'MOWAT Jack (SCO)'\n",
      " 'GARDEAZABAL Juan (ESP)' 'DUSCH Albert (GER)' 'LEAFE Reginald (ENG)'\n",
      " 'LUNDELL Bengt (SWE)' 'GALBA Karol (TCH)' 'SCHWINTE Pierre (FRA)'\n",
      " 'MORGAN Raymond (CAN)' 'YAMASAKI MALDONADO Arturo (MEX)'\n",
      " 'ROBLES Carlos (CHI)' 'VAN ROSBERG Walter Jose (CUW)'\n",
      " 'GOLDSTEIN Leo (USA)' 'VENTRE Luis Antonio (ARG)' 'JONNI Cesare (ITA)'\n",
      " 'DIENST Gottfried (SUI)' 'BUERGO Fernando (MEX)' 'SILVA Luis (CHI)'\n",
      " 'SUNDHEIM Jose Antonio (COL)' 'HORN Leo (NED)' 'BULNES R. (CHI)'\n",
      " 'RUMENTCHEV Dimitar (BUL)' 'SILVA Jose Antonio (CHI)'\n",
      " 'DOROGI Andor (HUN)' 'DAVIDSON Bob (SCO)' 'LOEOEW Bertil (SWE)'\n",
      " 'TAYLOR John (ENG)' 'CLEMENTS William (ENG)' 'ZECEVIC Konstantin (YUG)'\n",
      " 'KREITLEIN Rudolf (GER)' 'MARQUES Armando (BRA)' 'PHILLIPS Hugh (SCO)'\n",
      " 'FINNEY Jim (ENG)' 'TSCHENSCHER Kurt (GER)' 'KANDIL Aly Hussein (EGY)'\n",
      " 'ASHKENAZI Menachem (ISR)' 'LO BELLO Concetto (ITA)'\n",
      " 'BAKHRAMOV Tofik (URS)' 'DAGNALL Kenneth (ENG)' 'CHOI Duk Ryong (PRK)'\n",
      " 'TAREKEGN Seyoum (ETH)' 'MARUYAMA Yoshiyuki (JPN)' 'DE LEO Diego (MEX)'\n",
      " 'VELASQUEZ Guillermo (COL)' 'HORVAT Drago (YUG)'\n",
      " 'SBARDELLA Antonio (ITA)' 'LORAUX Vital (BEL)'\n",
      " 'SALDANHA RIBEIRO Antonio (POR)' 'MACHIN Roger (FRA)'\n",
      " 'RADULESCU Andrei (ROU)' 'DE MORAES Ayrton Vieira (BRA)'\n",
      " 'VAN RAVENS Laurens (NED)' 'MARSCHALL Ferdinand (AUT)'\n",
      " 'HORMAZABAL DIAZ Rafael (CHI)' 'LANDAUER Henry (USA)'\n",
      " 'ORTIZ DE MENDIBIL Jose Maria (ESP)' 'EMSBERGER Gyula (HUN)'\n",
      " 'GLOECKNER Rudolf (GDR)' 'AGUILAR ELIZALDE Abel (MEX)'\n",
      " 'COEREZZA Norberto Angel (ARG)' 'PESTARINO Luis (ARG)'\n",
      " 'WINSEMANN Werner (CAN)' 'DELGADO Omar (COL)'\n",
      " 'WEYLAND Hans Joachim (FRG)' 'RAINEA Nicolae (ROU)'\n",
      " 'SUPPIAH George (SIN)' 'PEREZ NUNEZ Edison A. (PER)'\n",
      " 'LINEMAYR Erich (AUT)' 'BARRETO RUIZ Ramon (URU)' 'THOMAS Clive (WAL)'\n",
      " 'OHMSEN Klaus (GER)' 'ESCHWEILER Walter (GER)' 'VAN GEMERT Arie (NED)'\n",
      " 'NDIAYE Birame (SEN)' 'ALDINGER Heinz (GER)' 'SCHULENBURG Gerhard (GER)'\n",
      " 'BOSKOVIC Tony (AUS)' 'KAZAKOV Pavel (URS)' 'SANCHEZ IBANEZ Pablo (ESP)'\n",
      " 'SCHEURER Ruedi (SUI)' 'LLOBREGAT Vicente (VEN)' 'COMESANA Miguel (ARG)'\n",
      " 'SILVAGNO CAVANNA Juan (CHI)' 'GONELLA Sergio (ITA)'\n",
      " 'PARTRIDGE Pat (ENG)' 'NAMDAR Jafar (IRN)' 'IVANOV Anatoly (URS)'\n",
      " 'MARTINEZ Angel (ESP)' 'GORDON John (SCO)' 'RION Francis (BEL)'\n",
      " 'ITHURRALDE Arturo Andres (ARG)' 'SEOUDI Hedi (TUN)'\n",
      " 'COELHO Arnaldo (BRA)' 'CORVER Charles (NED)'\n",
      " 'GEBREYESUS DIFUE Tesfaye (ERI)' 'PROKOP Adolf (GDR)'\n",
      " 'BOUZO Farouk (SYR)' 'NDIAYE Youssou (SEN)' 'OROZCO GUERRERO Cesar (PER)'\n",
      " 'GARRIDO Antonio (POR)' 'GONZALEZ ARCHUNDIA Alfonso (MEX)'\n",
      " 'PALOTAI Karoly (HUN)' 'JARGUZ Alojzy (POL)'\n",
      " 'GARCIA CARRION Jose L. (ESP)' 'LUND-SORENSEN Henning (DEN)'\n",
      " 'EL GHOUL Yusef Mohamed (LBY)' 'CASARIN Paolo (ITA)'\n",
      " 'BARRANCOS Luis (BOL)' 'ARISTIZABAL MURCIA Gilberto (COL)'\n",
      " 'VALENTINE Robert (SCO)' 'KLEIN Abraham (ISR)'\n",
      " 'RUBIO VAZQUEZ Mario (MEX)' 'WHITE Clive (ENG)' 'AL DOY Ebrahim (BHR)'\n",
      " 'MATOVINOVIC Damir (CRO)' 'SANCHEZ ARMINIO Victoriano (ESP)'\n",
      " 'LACARNE Belaid (ALG)' 'PONNET Alexis (BEL)' 'CASTRO Gaston (CHI)'\n",
      " 'MENDEZ MOLINA Romulo (GUA)' 'DOTCHEV Bogdan (BUL)'\n",
      " 'CHRISTOV Vojtech (TCH)' 'ROTH Volker (GER)' 'ULLOA MORERA Berny (CRC)'\n",
      " 'KEIZER Jan (NED)' 'BRUMMEIER Horst (AUT)' 'DIAZ PALACIO Jesus (COL)'\n",
      " 'TRAORE Idrissa (MLI)' 'PETROVIC Zoran (SRB)' 'AL SHARIF Jamal (SYR)'\n",
      " 'SOCHA David (USA)' 'AL SHANAR Fallaj Khuzam (KSA)'\n",
      " 'SILVA VALENTE Carlos Alberto (POR)' 'SNODDY Alan (NIR)'\n",
      " 'TAKADA Shizuo (JPN)' 'BUTENKO Valeri (RUS)'\n",
      " 'BAMBRIDGE Christopher (AUS)' 'QUINIOU Joel (FRA)'\n",
      " 'KIRSCHEN Siegfried (GER)' 'NEMETH Lajos (HUN)' 'IGNA Ioan (ROU)'\n",
      " 'ARPPI FILHO Romualdo (BRA)' 'DAINA Andre (SUI)'\n",
      " 'GONZALEZ ROA Gabriel (PAR)' 'MARTINEZ BAZAN Jose Luis (URU)'\n",
      " 'SILVA ARCE Hernan (CHI)' 'AGNOLIN Luigi (ITA)' 'COURTNEY George (ENG)'\n",
      " 'ESPOSITO Carlos (ARG)' 'BENNACEUR Ali (TUN)' 'FREDRIKSSON Erik (SWE)'\n",
      " 'LISTKIEWICZ Michal (POL)' 'SCHMIDHUBER Aron (GER)' 'JOUINI Neji (TUN)'\n",
      " 'JACOME GUERRERO Elias V. (ECU)' 'ROETHLISBERGER Kurt (SUI)'\n",
      " 'CARDELLINO DE SAN VICENTE Juan (URU)' 'PEREZ HOYOS Armando (COL)'\n",
      " 'DIRAMBA Jean Fidele (GAB)' 'PAIRETTO Pierluigi (ITA)'\n",
      " 'MANDI Jassim (BHR)' 'CODESAL MENDEZ Edgardo (MEX)'\n",
      " 'LO BELLO Rosario (ITA)' 'LOUSTAU Juan (ARG)' 'SPIRIN Alexey (RUS)'\n",
      " 'LONGHI Carlo (ITA)' 'LANESE Tullio (ITA)' 'VAUTROT Michel (FRA)'\n",
      " 'SMITH George (SCO)' 'MAURO Vincent (USA)' 'HANSAL Mohamed (ALG)'\n",
      " 'D ELIA Pietro (ITA)' 'MIKKELSEN Peter (DEN)' 'PEARSON Roy (ENG)'\n",
      " 'DUNSTER Gordon (AUS)' 'ZARATE Venancio (PAR)' 'PARK Hae-Yong (KOR)'\n",
      " 'JAMES Douglas Micael (TRI)' 'YLI-KARRO Tapio (FIN)'\n",
      " 'IVANOV Valentin (RUS)' 'AL GHATTAN Yousif Abdulla (BAH)'\n",
      " 'MARTON Sandor (HUN)' 'RAMICONE Domenico (ITA)' 'DOLSTRA Jan (NED)'\n",
      " 'BRAZZALE Eugene (AUS)' 'TAIBI Ernesto (ARG)' 'FANAEI Mohammad (IRN)'\n",
      " 'RHARIB El Jilali Mohamed (MAR)' 'EVERSTIG Mikael (SWE)'\n",
      " 'ALVES Paulo Jorge (BRA)' 'HASSAN Abdel-Magid (EGY)'\n",
      " 'CHRISTENSEN Carl-Johan Meyer (DEN)' 'MATTHYS Luc (BEL)'\n",
      " 'CALIX GARCIA Raimundo (HON)' 'ARANGO Jorge Luis (COL)'\n",
      " 'WICKRAMATUNGA Nimal (SRI)' 'MANSRI Mohamed (TUN)'\n",
      " 'SALINAS Reynaldo (HON)' 'GHADANFARI Hussain (KUW)'\n",
      " 'DIAZ GALVEZ Jorge (CHI)' 'GONZALES Merere (TRI)' 'DUPANOV Yuri (BLR)'\n",
      " 'SCHNEIDER Erich (GER)' 'ZAMMIT Emanuel (MLT)' 'FOLEY Eddie (IRL)'\n",
      " 'POCIEGIEL Jacek (POL)' 'POUDEVIGNE Jacques (FRA)' 'DANTE Dramane (MLI)'\n",
      " 'ABDUL HAMID Halim (MAS)' 'NILSSON Mikael (SWE)' 'RAUSIS Laurent (SUI)'\n",
      " 'WARREN Mark (ENG)' 'TRESACO GRACIA Fernando (ESP)' 'ROSSI Claudio (ARG)'\n",
      " 'GALVAN Celestino (PAR)' 'TORRES ZUNIGA Luis (CRC)' 'PINTO Arnaldo (BRA)'\n",
      " 'POWELL Owen (JAM)' 'SALIE Achmat (RSA)' 'AL MUSAWI Mohamed (OMA)'\n",
      " 'VAN DEN BROECK Marc (BEL)' 'MAZZEI Gennaro (ITA)'\n",
      " 'GRIGORESCU Nicolae (ROU)' 'AMLER Evzen (CZE)'\n",
      " 'SOLDATOS Aristidis Chris (RSA)' 'JEON Young Hyun (KOR)'\n",
      " 'FRED Lencie (VAN)' 'RATTALINO Jorge (ARG)' 'VAN NYLEN Roland (BEL)'\n",
      " 'RAGOONATH Michael (TRI)' 'MUELLER Heiner (GER)' 'CHARLES Curtis (ATG)'\n",
      " 'BEREUTER Egon (AUT)' 'FERNANDEZ Vladimir (SLV)' 'SHARP Philip (ENG)'\n",
      " 'ADJENGUI Taoufik (TUN)' 'POOL Jaap (NED)' 'LINDBERG Leif (SWE)'\n",
      " 'SMITH Paul (NZL)' 'HASSOUNEH Awni (JOR)' 'KRISHNAN Visva (SIN)'\n",
      " 'WIERZBOWSKI Maciej (POL)' 'AWANG HAMAT Mat Lazim (MAS)'\n",
      " 'SAEED Mohamed (MDV)' 'MUDZAMIRI Brighton (ZIM)' 'ALTRAIFI Ali (KSA)'\n",
      " 'FIERRO Bomer (ECU)' 'LARSEN Jens (DEN)' 'KOLEIT Haidar (LIB)'\n",
      " 'TOMUSANGE Ali (UGA)' 'FARAG Wagih (EGY)' 'KOMALEESWARAN Sankar (IND)'\n",
      " 'DORIRI Elise (VAN)' 'SZEKELY Ferenc (HUN)' 'ARNAULT Frederic (FRA)'\n",
      " 'OLIVEIRA Jorge (BRA)' 'SRAMKA Igor (SVK)' 'VERGARA Hector (CAN)'\n",
      " 'GIACOMUZZI Miguel (PAR)' 'OTERO Rodolfo (ARG)' 'KIM Dae Young (KOR)'\n",
      " 'LEAL Leonel (CRC)' 'GHULOUM Eisa (UAE)' 'VROMANS Walter (BEL)'\n",
      " 'SALVER Jan-Hendrik (GER)' 'STAGNOLI Alessandro (ITA)'\n",
      " 'FANDINO Pablo (URU)' 'NDOYE Mamadou (SEN)' 'BERNAL Manuel (PAR)'\n",
      " 'CORONA Ednilson (BRA)' 'TURNER Glenn (ENG)' 'VOLNIN Evgueni (RUS)'\n",
      " 'ARNET Matthias (SUI)' 'WILSON Ben (AUS)' 'MEDINA HERNANDEZ Pedro (ESP)'\n",
      " 'ADERODJOU Aboudou (BEN)' 'BALKO Martin (SVK)' 'NAVIA Jose (COL)'\n",
      " 'TEXIER Vincent (FRA)' 'KOCHKAROV Bakhadyr (KGZ)' 'JEONG Hae Sang (KOR)'\n",
      " 'MAKASINI Tevita (TGA)' 'PICKEL Mike (GER)' 'BRAATZ Roberto (BRA)'\n",
      " 'PASTRANA Carlos (HON)' 'MAIDANA Hernan (ARG)' 'MORIN Alberto (MEX)'\n",
      " 'UGO Laurent (FRA)' 'MIRANDA Bertino (POR)' 'TORRENTERA Marvin (MEX)'\n",
      " 'MOLEFE Enock (RSA)' 'ESPINOSA Mauricio (URU)' 'VAMOS Tibor (HUN)'\n",
      " 'HASSANI Bechir (TUN)' 'MULLARKEY Michael (ENG)'\n",
      " 'BURAGINA Francesco (SUI)' 'CLAVIJO Humberto (COL)'\n",
      " 'AL MARZOUQI Saleh (UAE)' 'YUSTE Juan (ESP)'\n",
      " 'MANUEL CANDIDO Inacio (ANG)' 'AYROLDI Stefano (ITA)'\n",
      " 'MONDRIA Francisco (CHI)' 'NAGI Toshiyuki (JPN)' 'DIAZ Eduardo (COL)'\n",
      " 'Andrea STEFANI (ITA)' 'BIRUMUSHAHU Jean Claude (BDI)'\n",
      " 'FLETCHER Joe (CAN)' 'LUPP Stefan (GER)' 'Erwin ZEINSTRA (NED)'\n",
      " 'ROMAN Sergio (CHI)' 'VAN GASSE Marcelo (BRA)' 'ZUMBA Juan (SLV)'\n",
      " 'DJURDJEVIC Dalibor (SRB)' 'ROMERO Byron (ECU)' 'WARNMARK Daniel (SWE)'\n",
      " 'QUINTERO Marcos (MEX)' 'ONGUN Tarik (TUR)' 'BELATTI Juan Pablo (ARG)'\n",
      " 'ETCHIALI Abdelhak (ALG)' 'TRIGO Jose (POR)' 'Darren CANN (ENG)'\n",
      " 'ANAZ Hakan (AUS)' 'RULE Mark (NZL)' 'LESCANO Christian (ECU)'\n",
      " 'SALEH Ebrahim (BHR)' 'KABANDA Felicien (RWA)']\n",
      "------------------------------------------------------\n",
      "RoundID\n",
      "\n",
      "[2.01000e+02 2.02000e+02 4.05000e+02 2.04000e+02 4.18000e+02 3.49200e+03\n",
      " 3.49100e+03 3.49000e+03 2.06000e+02 4.29000e+02 3.48900e+03 3.48800e+03\n",
      " 3.48700e+03 2.08000e+02 2.09000e+02 2.11000e+02 2.12000e+02 4.62000e+02\n",
      " 3.48500e+03 3.48400e+03 2.20000e+02 2.21000e+02 4.88000e+02 3.48300e+03\n",
      " 3.48200e+03 2.31000e+02 2.32000e+02 5.14000e+02 3.48100e+03 3.48000e+03\n",
      " 2.38000e+02 2.39000e+02 5.36000e+02 3.47900e+03 3.47800e+03 2.50000e+02\n",
      " 2.51000e+02 5.69000e+02 3.47700e+03 3.47600e+03 2.62000e+02 2.63000e+02\n",
      " 2.64000e+02 6.05000e+02 2.78000e+02 2.79000e+02 2.80000e+02 6.39000e+02\n",
      " 2.93000e+02 2.94000e+02 2.95000e+02 6.76000e+02 3.47500e+03 3.08000e+02\n",
      " 3.09000e+02 7.14000e+02 3.46900e+03 3.46800e+03 3.46700e+03 3.22000e+02\n",
      " 3.23000e+02 7.51000e+02 3.46400e+03 3.46300e+03 3.46200e+03 3.37000e+02\n",
      " 3.38000e+02 7.96000e+02 3.46100e+03 3.46000e+03 3.45900e+03 1.01400e+03\n",
      " 1.02400e+03 1.02500e+03 1.02600e+03 1.02800e+03 1.02700e+03 4.39501e+07\n",
      " 4.39502e+07 4.39503e+07 4.39504e+07 4.39505e+07 4.39506e+07 9.74101e+07\n",
      " 9.74102e+07 9.74103e+07 9.74104e+07 9.74105e+07 9.74106e+07 2.49722e+05\n",
      " 2.49717e+05 2.49718e+05 2.49719e+05 2.49720e+05 2.49721e+05 2.55931e+05\n",
      " 2.55951e+05 2.55953e+05 2.55955e+05 2.55957e+05 2.55959e+05]\n",
      "------------------------------------------------------\n",
      "MatchID\n",
      "\n",
      "[1.09600000e+03 1.09000000e+03 1.09300000e+03 1.09800000e+03\n",
      " 1.08500000e+03 1.09500000e+03 1.09200000e+03 1.09700000e+03\n",
      " 1.09900000e+03 1.09400000e+03 1.08600000e+03 1.09100000e+03\n",
      " 1.08900000e+03 1.10000000e+03 1.08400000e+03 1.08800000e+03\n",
      " 1.10100000e+03 1.08700000e+03 1.10400000e+03 1.11900000e+03\n",
      " 1.13300000e+03 1.10200000e+03 1.10800000e+03 1.11100000e+03\n",
      " 1.13500000e+03 1.14100000e+03 1.14300000e+03 1.12900000e+03\n",
      " 1.12200000e+03 1.10600000e+03 1.12300000e+03 1.10700000e+03\n",
      " 1.13000000e+03 1.10500000e+03 1.13400000e+03 1.16500000e+03\n",
      " 1.17300000e+03 1.14600000e+03 1.15600000e+03 1.17900000e+03\n",
      " 1.15000000e+03 1.17200000e+03 1.15700000e+03 1.16600000e+03\n",
      " 1.15200000e+03 1.17500000e+03 1.15800000e+03 1.16400000e+03\n",
      " 1.15300000e+03 1.17600000e+03 1.14900000e+03 1.15100000e+03\n",
      " 1.17400000e+03 1.18700000e+03 1.19200000e+03 1.20800000e+03\n",
      " 1.21900000e+03 1.23000000e+03 1.18800000e+03 1.22500000e+03\n",
      " 1.19300000e+03 1.22800000e+03 1.20200000e+03 1.19100000e+03\n",
      " 1.19900000e+03 1.21800000e+03 1.18500000e+03 1.22200000e+03\n",
      " 1.19400000e+03 1.20700000e+03 1.18900000e+03 1.18600000e+03\n",
      " 1.23100000e+03 1.20600000e+03 1.19000000e+03 1.31500000e+03\n",
      " 1.23600000e+03 1.24900000e+03 1.27600000e+03 1.28300000e+03\n",
      " 1.29400000e+03 1.24000000e+03 1.30000000e+03 1.31300000e+03\n",
      " 1.23800000e+03 1.27500000e+03 1.25200000e+03 1.27700000e+03\n",
      " 1.30400000e+03 1.26300000e+03 1.24300000e+03 1.28400000e+03\n",
      " 1.30100000e+03 1.26400000e+03 1.23700000e+03 1.28500000e+03\n",
      " 1.24800000e+03 1.23300000e+03 1.29500000e+03 1.23900000e+03\n",
      " 1.27800000e+03 1.41500000e+03 1.37200000e+03 1.32300000e+03\n",
      " 1.40700000e+03 1.38600000e+03 1.43400000e+03 1.32600000e+03\n",
      " 1.42100000e+03 1.33900000e+03 1.41800000e+03 1.42300000e+03\n",
      " 1.38800000e+03 1.33200000e+03 1.39100000e+03 1.32400000e+03\n",
      " 1.40600000e+03 1.43800000e+03 1.34400000e+03 1.38900000e+03\n",
      " 1.40300000e+03 1.42600000e+03 1.38700000e+03 1.32700000e+03\n",
      " 1.32500000e+03 1.37300000e+03 1.42200000e+03 1.40800000e+03\n",
      " 1.34500000e+03 1.39200000e+03 1.43700000e+03 1.38500000e+03\n",
      " 1.39000000e+03 1.34000000e+03 1.38200000e+03 1.34300000e+03\n",
      " 1.47900000e+03 1.46100000e+03 1.44700000e+03 1.47300000e+03\n",
      " 1.56300000e+03 1.49800000e+03 1.49000000e+03 1.50700000e+03\n",
      " 1.56400000e+03 1.46200000e+03 1.45000000e+03 1.47200000e+03\n",
      " 1.47800000e+03 1.49700000e+03 1.47000000e+03 1.51000000e+03\n",
      " 1.56200000e+03 1.46000000e+03 1.45100000e+03 1.47100000e+03\n",
      " 1.48000000e+03 1.54400000e+03 1.46400000e+03 1.53200000e+03\n",
      " 1.47400000e+03 1.45900000e+03 1.52500000e+03 1.51100000e+03\n",
      " 1.55900000e+03 1.45800000e+03 1.47500000e+03 1.46300000e+03\n",
      " 1.63600000e+03 1.65600000e+03 1.59600000e+03 1.71000000e+03\n",
      " 1.65000000e+03 1.67500000e+03 1.57800000e+03 1.60800000e+03\n",
      " 1.65300000e+03 1.64100000e+03 1.59700000e+03 1.60900000e+03\n",
      " 1.60200000e+03 1.57900000e+03 1.68200000e+03 1.63400000e+03\n",
      " 1.68900000e+03 1.58200000e+03 1.59800000e+03 1.67900000e+03\n",
      " 1.63200000e+03 1.59900000e+03 1.63700000e+03 1.61000000e+03\n",
      " 1.57700000e+03 1.66000000e+03 1.67600000e+03 1.70200000e+03\n",
      " 1.65900000e+03 1.63500000e+03 1.70900000e+03 1.63300000e+03\n",
      " 1.90200000e+03 1.88100000e+03 1.78000000e+03 1.81200000e+03\n",
      " 1.88300000e+03 1.83900000e+03 1.77000000e+03 1.74700000e+03\n",
      " 1.88400000e+03 1.89300000e+03 1.91900000e+03 1.75300000e+03\n",
      " 1.88000000e+03 1.77400000e+03 1.76400000e+03 1.82000000e+03\n",
      " 1.92200000e+03 1.84000000e+03 1.76900000e+03 1.82300000e+03\n",
      " 1.87700000e+03 1.77900000e+03 1.81300000e+03 1.75200000e+03\n",
      " 1.88200000e+03 1.81100000e+03 1.76800000e+03 1.92500000e+03\n",
      " 1.77100000e+03 1.83800000e+03 1.84300000e+03 1.76500000e+03\n",
      " 1.98600000e+03 2.00300000e+03 1.95500000e+03 2.17600000e+03\n",
      " 2.09800000e+03 1.99500000e+03 2.08300000e+03 1.95200000e+03\n",
      " 1.95400000e+03 1.98500000e+03 2.00400000e+03 2.18600000e+03\n",
      " 2.09700000e+03 1.99600000e+03 2.08500000e+03 1.94900000e+03\n",
      " 2.17500000e+03 1.95300000e+03 1.98700000e+03 2.06200000e+03\n",
      " 1.99000000e+03 1.94700000e+03 2.18100000e+03 2.12900000e+03\n",
      " 2.06600000e+03 1.98200000e+03 1.94800000e+03 2.16700000e+03\n",
      " 1.94500000e+03 2.17000000e+03 2.06700000e+03 2.06500000e+03\n",
      " 2.06400000e+03 1.98300000e+03 1.94600000e+03 2.18200000e+03\n",
      " 1.98400000e+03 2.06300000e+03 2.35100000e+03 2.34700000e+03\n",
      " 2.43300000e+03 2.19900000e+03 2.25300000e+03 2.21600000e+03\n",
      " 2.45100000e+03 2.38800000e+03 2.39600000e+03 2.45400000e+03\n",
      " 2.35000000e+03 2.19700000e+03 2.24600000e+03 2.22400000e+03\n",
      " 2.40800000e+03 2.39400000e+03 2.34400000e+03 2.43100000e+03\n",
      " 2.35200000e+03 2.20000000e+03 2.21500000e+03 2.33700000e+03\n",
      " 2.40500000e+03 2.39500000e+03 2.34900000e+03 2.22000000e+03\n",
      " 2.25100000e+03 2.20200000e+03 2.45000000e+03 2.22100000e+03\n",
      " 2.34800000e+03 2.19600000e+03 2.39100000e+03 2.21700000e+03\n",
      " 2.25200000e+03 2.20100000e+03 2.24700000e+03 2.19800000e+03\n",
      " 7.49000000e+02 9.95000000e+02 7.91000000e+02 8.33000000e+02\n",
      " 8.96000000e+02 1.05100000e+03 7.41000000e+02 8.78000000e+02\n",
      " 9.01000000e+02 7.64000000e+02 1.01200000e+03 1.04400000e+03\n",
      " 9.94000000e+02 7.52000000e+02 7.90000000e+02 8.34000000e+02\n",
      " 7.74000000e+02 1.05400000e+03 8.13000000e+02 8.89000000e+02\n",
      " 9.03000000e+02 7.39000000e+02 9.19000000e+02 9.59000000e+02\n",
      " 1.05500000e+03 7.79000000e+02 1.07100000e+03 8.28000000e+02\n",
      " 7.51000000e+02 7.89000000e+02 7.40000000e+02 9.22000000e+02\n",
      " 9.62000000e+02 7.70000000e+02 8.82000000e+02 9.02000000e+02\n",
      " 7.67000000e+02 7.82000000e+02 7.53000000e+02 8.79000000e+02\n",
      " 7.71000000e+02 7.83000000e+02 7.50000000e+02 9.00000000e+02\n",
      " 9.20000000e+02 1.05800000e+03 7.88000000e+02 8.77000000e+02\n",
      " 9.96000000e+02 9.14000000e+02 9.21000000e+02 9.23000000e+02\n",
      " 4.59000000e+02 4.68000000e+02 4.39000000e+02 6.10000000e+02\n",
      " 3.95000000e+02 6.74000000e+02 3.79000000e+02 4.28000000e+02\n",
      " 5.38000000e+02 6.28000000e+02 5.17000000e+02 5.85000000e+02\n",
      " 3.94000000e+02 5.71000000e+02 4.60000000e+02 4.75000000e+02\n",
      " 3.77000000e+02 5.33000000e+02 5.51000000e+02 6.80000000e+02\n",
      " 7.01000000e+02 4.27000000e+02 5.22000000e+02 5.80000000e+02\n",
      " 5.67000000e+02 4.76000000e+02 6.43000000e+02 3.89000000e+02\n",
      " 4.29000000e+02 6.27000000e+02 6.75000000e+02 5.37000000e+02\n",
      " 4.41000000e+02 3.78000000e+02 7.12000000e+02 5.12000000e+02\n",
      " 4.32000000e+02 4.63000000e+02 3.98000000e+02 4.44000000e+02\n",
      " 5.68000000e+02 5.74000000e+02 5.36000000e+02 5.11000000e+02\n",
      " 4.40000000e+02 5.75000000e+02 4.21000000e+02 3.92000000e+02\n",
      " 5.64000000e+02 3.88000000e+02 4.22000000e+02 3.93000000e+02\n",
      " 2.60000000e+01 3.42000000e+02 1.19000000e+02 4.20000000e+01\n",
      " 3.55000000e+02 7.50000000e+01 2.01000000e+02 1.27000000e+02\n",
      " 1.61000000e+02 5.70000000e+01 1.51000000e+02 1.80000000e+02\n",
      " 3.00000000e+01 1.08000000e+02 1.20000000e+02 2.65000000e+02\n",
      " 4.30000000e+01 1.98000000e+02 7.30000000e+01 3.48000000e+02\n",
      " 1.60000000e+02 1.52000000e+02 1.75000000e+02 6.60000000e+01\n",
      " 2.90000000e+01 1.11000000e+02 1.14000000e+02 3.64000000e+02\n",
      " 2.63000000e+02 4.80000000e+01 7.40000000e+01 1.28000000e+02\n",
      " 2.90000000e+02 5.60000000e+01 2.28000000e+02 1.50000000e+02\n",
      " 1.02000000e+02 1.29000000e+02 2.50000000e+01 1.96000000e+02\n",
      " 2.48000000e+02 2.64000000e+02 1.81000000e+02 5.50000000e+01\n",
      " 3.10000000e+01 2.43000000e+02 1.97000000e+02 1.03000000e+02\n",
      " 2.80000000e+01 1.59000000e+02 1.62000000e+02 2.70000000e+01\n",
      " 3.05000000e+03 3.04900000e+03 3.05100000e+03 3.05200000e+03\n",
      " 3.05300000e+03 3.05400000e+03 3.05500000e+03 3.05600000e+03\n",
      " 3.05800000e+03 3.05700000e+03 3.05900000e+03 3.06100000e+03\n",
      " 3.06000000e+03 3.06200000e+03 3.06300000e+03 3.06400000e+03\n",
      " 3.06500000e+03 3.06600000e+03 3.06800000e+03 3.06700000e+03\n",
      " 3.06900000e+03 3.07000000e+03 3.07100000e+03 3.07200000e+03\n",
      " 3.07300000e+03 3.07400000e+03 3.07600000e+03 3.07500000e+03\n",
      " 3.07700000e+03 3.08000000e+03 3.07800000e+03 3.07900000e+03\n",
      " 3.08100000e+03 3.08200000e+03 3.08300000e+03 3.08400000e+03\n",
      " 3.08500000e+03 3.08600000e+03 3.08700000e+03 3.08800000e+03\n",
      " 3.08900000e+03 3.09000000e+03 3.09100000e+03 3.09200000e+03\n",
      " 3.09700000e+03 3.09800000e+03 3.09600000e+03 3.09500000e+03\n",
      " 3.10000000e+03 3.09900000e+03 3.10300000e+03 3.10400000e+03\n",
      " 4.00000000e+03 8.72500000e+03 8.72600000e+03 8.72700000e+03\n",
      " 8.72800000e+03 8.72900000e+03 8.73000000e+03 8.73100000e+03\n",
      " 8.73200000e+03 8.73300000e+03 8.73400000e+03 8.73500000e+03\n",
      " 8.73600000e+03 8.74000000e+03 8.73900000e+03 8.73800000e+03\n",
      " 8.74100000e+03 8.74200000e+03 8.74300000e+03 8.74400000e+03\n",
      " 8.74600000e+03 8.74500000e+03 8.74700000e+03 8.74800000e+03\n",
      " 8.75100000e+03 8.75000000e+03 8.74900000e+03 8.75300000e+03\n",
      " 8.75200000e+03 8.75400000e+03 8.75500000e+03 8.75600000e+03\n",
      " 8.75700000e+03 8.76000000e+03 8.75800000e+03 8.75900000e+03\n",
      " 8.76200000e+03 8.76400000e+03 8.76100000e+03 8.76300000e+03\n",
      " 8.76500000e+03 8.76600000e+03 8.76700000e+03 8.76800000e+03\n",
      " 8.77100000e+03 8.77200000e+03 8.76900000e+03 8.77000000e+03\n",
      " 8.77400000e+03 8.77300000e+03 8.77600000e+03 8.77500000e+03\n",
      " 8.77700000e+03 8.77800000e+03 8.78000000e+03 8.77900000e+03\n",
      " 8.78100000e+03 8.78200000e+03 8.78400000e+03 8.78300000e+03\n",
      " 8.78500000e+03 8.78600000e+03 8.78700000e+03 8.78800000e+03\n",
      " 4.39500010e+07 4.39500030e+07 4.39500020e+07 4.39500040e+07\n",
      " 4.39500070e+07 4.39500060e+07 4.39500050e+07 4.39500080e+07\n",
      " 4.39500100e+07 4.39500110e+07 4.39500090e+07 4.39500120e+07\n",
      " 4.39500130e+07 4.39500140e+07 4.39500150e+07 4.39500160e+07\n",
      " 4.39500170e+07 4.39500200e+07 4.39500190e+07 4.39500180e+07\n",
      " 4.39500210e+07 4.39500230e+07 4.39500220e+07 4.39500240e+07\n",
      " 4.39500260e+07 4.39500250e+07 4.39500280e+07 4.39500290e+07\n",
      " 4.39500270e+07 4.39500300e+07 4.39500320e+07 4.39500310e+07\n",
      " 4.39500330e+07 4.39500340e+07 4.39500360e+07 4.39500350e+07\n",
      " 4.39500370e+07 4.39500380e+07 4.39500400e+07 4.39500390e+07\n",
      " 4.39500410e+07 4.39500420e+07 4.39500440e+07 4.39500430e+07\n",
      " 4.39500450e+07 4.39500470e+07 4.39500480e+07 4.39500460e+07\n",
      " 4.39500500e+07 4.39500490e+07 4.39500520e+07 4.39500510e+07\n",
      " 4.39500540e+07 4.39500530e+07 4.39500550e+07 4.39500560e+07\n",
      " 4.39500570e+07 4.39500580e+07 4.39500600e+07 4.39500590e+07\n",
      " 4.39500610e+07 4.39500620e+07 4.39500630e+07 4.39500640e+07\n",
      " 9.74100010e+07 9.74100020e+07 9.74100030e+07 9.74100040e+07\n",
      " 9.74100050e+07 9.74100060e+07 9.74100070e+07 9.74100080e+07\n",
      " 9.74100120e+07 9.74100100e+07 9.74100090e+07 9.74100140e+07\n",
      " 9.74100130e+07 9.74100110e+07 9.74100150e+07 9.74100160e+07\n",
      " 9.74100170e+07 9.74100180e+07 9.74100190e+07 9.74100200e+07\n",
      " 9.74100210e+07 9.74100220e+07 9.74100230e+07 9.74100240e+07\n",
      " 9.74100260e+07 9.74100250e+07 9.74100280e+07 9.74100270e+07\n",
      " 9.74100290e+07 9.74100300e+07 9.74100320e+07 9.74100310e+07\n",
      " 9.74100330e+07 9.74100340e+07 9.74100350e+07 9.74100360e+07\n",
      " 9.74100400e+07 9.74100390e+07 9.74100370e+07 9.74100380e+07\n",
      " 9.74100410e+07 9.74100420e+07 9.74100430e+07 9.74100440e+07\n",
      " 9.74100480e+07 9.74100470e+07 9.74100450e+07 9.74100460e+07\n",
      " 9.74100490e+07 9.74100500e+07 9.74100510e+07 9.74100520e+07\n",
      " 9.74100530e+07 9.74100540e+07 9.74100550e+07 9.74100560e+07\n",
      " 9.74100570e+07 9.74100580e+07 9.74100590e+07 9.74100600e+07\n",
      " 9.74100610e+07 9.74100620e+07 9.74100630e+07 9.74100640e+07\n",
      " 3.00061454e+08 3.00061453e+08 3.00061459e+08 3.00061460e+08\n",
      " 3.00061466e+08 3.00061465e+08 3.00061471e+08 3.00111116e+08\n",
      " 3.00061478e+08 3.00061477e+08 3.00061484e+08 3.00061483e+08\n",
      " 3.00061489e+08 3.00061490e+08 3.00061495e+08 3.00111112e+08\n",
      " 3.00061452e+08 3.00061458e+08 3.00061457e+08 3.00061451e+08\n",
      " 3.00061470e+08 3.00061463e+08 3.00061464e+08 3.00111117e+08\n",
      " 3.00061469e+08 3.00061475e+08 3.00061481e+08 3.00061482e+08\n",
      " 3.00061488e+08 3.00061487e+08 3.00061493e+08 3.00061494e+08\n",
      " 3.00061450e+08 3.00061449e+08 3.00111115e+08 3.00061455e+08\n",
      " 3.00061462e+08 3.00061461e+08 3.00061468e+08 3.00061467e+08\n",
      " 3.00061480e+08 3.00061479e+08 3.00061474e+08 3.00061473e+08\n",
      " 3.00111111e+08 3.00061486e+08 3.00061491e+08 3.00061492e+08\n",
      " 3.00061504e+08 3.00061503e+08 3.00061501e+08 3.00061502e+08\n",
      " 3.00111113e+08 3.00061500e+08 3.00061497e+08 3.00061498e+08\n",
      " 3.00061507e+08 3.00061508e+08 3.00061505e+08 3.00061506e+08\n",
      " 3.00061512e+08 3.00111114e+08 3.00061510e+08 3.00061509e+08\n",
      " 3.00186456e+08 3.00186492e+08 3.00186510e+08 3.00186473e+08\n",
      " 3.00186471e+08 3.00186489e+08 3.00186513e+08 3.00186507e+08\n",
      " 3.00186494e+08 3.00186496e+08 3.00186477e+08 3.00186475e+08\n",
      " 3.00186505e+08 3.00186512e+08 3.00186479e+08 3.00186509e+08\n",
      " 3.00186499e+08 3.00186478e+08 3.00186498e+08 3.00186453e+08\n",
      " 3.00186468e+08 3.00186486e+08 3.00186454e+08 3.00186500e+08\n",
      " 3.00186514e+08 3.00186463e+08 3.00186466e+08 3.00186493e+08\n",
      " 3.00186511e+08 3.00186481e+08 3.00186495e+08 3.00186483e+08\n",
      " 3.00186467e+08 3.00186470e+08 3.00186472e+08 3.00186452e+08\n",
      " 3.00186465e+08 3.00186484e+08 3.00186457e+08 3.00186455e+08\n",
      " 3.00186458e+08 3.00186464e+08 3.00186482e+08 3.00186515e+08\n",
      " 3.00186469e+08 3.00186476e+08 3.00186480e+08 3.00186506e+08\n",
      " 3.00186487e+08 3.00186491e+08 3.00186462e+08 3.00186461e+08\n",
      " 3.00186485e+08 3.00186474e+08 3.00186502e+08 3.00186501e+08\n",
      " 3.00186490e+08 3.00186488e+08 3.00186504e+08 3.00186508e+08\n"
     ]
    },
    {
     "name": "stdout",
     "output_type": "stream",
     "text": [
      " 3.00186459e+08 3.00186503e+08 3.00186497e+08]\n",
      "------------------------------------------------------\n",
      "Home Team Initials\n",
      "\n",
      "['FRA' 'USA' 'YUG' 'ROU' 'ARG' 'CHI' 'URU' 'BRA' 'PAR' 'AUT' 'HUN' 'SUI'\n",
      " 'SWE' 'GER' 'ESP' 'ITA' 'TCH' 'CUB' 'ENG' 'FRG' 'TUR' 'URS' 'NIR' 'MEX'\n",
      " 'WAL' 'POR' 'PRK' 'PER' 'BEL' 'BUL' 'GDR' 'ZAI' 'POL' 'AUS' 'SCO' 'NED'\n",
      " 'HAI' 'TUN' 'ALG' 'HON' 'CAN' 'MAR' 'KOR' 'IRQ' 'DEN' 'UAE' 'CRC' 'CMR'\n",
      " 'IRL' 'COL' 'NOR' 'NGA' 'KSA' 'BOL' 'RUS' 'GRE' 'JAM' 'RSA' 'JPN' 'CRO'\n",
      " 'CHN' 'SEN' 'SVN' 'ECU' 'TRI' 'SCG' 'ANG' 'CZE' 'TOG' 'IRN' 'CIV' 'GHA'\n",
      " 'UKR' 'SRB' 'NZL' 'SVK' 'BIH']\n",
      "------------------------------------------------------\n",
      "Away Team Initials\n",
      "\n",
      "['MEX' 'BEL' 'BRA' 'PER' 'FRA' 'BOL' 'PAR' 'ROU' 'CHI' 'USA' 'YUG' 'ARG'\n",
      " 'EGY' 'NED' 'SUI' 'SWE' 'ESP' 'HUN' 'AUT' 'GER' 'TCH' 'INH' 'NOR' 'POL'\n",
      " 'CUB' 'ITA' 'ENG' 'SCO' 'TUR' 'KOR' 'FRG' 'URU' 'WAL' 'NIR' 'URS' 'COL'\n",
      " 'BUL' 'PRK' 'POR' 'ISR' 'MAR' 'SLV' 'AUS' 'HAI' 'GDR' 'ZAI' 'IRN' 'TUN'\n",
      " 'CMR' 'NZL' 'ALG' 'HON' 'KUW' 'IRQ' 'DEN' 'CAN' 'IRL' 'UAE' 'CRC' 'KSA'\n",
      " 'RUS' 'GRE' 'NGA' 'RSA' 'JPN' 'CRO' 'JAM' 'SEN' 'SVN' 'ECU' 'CHN' 'CIV'\n",
      " 'CZE' 'GHA' 'TOG' 'UKR' 'TRI' 'SCG' 'ANG' 'SVK' 'SRB' 'BIH']\n",
      "------------------------------------------------------\n"
     ]
    }
   ],
   "source": [
    "for i in columns:\n",
    "    print(worldcup_matches_df[i].name)\n",
    "    print( )\n",
    "    print(worldcup_matches_df[i].unique())\n",
    "    print('------------------------------------------------------')\n",
    "    "
   ]
  },
  {
   "cell_type": "code",
   "execution_count": null,
   "id": "74512fa5",
   "metadata": {},
   "outputs": [],
   "source": []
  },
  {
   "cell_type": "code",
   "execution_count": 38,
   "id": "fcf98bb9",
   "metadata": {},
   "outputs": [
    {
     "data": {
      "text/html": [
       "        <script type=\"text/javascript\">\n",
       "        window.PlotlyConfig = {MathJaxConfig: 'local'};\n",
       "        if (window.MathJax && window.MathJax.Hub && window.MathJax.Hub.Config) {window.MathJax.Hub.Config({SVG: {font: \"STIX-Web\"}});}\n",
       "        if (typeof require !== 'undefined') {\n",
       "        require.undef(\"plotly\");\n",
       "        requirejs.config({\n",
       "            paths: {\n",
       "                'plotly': ['https://cdn.plot.ly/plotly-2.12.1.min']\n",
       "            }\n",
       "        });\n",
       "        require(['plotly'], function(Plotly) {\n",
       "            window._Plotly = Plotly;\n",
       "        });\n",
       "        }\n",
       "        </script>\n",
       "        "
      ]
     },
     "metadata": {},
     "output_type": "display_data"
    },
    {
     "data": {
      "text/html": [
       "        <script type=\"text/javascript\">\n",
       "        window.PlotlyConfig = {MathJaxConfig: 'local'};\n",
       "        if (window.MathJax && window.MathJax.Hub && window.MathJax.Hub.Config) {window.MathJax.Hub.Config({SVG: {font: \"STIX-Web\"}});}\n",
       "        if (typeof require !== 'undefined') {\n",
       "        require.undef(\"plotly\");\n",
       "        requirejs.config({\n",
       "            paths: {\n",
       "                'plotly': ['https://cdn.plot.ly/plotly-2.12.1.min']\n",
       "            }\n",
       "        });\n",
       "        require(['plotly'], function(Plotly) {\n",
       "            window._Plotly = Plotly;\n",
       "        });\n",
       "        }\n",
       "        </script>\n",
       "        "
      ]
     },
     "metadata": {},
     "output_type": "display_data"
    }
   ],
   "source": [
    "import plotly as py                \n",
    "import cufflinks as cf\n",
    "from plotly.offline import iplot \n",
    "py.offline.init_notebook_mode(connected=True)      #offline mode jupyter notebook will be connected\n",
    "cf.go_offline()"
   ]
  },
  {
   "cell_type": "code",
   "execution_count": 39,
   "id": "4fab9d46",
   "metadata": {},
   "outputs": [
    {
     "data": {
      "text/html": [
       "<div>\n",
       "<style scoped>\n",
       "    .dataframe tbody tr th:only-of-type {\n",
       "        vertical-align: middle;\n",
       "    }\n",
       "\n",
       "    .dataframe tbody tr th {\n",
       "        vertical-align: top;\n",
       "    }\n",
       "\n",
       "    .dataframe thead th {\n",
       "        text-align: right;\n",
       "    }\n",
       "</style>\n",
       "<table border=\"1\" class=\"dataframe\">\n",
       "  <thead>\n",
       "    <tr style=\"text-align: right;\">\n",
       "      <th></th>\n",
       "      <th>Year</th>\n",
       "      <th>Country</th>\n",
       "      <th>Winner</th>\n",
       "      <th>Runners-Up</th>\n",
       "      <th>Third</th>\n",
       "      <th>Fourth</th>\n",
       "      <th>GoalsScored</th>\n",
       "      <th>QualifiedTeams</th>\n",
       "      <th>MatchesPlayed</th>\n",
       "      <th>Attendance</th>\n",
       "    </tr>\n",
       "  </thead>\n",
       "  <tbody>\n",
       "    <tr>\n",
       "      <th>0</th>\n",
       "      <td>1930</td>\n",
       "      <td>Uruguay</td>\n",
       "      <td>Uruguay</td>\n",
       "      <td>Argentina</td>\n",
       "      <td>USA</td>\n",
       "      <td>Yugoslavia</td>\n",
       "      <td>70</td>\n",
       "      <td>13</td>\n",
       "      <td>18</td>\n",
       "      <td>590.549</td>\n",
       "    </tr>\n",
       "    <tr>\n",
       "      <th>1</th>\n",
       "      <td>1934</td>\n",
       "      <td>Italy</td>\n",
       "      <td>Italy</td>\n",
       "      <td>Czechoslovakia</td>\n",
       "      <td>Germany</td>\n",
       "      <td>Austria</td>\n",
       "      <td>70</td>\n",
       "      <td>16</td>\n",
       "      <td>17</td>\n",
       "      <td>363.000</td>\n",
       "    </tr>\n",
       "    <tr>\n",
       "      <th>2</th>\n",
       "      <td>1938</td>\n",
       "      <td>France</td>\n",
       "      <td>Italy</td>\n",
       "      <td>Hungary</td>\n",
       "      <td>Brazil</td>\n",
       "      <td>Sweden</td>\n",
       "      <td>84</td>\n",
       "      <td>15</td>\n",
       "      <td>18</td>\n",
       "      <td>375.700</td>\n",
       "    </tr>\n",
       "    <tr>\n",
       "      <th>3</th>\n",
       "      <td>1950</td>\n",
       "      <td>Brazil</td>\n",
       "      <td>Uruguay</td>\n",
       "      <td>Brazil</td>\n",
       "      <td>Sweden</td>\n",
       "      <td>Spain</td>\n",
       "      <td>88</td>\n",
       "      <td>13</td>\n",
       "      <td>22</td>\n",
       "      <td>1.045.246</td>\n",
       "    </tr>\n",
       "    <tr>\n",
       "      <th>4</th>\n",
       "      <td>1954</td>\n",
       "      <td>Switzerland</td>\n",
       "      <td>Germany FR</td>\n",
       "      <td>Hungary</td>\n",
       "      <td>Austria</td>\n",
       "      <td>Uruguay</td>\n",
       "      <td>140</td>\n",
       "      <td>16</td>\n",
       "      <td>26</td>\n",
       "      <td>768.607</td>\n",
       "    </tr>\n",
       "    <tr>\n",
       "      <th>5</th>\n",
       "      <td>1958</td>\n",
       "      <td>Sweden</td>\n",
       "      <td>Brazil</td>\n",
       "      <td>Sweden</td>\n",
       "      <td>France</td>\n",
       "      <td>Germany FR</td>\n",
       "      <td>126</td>\n",
       "      <td>16</td>\n",
       "      <td>35</td>\n",
       "      <td>819.810</td>\n",
       "    </tr>\n",
       "    <tr>\n",
       "      <th>6</th>\n",
       "      <td>1962</td>\n",
       "      <td>Chile</td>\n",
       "      <td>Brazil</td>\n",
       "      <td>Czechoslovakia</td>\n",
       "      <td>Chile</td>\n",
       "      <td>Yugoslavia</td>\n",
       "      <td>89</td>\n",
       "      <td>16</td>\n",
       "      <td>32</td>\n",
       "      <td>893.172</td>\n",
       "    </tr>\n",
       "    <tr>\n",
       "      <th>7</th>\n",
       "      <td>1966</td>\n",
       "      <td>England</td>\n",
       "      <td>England</td>\n",
       "      <td>Germany FR</td>\n",
       "      <td>Portugal</td>\n",
       "      <td>Soviet Union</td>\n",
       "      <td>89</td>\n",
       "      <td>16</td>\n",
       "      <td>32</td>\n",
       "      <td>1.563.135</td>\n",
       "    </tr>\n",
       "    <tr>\n",
       "      <th>8</th>\n",
       "      <td>1970</td>\n",
       "      <td>Mexico</td>\n",
       "      <td>Brazil</td>\n",
       "      <td>Italy</td>\n",
       "      <td>Germany FR</td>\n",
       "      <td>Uruguay</td>\n",
       "      <td>95</td>\n",
       "      <td>16</td>\n",
       "      <td>32</td>\n",
       "      <td>1.603.975</td>\n",
       "    </tr>\n",
       "    <tr>\n",
       "      <th>9</th>\n",
       "      <td>1974</td>\n",
       "      <td>Germany</td>\n",
       "      <td>Germany FR</td>\n",
       "      <td>Netherlands</td>\n",
       "      <td>Poland</td>\n",
       "      <td>Brazil</td>\n",
       "      <td>97</td>\n",
       "      <td>16</td>\n",
       "      <td>38</td>\n",
       "      <td>1.865.753</td>\n",
       "    </tr>\n",
       "  </tbody>\n",
       "</table>\n",
       "</div>"
      ],
      "text/plain": [
       "   Year      Country      Winner      Runners-Up       Third        Fourth  \\\n",
       "0  1930      Uruguay     Uruguay       Argentina         USA    Yugoslavia   \n",
       "1  1934        Italy       Italy  Czechoslovakia     Germany       Austria   \n",
       "2  1938       France       Italy         Hungary      Brazil        Sweden   \n",
       "3  1950       Brazil     Uruguay          Brazil      Sweden         Spain   \n",
       "4  1954  Switzerland  Germany FR         Hungary     Austria       Uruguay   \n",
       "5  1958       Sweden      Brazil          Sweden      France    Germany FR   \n",
       "6  1962        Chile      Brazil  Czechoslovakia       Chile    Yugoslavia   \n",
       "7  1966      England     England      Germany FR    Portugal  Soviet Union   \n",
       "8  1970       Mexico      Brazil           Italy  Germany FR       Uruguay   \n",
       "9  1974      Germany  Germany FR     Netherlands      Poland        Brazil   \n",
       "\n",
       "   GoalsScored  QualifiedTeams  MatchesPlayed Attendance  \n",
       "0           70              13             18    590.549  \n",
       "1           70              16             17    363.000  \n",
       "2           84              15             18    375.700  \n",
       "3           88              13             22  1.045.246  \n",
       "4          140              16             26    768.607  \n",
       "5          126              16             35    819.810  \n",
       "6           89              16             32    893.172  \n",
       "7           89              16             32  1.563.135  \n",
       "8           95              16             32  1.603.975  \n",
       "9           97              16             38  1.865.753  "
      ]
     },
     "execution_count": 39,
     "metadata": {},
     "output_type": "execute_result"
    }
   ],
   "source": [
    "worldcups_df.head(10)"
   ]
  },
  {
   "cell_type": "code",
   "execution_count": 40,
   "id": "0a5bc443",
   "metadata": {},
   "outputs": [
    {
     "data": {
      "text/plain": [
       "(20, 10)"
      ]
     },
     "execution_count": 40,
     "metadata": {},
     "output_type": "execute_result"
    }
   ],
   "source": [
    "worldcups_df.shape"
   ]
  },
  {
   "cell_type": "code",
   "execution_count": 41,
   "id": "176faf0c",
   "metadata": {},
   "outputs": [
    {
     "data": {
      "text/html": [
       "<div>\n",
       "<style scoped>\n",
       "    .dataframe tbody tr th:only-of-type {\n",
       "        vertical-align: middle;\n",
       "    }\n",
       "\n",
       "    .dataframe tbody tr th {\n",
       "        vertical-align: top;\n",
       "    }\n",
       "\n",
       "    .dataframe thead th {\n",
       "        text-align: right;\n",
       "    }\n",
       "</style>\n",
       "<table border=\"1\" class=\"dataframe\">\n",
       "  <thead>\n",
       "    <tr style=\"text-align: right;\">\n",
       "      <th></th>\n",
       "      <th>Year</th>\n",
       "      <th>GoalsScored</th>\n",
       "      <th>QualifiedTeams</th>\n",
       "      <th>MatchesPlayed</th>\n",
       "    </tr>\n",
       "  </thead>\n",
       "  <tbody>\n",
       "    <tr>\n",
       "      <th>count</th>\n",
       "      <td>20.000000</td>\n",
       "      <td>20.000000</td>\n",
       "      <td>20.000000</td>\n",
       "      <td>20.000000</td>\n",
       "    </tr>\n",
       "    <tr>\n",
       "      <th>mean</th>\n",
       "      <td>1974.800000</td>\n",
       "      <td>118.950000</td>\n",
       "      <td>21.250000</td>\n",
       "      <td>41.800000</td>\n",
       "    </tr>\n",
       "    <tr>\n",
       "      <th>std</th>\n",
       "      <td>25.582889</td>\n",
       "      <td>32.972836</td>\n",
       "      <td>7.268352</td>\n",
       "      <td>17.218717</td>\n",
       "    </tr>\n",
       "    <tr>\n",
       "      <th>min</th>\n",
       "      <td>1930.000000</td>\n",
       "      <td>70.000000</td>\n",
       "      <td>13.000000</td>\n",
       "      <td>17.000000</td>\n",
       "    </tr>\n",
       "    <tr>\n",
       "      <th>25%</th>\n",
       "      <td>1957.000000</td>\n",
       "      <td>89.000000</td>\n",
       "      <td>16.000000</td>\n",
       "      <td>30.500000</td>\n",
       "    </tr>\n",
       "    <tr>\n",
       "      <th>50%</th>\n",
       "      <td>1976.000000</td>\n",
       "      <td>120.500000</td>\n",
       "      <td>16.000000</td>\n",
       "      <td>38.000000</td>\n",
       "    </tr>\n",
       "    <tr>\n",
       "      <th>75%</th>\n",
       "      <td>1995.000000</td>\n",
       "      <td>145.250000</td>\n",
       "      <td>26.000000</td>\n",
       "      <td>55.000000</td>\n",
       "    </tr>\n",
       "    <tr>\n",
       "      <th>max</th>\n",
       "      <td>2014.000000</td>\n",
       "      <td>171.000000</td>\n",
       "      <td>32.000000</td>\n",
       "      <td>64.000000</td>\n",
       "    </tr>\n",
       "  </tbody>\n",
       "</table>\n",
       "</div>"
      ],
      "text/plain": [
       "              Year  GoalsScored  QualifiedTeams  MatchesPlayed\n",
       "count    20.000000    20.000000       20.000000      20.000000\n",
       "mean   1974.800000   118.950000       21.250000      41.800000\n",
       "std      25.582889    32.972836        7.268352      17.218717\n",
       "min    1930.000000    70.000000       13.000000      17.000000\n",
       "25%    1957.000000    89.000000       16.000000      30.500000\n",
       "50%    1976.000000   120.500000       16.000000      38.000000\n",
       "75%    1995.000000   145.250000       26.000000      55.000000\n",
       "max    2014.000000   171.000000       32.000000      64.000000"
      ]
     },
     "execution_count": 41,
     "metadata": {},
     "output_type": "execute_result"
    }
   ],
   "source": [
    "worldcups_df.describe()"
   ]
  },
  {
   "cell_type": "code",
   "execution_count": 42,
   "id": "c04f3f6b",
   "metadata": {},
   "outputs": [
    {
     "name": "stdout",
     "output_type": "stream",
     "text": [
      "<class 'pandas.core.frame.DataFrame'>\n",
      "RangeIndex: 20 entries, 0 to 19\n",
      "Data columns (total 10 columns):\n",
      " #   Column          Non-Null Count  Dtype \n",
      "---  ------          --------------  ----- \n",
      " 0   Year            20 non-null     int64 \n",
      " 1   Country         20 non-null     object\n",
      " 2   Winner          20 non-null     object\n",
      " 3   Runners-Up      20 non-null     object\n",
      " 4   Third           20 non-null     object\n",
      " 5   Fourth          20 non-null     object\n",
      " 6   GoalsScored     20 non-null     int64 \n",
      " 7   QualifiedTeams  20 non-null     int64 \n",
      " 8   MatchesPlayed   20 non-null     int64 \n",
      " 9   Attendance      20 non-null     object\n",
      "dtypes: int64(4), object(6)\n",
      "memory usage: 1.7+ KB\n"
     ]
    }
   ],
   "source": [
    "worldcups_df.info()"
   ]
  },
  {
   "cell_type": "code",
   "execution_count": 43,
   "id": "911e1365",
   "metadata": {},
   "outputs": [
    {
     "data": {
      "text/plain": [
       "array(['590.549', '363.000', '375.700', '1.045.246', '768.607', '819.810',\n",
       "       '893.172', '1.563.135', '1.603.975', '1.865.753', '1.545.791',\n",
       "       '2.109.723', '2.394.031', '2.516.215', '3.587.538', '2.785.100',\n",
       "       '2.705.197', '3.359.439', '3.178.856', '3.386.810'], dtype=object)"
      ]
     },
     "execution_count": 43,
     "metadata": {},
     "output_type": "execute_result"
    }
   ],
   "source": [
    "worldcups_df['Attendance'].unique()"
   ]
  },
  {
   "cell_type": "code",
   "execution_count": 44,
   "id": "0d67d13a",
   "metadata": {},
   "outputs": [
    {
     "name": "stderr",
     "output_type": "stream",
     "text": [
      "C:\\Users\\LENOVO\\AppData\\Local\\Temp/ipykernel_45780/203140755.py:1: FutureWarning:\n",
      "\n",
      "The default value of regex will change from True to False in a future version. In addition, single character regular expressions will *not* be treated as literal strings when regex=True.\n",
      "\n"
     ]
    }
   ],
   "source": [
    "worldcups_df['Attendance'] = worldcups_df['Attendance'].str.replace('.','')"
   ]
  },
  {
   "cell_type": "code",
   "execution_count": 45,
   "id": "cea43ca9",
   "metadata": {},
   "outputs": [
    {
     "data": {
      "text/plain": [
       "array(['590549', '363000', '375700', '1045246', '768607', '819810',\n",
       "       '893172', '1563135', '1603975', '1865753', '1545791', '2109723',\n",
       "       '2394031', '2516215', '3587538', '2785100', '2705197', '3359439',\n",
       "       '3178856', '3386810'], dtype=object)"
      ]
     },
     "execution_count": 45,
     "metadata": {},
     "output_type": "execute_result"
    }
   ],
   "source": [
    "worldcups_df['Attendance'].unique()"
   ]
  },
  {
   "cell_type": "code",
   "execution_count": 46,
   "id": "88e080aa",
   "metadata": {},
   "outputs": [],
   "source": [
    "worldcups_df['Attendance'] = pd.to_numeric(worldcups_df['Attendance'])"
   ]
  },
  {
   "cell_type": "code",
   "execution_count": 47,
   "id": "1884580a",
   "metadata": {},
   "outputs": [
    {
     "data": {
      "text/plain": [
       "Year              0\n",
       "Country           0\n",
       "Winner            0\n",
       "Runners-Up        0\n",
       "Third             0\n",
       "Fourth            0\n",
       "GoalsScored       0\n",
       "QualifiedTeams    0\n",
       "MatchesPlayed     0\n",
       "Attendance        0\n",
       "dtype: int64"
      ]
     },
     "execution_count": 47,
     "metadata": {},
     "output_type": "execute_result"
    }
   ],
   "source": [
    "worldcups_df.isnull().sum()"
   ]
  },
  {
   "cell_type": "code",
   "execution_count": 48,
   "id": "12dc8ec9",
   "metadata": {},
   "outputs": [
    {
     "data": {
      "text/plain": [
       "0"
      ]
     },
     "execution_count": 48,
     "metadata": {},
     "output_type": "execute_result"
    }
   ],
   "source": [
    "worldcups_df.duplicated().sum()"
   ]
  },
  {
   "cell_type": "code",
   "execution_count": 49,
   "id": "b31e22e6",
   "metadata": {},
   "outputs": [
    {
     "data": {
      "image/png": "[encoded data removed]",
      "text/plain": [
       "<Figure size 1296x576 with 1 Axes>"
      ]
     },
     "metadata": {},
     "output_type": "display_data"
    }
   ],
   "source": [
    "#Let's check for the ouliers in our data\n",
    "plt.figure(figsize=(18,8))\n",
    "sns.set(style='white')\n",
    "plt.subplot(2,2,1)\n",
    "boxplot1 = sns.boxplot(data=worldcups_df ,palette = \"Set2\", width=0.75, whis=2,)\n",
    "# boxplot.axes.set_title(\"BoxPlot\", fontsize=20, color='Green')\n"
   ]
  },
  {
   "cell_type": "code",
   "execution_count": 50,
   "id": "38671d3d",
   "metadata": {},
   "outputs": [
    {
     "data": {
      "text/plain": [
       "Brazil        5\n",
       "Italy         4\n",
       "Germany FR    3\n",
       "Uruguay       2\n",
       "Argentina     2\n",
       "England       1\n",
       "France        1\n",
       "Spain         1\n",
       "Germany       1\n",
       "Name: Winner, dtype: int64"
      ]
     },
     "execution_count": 50,
     "metadata": {},
     "output_type": "execute_result"
    }
   ],
   "source": [
    "worldcups_df['Winner'].value_counts()"
   ]
  },
  {
   "cell_type": "code",
   "execution_count": 51,
   "id": "d3a4eb9d",
   "metadata": {},
   "outputs": [
    {
     "data": {
      "application/vnd.plotly.v1+json": {
       "config": {
        "linkText": "Export to plot.ly",
        "plotlyServerURL": "https://plot.ly",
        "showLink": true
       },
       "data": [
        {
         "marker": {
          "color": "rgba(255, 153, 51, 0.6)",
          "line": {
           "color": "rgba(255, 153, 51, 1.0)",
           "width": 1
          }
         },
         "name": "Winner",
         "orientation": "v",
         "text": "",
         "type": "bar",
         "x": [
          "Brazil",
          "Italy",
          "Germany FR",
          "Uruguay",
          "Argentina",
          "England",
          "France",
          "Spain",
          "Germany"
         ],
         "y": [
          5,
          4,
          3,
          2,
          2,
          1,
          1,
          1,
          1
         ]
        }
       ],
       "layout": {
        "legend": {
         "bgcolor": "#F5F6F9",
         "font": {
          "color": "#4D5663"
         }
        },
        "paper_bgcolor": "#F5F6F9",
        "plot_bgcolor": "#F5F6F9",
        "template": {
         "data": {
          "bar": [
           {
            "error_x": {
             "color": "#2a3f5f"
            },
            "error_y": {
             "color": "#2a3f5f"
            },
            "marker": {
             "line": {
              "color": "#E5ECF6",
              "width": 0.5
             },
             "pattern": {
              "fillmode": "overlay",
              "size": 10,
              "solidity": 0.2
             }
            },
            "type": "bar"
           }
          ],
          "barpolar": [
           {
            "marker": {
             "line": {
              "color": "#E5ECF6",
              "width": 0.5
             },
             "pattern": {
              "fillmode": "overlay",
              "size": 10,
              "solidity": 0.2
             }
            },
            "type": "barpolar"
           }
          ],
          "carpet": [
           {
            "aaxis": {
             "endlinecolor": "#2a3f5f",
             "gridcolor": "white",
             "linecolor": "white",
             "minorgridcolor": "white",
             "startlinecolor": "#2a3f5f"
            },
            "baxis": {
             "endlinecolor": "#2a3f5f",
             "gridcolor": "white",
             "linecolor": "white",
             "minorgridcolor": "white",
             "startlinecolor": "#2a3f5f"
            },
            "type": "carpet"
           }
          ],
          "choropleth": [
           {
            "colorbar": {
             "outlinewidth": 0,
             "ticks": ""
            },
            "type": "choropleth"
           }
          ],
          "contour": [
           {
            "colorbar": {
             "outlinewidth": 0,
             "ticks": ""
            },
            "colorscale": [
             [
              0,
              "#0d0887"
             ],
             [
              0.1111111111111111,
              "#46039f"
             ],
             [
              0.2222222222222222,
              "#7201a8"
             ],
             [
              0.3333333333333333,
              "#9c179e"
             ],
             [
              0.4444444444444444,
              "#bd3786"
             ],
             [
              0.5555555555555556,
              "#d8576b"
             ],
             [
              0.6666666666666666,
              "#ed7953"
             ],
             [
              0.7777777777777778,
              "#fb9f3a"
             ],
             [
              0.8888888888888888,
              "#fdca26"
             ],
             [
              1,
              "#f0f921"
             ]
            ],
            "type": "contour"
           }
          ],
          "contourcarpet": [
           {
            "colorbar": {
             "outlinewidth": 0,
             "ticks": ""
            },
            "type": "contourcarpet"
           }
          ],
          "heatmap": [
           {
            "colorbar": {
             "outlinewidth": 0,
             "ticks": ""
            },
            "colorscale": [
             [
              0,
              "#0d0887"
             ],
             [
              0.1111111111111111,
              "#46039f"
             ],
             [
              0.2222222222222222,
              "#7201a8"
             ],
             [
              0.3333333333333333,
              "#9c179e"
             ],
             [
              0.4444444444444444,
              "#bd3786"
             ],
             [
              0.5555555555555556,
              "#d8576b"
             ],
             [
              0.6666666666666666,
              "#ed7953"
             ],
             [
              0.7777777777777778,
              "#fb9f3a"
             ],
             [
              0.8888888888888888,
              "#fdca26"
             ],
             [
              1,
              "#f0f921"
             ]
            ],
            "type": "heatmap"
           }
          ],
          "heatmapgl": [
           {
            "colorbar": {
             "outlinewidth": 0,
             "ticks": ""
            },
            "colorscale": [
             [
              0,
              "#0d0887"
             ],
             [
              0.1111111111111111,
              "#46039f"
             ],
             [
              0.2222222222222222,
              "#7201a8"
             ],
             [
              0.3333333333333333,
              "#9c179e"
             ],
             [
              0.4444444444444444,
              "#bd3786"
             ],
             [
              0.5555555555555556,
              "#d8576b"
             ],
             [
              0.6666666666666666,
              "#ed7953"
             ],
             [
              0.7777777777777778,
              "#fb9f3a"
             ],
             [
              0.8888888888888888,
              "#fdca26"
             ],
             [
              1,
              "#f0f921"
             ]
            ],
            "type": "heatmapgl"
           }
          ],
          "histogram": [
           {
            "marker": {
             "pattern": {
              "fillmode": "overlay",
              "size": 10,
              "solidity": 0.2
             }
            },
            "type": "histogram"
           }
          ],
          "histogram2d": [
           {
            "colorbar": {
             "outlinewidth": 0,
             "ticks": ""
            },
            "colorscale": [
             [
              0,
              "#0d0887"
             ],
             [
              0.1111111111111111,
              "#46039f"
             ],
             [
              0.2222222222222222,
              "#7201a8"
             ],
             [
              0.3333333333333333,
              "#9c179e"
             ],
             [
              0.4444444444444444,
              "#bd3786"
             ],
             [
              0.5555555555555556,
              "#d8576b"
             ],
             [
              0.6666666666666666,
              "#ed7953"
             ],
             [
              0.7777777777777778,
              "#fb9f3a"
             ],
             [
              0.8888888888888888,
              "#fdca26"
             ],
             [
              1,
              "#f0f921"
             ]
            ],
            "type": "histogram2d"
           }
          ],
          "histogram2dcontour": [
           {
            "colorbar": {
             "outlinewidth": 0,
             "ticks": ""
            },
            "colorscale": [
             [
              0,
              "#0d0887"
             ],
             [
              0.1111111111111111,
              "#46039f"
             ],
             [
              0.2222222222222222,
              "#7201a8"
             ],
             [
              0.3333333333333333,
              "#9c179e"
             ],
             [
              0.4444444444444444,
              "#bd3786"
             ],
             [
              0.5555555555555556,
              "#d8576b"
             ],
             [
              0.6666666666666666,
              "#ed7953"
             ],
             [
              0.7777777777777778,
              "#fb9f3a"
             ],
             [
              0.8888888888888888,
              "#fdca26"
             ],
             [
              1,
              "#f0f921"
             ]
            ],
            "type": "histogram2dcontour"
           }
          ],
          "mesh3d": [
           {
            "colorbar": {
             "outlinewidth": 0,
             "ticks": ""
            },
            "type": "mesh3d"
           }
          ],
          "parcoords": [
           {
            "line": {
             "colorbar": {
              "outlinewidth": 0,
              "ticks": ""
             }
            },
            "type": "parcoords"
           }
          ],
          "pie": [
           {
            "automargin": true,
            "type": "pie"
           }
          ],
          "scatter": [
           {
            "fillpattern": {
             "fillmode": "overlay",
             "size": 10,
             "solidity": 0.2
            },
            "type": "scatter"
           }
          ],
          "scatter3d": [
           {
            "line": {
             "colorbar": {
              "outlinewidth": 0,
              "ticks": ""
             }
            },
            "marker": {
             "colorbar": {
              "outlinewidth": 0,
              "ticks": ""
             }
            },
            "type": "scatter3d"
           }
          ],
          "scattercarpet": [
           {
            "marker": {
             "colorbar": {
              "outlinewidth": 0,
              "ticks": ""
             }
            },
            "type": "scattercarpet"
           }
          ],
          "scattergeo": [
           {
            "marker": {
             "colorbar": {
              "outlinewidth": 0,
              "ticks": ""
             }
            },
            "type": "scattergeo"
           }
          ],
          "scattergl": [
           {
            "marker": {
             "colorbar": {
              "outlinewidth": 0,
              "ticks": ""
             }
            },
            "type": "scattergl"
           }
          ],
          "scattermapbox": [
           {
            "marker": {
             "colorbar": {
              "outlinewidth": 0,
              "ticks": ""
             }
            },
            "type": "scattermapbox"
           }
          ],
          "scatterpolar": [
           {
            "marker": {
             "colorbar": {
              "outlinewidth": 0,
              "ticks": ""
             }
            },
            "type": "scatterpolar"
           }
          ],
          "scatterpolargl": [
           {
            "marker": {
             "colorbar": {
              "outlinewidth": 0,
              "ticks": ""
             }
            },
            "type": "scatterpolargl"
           }
          ],
          "scatterternary": [
           {
            "marker": {
             "colorbar": {
              "outlinewidth": 0,
              "ticks": ""
             }
            },
            "type": "scatterternary"
           }
          ],
          "surface": [
           {
            "colorbar": {
             "outlinewidth": 0,
             "ticks": ""
            },
            "colorscale": [
             [
              0,
              "#0d0887"
             ],
             [
              0.1111111111111111,
              "#46039f"
             ],
             [
              0.2222222222222222,
              "#7201a8"
             ],
             [
              0.3333333333333333,
              "#9c179e"
             ],
             [
              0.4444444444444444,
              "#bd3786"
             ],
             [
              0.5555555555555556,
              "#d8576b"
             ],
             [
              0.6666666666666666,
              "#ed7953"
             ],
             [
              0.7777777777777778,
              "#fb9f3a"
             ],
             [
              0.8888888888888888,
              "#fdca26"
             ],
             [
              1,
              "#f0f921"
             ]
            ],
            "type": "surface"
           }
          ],
          "table": [
           {
            "cells": {
             "fill": {
              "color": "#EBF0F8"
             },
             "line": {
              "color": "white"
             }
            },
            "header": {
             "fill": {
              "color": "#C8D4E3"
             },
             "line": {
              "color": "white"
             }
            },
            "type": "table"
           }
          ]
         },
         "layout": {
          "annotationdefaults": {
           "arrowcolor": "#2a3f5f",
           "arrowhead": 0,
           "arrowwidth": 1
          },
          "autotypenumbers": "strict",
          "coloraxis": {
           "colorbar": {
            "outlinewidth": 0,
            "ticks": ""
           }
          },
          "colorscale": {
           "diverging": [
            [
             0,
             "#8e0152"
            ],
            [
             0.1,
             "#c51b7d"
            ],
            [
             0.2,
             "#de77ae"
            ],
            [
             0.3,
             "#f1b6da"
            ],
            [
             0.4,
             "#fde0ef"
            ],
            [
             0.5,
             "#f7f7f7"
            ],
            [
             0.6,
             "#e6f5d0"
            ],
            [
             0.7,
             "#b8e186"
            ],
            [
             0.8,
             "#7fbc41"
            ],
            [
             0.9,
             "#4d9221"
            ],
            [
             1,
             "#276419"
            ]
           ],
           "sequential": [
            [
             0,
             "#0d0887"
            ],
            [
             0.1111111111111111,
             "#46039f"
            ],
            [
             0.2222222222222222,
             "#7201a8"
            ],
            [
             0.3333333333333333,
             "#9c179e"
            ],
            [
             0.4444444444444444,
             "#bd3786"
            ],
            [
             0.5555555555555556,
             "#d8576b"
            ],
            [
             0.6666666666666666,
             "#ed7953"
            ],
            [
             0.7777777777777778,
             "#fb9f3a"
            ],
            [
             0.8888888888888888,
             "#fdca26"
            ],
            [
             1,
             "#f0f921"
            ]
           ],
           "sequentialminus": [
            [
             0,
             "#0d0887"
            ],
            [
             0.1111111111111111,
             "#46039f"
            ],
            [
             0.2222222222222222,
             "#7201a8"
            ],
            [
             0.3333333333333333,
             "#9c179e"
            ],
            [
             0.4444444444444444,
             "#bd3786"
            ],
            [
             0.5555555555555556,
             "#d8576b"
            ],
            [
             0.6666666666666666,
             "#ed7953"
            ],
            [
             0.7777777777777778,
             "#fb9f3a"
            ],
            [
             0.8888888888888888,
             "#fdca26"
            ],
            [
             1,
             "#f0f921"
            ]
           ]
          },
          "colorway": [
           "#636efa",
           "#EF553B",
           "#00cc96",
           "#ab63fa",
           "#FFA15A",
           "#19d3f3",
           "#FF6692",
           "#B6E880",
           "#FF97FF",
           "#FECB52"
          ],
          "font": {
           "color": "#2a3f5f"
          },
          "geo": {
           "bgcolor": "white",
           "lakecolor": "white",
           "landcolor": "#E5ECF6",
           "showlakes": true,
           "showland": true,
           "subunitcolor": "white"
          },
          "hoverlabel": {
           "align": "left"
          },
          "hovermode": "closest",
          "mapbox": {
           "style": "light"
          },
          "paper_bgcolor": "white",
          "plot_bgcolor": "#E5ECF6",
          "polar": {
           "angularaxis": {
            "gridcolor": "white",
            "linecolor": "white",
            "ticks": ""
           },
           "bgcolor": "#E5ECF6",
           "radialaxis": {
            "gridcolor": "white",
            "linecolor": "white",
            "ticks": ""
           }
          },
          "scene": {
           "xaxis": {
            "backgroundcolor": "#E5ECF6",
            "gridcolor": "white",
            "gridwidth": 2,
            "linecolor": "white",
            "showbackground": true,
            "ticks": "",
            "zerolinecolor": "white"
           },
           "yaxis": {
            "backgroundcolor": "#E5ECF6",
            "gridcolor": "white",
            "gridwidth": 2,
            "linecolor": "white",
            "showbackground": true,
            "ticks": "",
            "zerolinecolor": "white"
           },
           "zaxis": {
            "backgroundcolor": "#E5ECF6",
            "gridcolor": "white",
            "gridwidth": 2,
            "linecolor": "white",
            "showbackground": true,
            "ticks": "",
            "zerolinecolor": "white"
           }
          },
          "shapedefaults": {
           "line": {
            "color": "#2a3f5f"
           }
          },
          "ternary": {
           "aaxis": {
            "gridcolor": "white",
            "linecolor": "white",
            "ticks": ""
           },
           "baxis": {
            "gridcolor": "white",
            "linecolor": "white",
            "ticks": ""
           },
           "bgcolor": "#E5ECF6",
           "caxis": {
            "gridcolor": "white",
            "linecolor": "white",
            "ticks": ""
           }
          },
          "title": {
           "x": 0.05
          },
          "xaxis": {
           "automargin": true,
           "gridcolor": "white",
           "linecolor": "white",
           "ticks": "",
           "title": {
            "standoff": 15
           },
           "zerolinecolor": "white",
           "zerolinewidth": 2
          },
          "yaxis": {
           "automargin": true,
           "gridcolor": "white",
           "linecolor": "white",
           "ticks": "",
           "title": {
            "standoff": 15
           },
           "zerolinecolor": "white",
           "zerolinewidth": 2
          }
         }
        },
        "title": {
         "font": {
          "color": "#4D5663"
         }
        },
        "xaxis": {
         "gridcolor": "#E1E5ED",
         "showgrid": true,
         "tickfont": {
          "color": "#4D5663"
         },
         "title": {
          "font": {
           "color": "#4D5663"
          },
          "text": ""
         },
         "zerolinecolor": "#E1E5ED"
        },
        "yaxis": {
         "gridcolor": "#E1E5ED",
         "showgrid": true,
         "tickfont": {
          "color": "#4D5663"
         },
         "title": {
          "font": {
           "color": "#4D5663"
          },
          "text": ""
         },
         "zerolinecolor": "#E1E5ED"
        }
       }
      },
      "text/html": [
       "<div>                            <div id=\"b849ea9a-f9df-4d3d-8299-425b4c15379f\" class=\"plotly-graph-div\" style=\"height:525px; width:100%;\"></div>            <script type=\"text/javascript\">                require([\"plotly\"], function(Plotly) {                    window.PLOTLYENV=window.PLOTLYENV || {};\n",
       "                    window.PLOTLYENV.BASE_URL='https://plot.ly';                                    if (document.getElementById(\"b849ea9a-f9df-4d3d-8299-425b4c15379f\")) {                    Plotly.newPlot(                        \"b849ea9a-f9df-4d3d-8299-425b4c15379f\",                        [{\"marker\":{\"color\":\"rgba(255, 153, 51, 0.6)\",\"line\":{\"color\":\"rgba(255, 153, 51, 1.0)\",\"width\":1}},\"name\":\"Winner\",\"orientation\":\"v\",\"text\":\"\",\"x\":[\"Brazil\",\"Italy\",\"Germany FR\",\"Uruguay\",\"Argentina\",\"England\",\"France\",\"Spain\",\"Germany\"],\"y\":[5,4,3,2,2,1,1,1,1],\"type\":\"bar\"}],                        {\"legend\":{\"bgcolor\":\"#F5F6F9\",\"font\":{\"color\":\"#4D5663\"}},\"paper_bgcolor\":\"#F5F6F9\",\"plot_bgcolor\":\"#F5F6F9\",\"template\":{\"data\":{\"barpolar\":[{\"marker\":{\"line\":{\"color\":\"#E5ECF6\",\"width\":0.5},\"pattern\":{\"fillmode\":\"overlay\",\"size\":10,\"solidity\":0.2}},\"type\":\"barpolar\"}],\"bar\":[{\"error_x\":{\"color\":\"#2a3f5f\"},\"error_y\":{\"color\":\"#2a3f5f\"},\"marker\":{\"line\":{\"color\":\"#E5ECF6\",\"width\":0.5},\"pattern\":{\"fillmode\":\"overlay\",\"size\":10,\"solidity\":0.2}},\"type\":\"bar\"}],\"carpet\":[{\"aaxis\":{\"endlinecolor\":\"#2a3f5f\",\"gridcolor\":\"white\",\"linecolor\":\"white\",\"minorgridcolor\":\"white\",\"startlinecolor\":\"#2a3f5f\"},\"baxis\":{\"endlinecolor\":\"#2a3f5f\",\"gridcolor\":\"white\",\"linecolor\":\"white\",\"minorgridcolor\":\"white\",\"startlinecolor\":\"#2a3f5f\"},\"type\":\"carpet\"}],\"choropleth\":[{\"colorbar\":{\"outlinewidth\":0,\"ticks\":\"\"},\"type\":\"choropleth\"}],\"contourcarpet\":[{\"colorbar\":{\"outlinewidth\":0,\"ticks\":\"\"},\"type\":\"contourcarpet\"}],\"contour\":[{\"colorbar\":{\"outlinewidth\":0,\"ticks\":\"\"},\"colorscale\":[[0.0,\"#0d0887\"],[0.1111111111111111,\"#46039f\"],[0.2222222222222222,\"#7201a8\"],[0.3333333333333333,\"#9c179e\"],[0.4444444444444444,\"#bd3786\"],[0.5555555555555556,\"#d8576b\"],[0.6666666666666666,\"#ed7953\"],[0.7777777777777778,\"#fb9f3a\"],[0.8888888888888888,\"#fdca26\"],[1.0,\"#f0f921\"]],\"type\":\"contour\"}],\"heatmapgl\":[{\"colorbar\":{\"outlinewidth\":0,\"ticks\":\"\"},\"colorscale\":[[0.0,\"#0d0887\"],[0.1111111111111111,\"#46039f\"],[0.2222222222222222,\"#7201a8\"],[0.3333333333333333,\"#9c179e\"],[0.4444444444444444,\"#bd3786\"],[0.5555555555555556,\"#d8576b\"],[0.6666666666666666,\"#ed7953\"],[0.7777777777777778,\"#fb9f3a\"],[0.8888888888888888,\"#fdca26\"],[1.0,\"#f0f921\"]],\"type\":\"heatmapgl\"}],\"heatmap\":[{\"colorbar\":{\"outlinewidth\":0,\"ticks\":\"\"},\"colorscale\":[[0.0,\"#0d0887\"],[0.1111111111111111,\"#46039f\"],[0.2222222222222222,\"#7201a8\"],[0.3333333333333333,\"#9c179e\"],[0.4444444444444444,\"#bd3786\"],[0.5555555555555556,\"#d8576b\"],[0.6666666666666666,\"#ed7953\"],[0.7777777777777778,\"#fb9f3a\"],[0.8888888888888888,\"#fdca26\"],[1.0,\"#f0f921\"]],\"type\":\"heatmap\"}],\"histogram2dcontour\":[{\"colorbar\":{\"outlinewidth\":0,\"ticks\":\"\"},\"colorscale\":[[0.0,\"#0d0887\"],[0.1111111111111111,\"#46039f\"],[0.2222222222222222,\"#7201a8\"],[0.3333333333333333,\"#9c179e\"],[0.4444444444444444,\"#bd3786\"],[0.5555555555555556,\"#d8576b\"],[0.6666666666666666,\"#ed7953\"],[0.7777777777777778,\"#fb9f3a\"],[0.8888888888888888,\"#fdca26\"],[1.0,\"#f0f921\"]],\"type\":\"histogram2dcontour\"}],\"histogram2d\":[{\"colorbar\":{\"outlinewidth\":0,\"ticks\":\"\"},\"colorscale\":[[0.0,\"#0d0887\"],[0.1111111111111111,\"#46039f\"],[0.2222222222222222,\"#7201a8\"],[0.3333333333333333,\"#9c179e\"],[0.4444444444444444,\"#bd3786\"],[0.5555555555555556,\"#d8576b\"],[0.6666666666666666,\"#ed7953\"],[0.7777777777777778,\"#fb9f3a\"],[0.8888888888888888,\"#fdca26\"],[1.0,\"#f0f921\"]],\"type\":\"histogram2d\"}],\"histogram\":[{\"marker\":{\"pattern\":{\"fillmode\":\"overlay\",\"size\":10,\"solidity\":0.2}},\"type\":\"histogram\"}],\"mesh3d\":[{\"colorbar\":{\"outlinewidth\":0,\"ticks\":\"\"},\"type\":\"mesh3d\"}],\"parcoords\":[{\"line\":{\"colorbar\":{\"outlinewidth\":0,\"ticks\":\"\"}},\"type\":\"parcoords\"}],\"pie\":[{\"automargin\":true,\"type\":\"pie\"}],\"scatter3d\":[{\"line\":{\"colorbar\":{\"outlinewidth\":0,\"ticks\":\"\"}},\"marker\":{\"colorbar\":{\"outlinewidth\":0,\"ticks\":\"\"}},\"type\":\"scatter3d\"}],\"scattercarpet\":[{\"marker\":{\"colorbar\":{\"outlinewidth\":0,\"ticks\":\"\"}},\"type\":\"scattercarpet\"}],\"scattergeo\":[{\"marker\":{\"colorbar\":{\"outlinewidth\":0,\"ticks\":\"\"}},\"type\":\"scattergeo\"}],\"scattergl\":[{\"marker\":{\"colorbar\":{\"outlinewidth\":0,\"ticks\":\"\"}},\"type\":\"scattergl\"}],\"scattermapbox\":[{\"marker\":{\"colorbar\":{\"outlinewidth\":0,\"ticks\":\"\"}},\"type\":\"scattermapbox\"}],\"scatterpolargl\":[{\"marker\":{\"colorbar\":{\"outlinewidth\":0,\"ticks\":\"\"}},\"type\":\"scatterpolargl\"}],\"scatterpolar\":[{\"marker\":{\"colorbar\":{\"outlinewidth\":0,\"ticks\":\"\"}},\"type\":\"scatterpolar\"}],\"scatter\":[{\"fillpattern\":{\"fillmode\":\"overlay\",\"size\":10,\"solidity\":0.2},\"type\":\"scatter\"}],\"scatterternary\":[{\"marker\":{\"colorbar\":{\"outlinewidth\":0,\"ticks\":\"\"}},\"type\":\"scatterternary\"}],\"surface\":[{\"colorbar\":{\"outlinewidth\":0,\"ticks\":\"\"},\"colorscale\":[[0.0,\"#0d0887\"],[0.1111111111111111,\"#46039f\"],[0.2222222222222222,\"#7201a8\"],[0.3333333333333333,\"#9c179e\"],[0.4444444444444444,\"#bd3786\"],[0.5555555555555556,\"#d8576b\"],[0.6666666666666666,\"#ed7953\"],[0.7777777777777778,\"#fb9f3a\"],[0.8888888888888888,\"#fdca26\"],[1.0,\"#f0f921\"]],\"type\":\"surface\"}],\"table\":[{\"cells\":{\"fill\":{\"color\":\"#EBF0F8\"},\"line\":{\"color\":\"white\"}},\"header\":{\"fill\":{\"color\":\"#C8D4E3\"},\"line\":{\"color\":\"white\"}},\"type\":\"table\"}]},\"layout\":{\"annotationdefaults\":{\"arrowcolor\":\"#2a3f5f\",\"arrowhead\":0,\"arrowwidth\":1},\"autotypenumbers\":\"strict\",\"coloraxis\":{\"colorbar\":{\"outlinewidth\":0,\"ticks\":\"\"}},\"colorscale\":{\"diverging\":[[0,\"#8e0152\"],[0.1,\"#c51b7d\"],[0.2,\"#de77ae\"],[0.3,\"#f1b6da\"],[0.4,\"#fde0ef\"],[0.5,\"#f7f7f7\"],[0.6,\"#e6f5d0\"],[0.7,\"#b8e186\"],[0.8,\"#7fbc41\"],[0.9,\"#4d9221\"],[1,\"#276419\"]],\"sequential\":[[0.0,\"#0d0887\"],[0.1111111111111111,\"#46039f\"],[0.2222222222222222,\"#7201a8\"],[0.3333333333333333,\"#9c179e\"],[0.4444444444444444,\"#bd3786\"],[0.5555555555555556,\"#d8576b\"],[0.6666666666666666,\"#ed7953\"],[0.7777777777777778,\"#fb9f3a\"],[0.8888888888888888,\"#fdca26\"],[1.0,\"#f0f921\"]],\"sequentialminus\":[[0.0,\"#0d0887\"],[0.1111111111111111,\"#46039f\"],[0.2222222222222222,\"#7201a8\"],[0.3333333333333333,\"#9c179e\"],[0.4444444444444444,\"#bd3786\"],[0.5555555555555556,\"#d8576b\"],[0.6666666666666666,\"#ed7953\"],[0.7777777777777778,\"#fb9f3a\"],[0.8888888888888888,\"#fdca26\"],[1.0,\"#f0f921\"]]},\"colorway\":[\"#636efa\",\"#EF553B\",\"#00cc96\",\"#ab63fa\",\"#FFA15A\",\"#19d3f3\",\"#FF6692\",\"#B6E880\",\"#FF97FF\",\"#FECB52\"],\"font\":{\"color\":\"#2a3f5f\"},\"geo\":{\"bgcolor\":\"white\",\"lakecolor\":\"white\",\"landcolor\":\"#E5ECF6\",\"showlakes\":true,\"showland\":true,\"subunitcolor\":\"white\"},\"hoverlabel\":{\"align\":\"left\"},\"hovermode\":\"closest\",\"mapbox\":{\"style\":\"light\"},\"paper_bgcolor\":\"white\",\"plot_bgcolor\":\"#E5ECF6\",\"polar\":{\"angularaxis\":{\"gridcolor\":\"white\",\"linecolor\":\"white\",\"ticks\":\"\"},\"bgcolor\":\"#E5ECF6\",\"radialaxis\":{\"gridcolor\":\"white\",\"linecolor\":\"white\",\"ticks\":\"\"}},\"scene\":{\"xaxis\":{\"backgroundcolor\":\"#E5ECF6\",\"gridcolor\":\"white\",\"gridwidth\":2,\"linecolor\":\"white\",\"showbackground\":true,\"ticks\":\"\",\"zerolinecolor\":\"white\"},\"yaxis\":{\"backgroundcolor\":\"#E5ECF6\",\"gridcolor\":\"white\",\"gridwidth\":2,\"linecolor\":\"white\",\"showbackground\":true,\"ticks\":\"\",\"zerolinecolor\":\"white\"},\"zaxis\":{\"backgroundcolor\":\"#E5ECF6\",\"gridcolor\":\"white\",\"gridwidth\":2,\"linecolor\":\"white\",\"showbackground\":true,\"ticks\":\"\",\"zerolinecolor\":\"white\"}},\"shapedefaults\":{\"line\":{\"color\":\"#2a3f5f\"}},\"ternary\":{\"aaxis\":{\"gridcolor\":\"white\",\"linecolor\":\"white\",\"ticks\":\"\"},\"baxis\":{\"gridcolor\":\"white\",\"linecolor\":\"white\",\"ticks\":\"\"},\"bgcolor\":\"#E5ECF6\",\"caxis\":{\"gridcolor\":\"white\",\"linecolor\":\"white\",\"ticks\":\"\"}},\"title\":{\"x\":0.05},\"xaxis\":{\"automargin\":true,\"gridcolor\":\"white\",\"linecolor\":\"white\",\"ticks\":\"\",\"title\":{\"standoff\":15},\"zerolinecolor\":\"white\",\"zerolinewidth\":2},\"yaxis\":{\"automargin\":true,\"gridcolor\":\"white\",\"linecolor\":\"white\",\"ticks\":\"\",\"title\":{\"standoff\":15},\"zerolinecolor\":\"white\",\"zerolinewidth\":2}}},\"title\":{\"font\":{\"color\":\"#4D5663\"}},\"xaxis\":{\"gridcolor\":\"#E1E5ED\",\"showgrid\":true,\"tickfont\":{\"color\":\"#4D5663\"},\"title\":{\"font\":{\"color\":\"#4D5663\"},\"text\":\"\"},\"zerolinecolor\":\"#E1E5ED\"},\"yaxis\":{\"gridcolor\":\"#E1E5ED\",\"showgrid\":true,\"tickfont\":{\"color\":\"#4D5663\"},\"title\":{\"font\":{\"color\":\"#4D5663\"},\"text\":\"\"},\"zerolinecolor\":\"#E1E5ED\"}},                        {\"showLink\": true, \"linkText\": \"Export to plot.ly\", \"plotlyServerURL\": \"https://plot.ly\", \"responsive\": true}                    ).then(function(){\n",
       "                            \n",
       "var gd = document.getElementById('b849ea9a-f9df-4d3d-8299-425b4c15379f');\n",
       "var x = new MutationObserver(function (mutations, observer) {{\n",
       "        var display = window.getComputedStyle(gd).display;\n",
       "        if (!display || display === 'none') {{\n",
       "            console.log([gd, 'removed!']);\n",
       "            Plotly.purge(gd);\n",
       "            observer.disconnect();\n",
       "        }}\n",
       "}});\n",
       "\n",
       "// Listen for the removal of the full notebook cells\n",
       "var notebookContainer = gd.closest('#notebook-container');\n",
       "if (notebookContainer) {{\n",
       "    x.observe(notebookContainer, {childList: true});\n",
       "}}\n",
       "\n",
       "// Listen for the clearing of the current output cell\n",
       "var outputEl = gd.closest('.output');\n",
       "if (outputEl) {{\n",
       "    x.observe(outputEl, {childList: true});\n",
       "}}\n",
       "\n",
       "                        })                };                });            </script>        </div>"
      ]
     },
     "metadata": {},
     "output_type": "display_data"
    }
   ],
   "source": [
    "\n",
    "winner = worldcups_df['Winner'].value_counts().iplot(kind='bar')\n",
    "winner"
   ]
  },
  {
   "cell_type": "code",
   "execution_count": 52,
   "id": "11d7af18",
   "metadata": {},
   "outputs": [],
   "source": [
    "#No of goals per country\n",
    "w_Df = worldcups_df[['Country','GoalsScored']]"
   ]
  },
  {
   "cell_type": "code",
   "execution_count": 53,
   "id": "a92b14c8",
   "metadata": {},
   "outputs": [
    {
     "data": {
      "text/plain": [
       "Country       GoalsScored\n",
       "Argentina     102            1\n",
       "Brazil        88             1\n",
       "              171            1\n",
       "Chile         89             1\n",
       "England       89             1\n",
       "France        84             1\n",
       "              171            1\n",
       "Germany       97             1\n",
       "              147            1\n",
       "Italy         70             1\n",
       "              115            1\n",
       "Korea/Japan   161            1\n",
       "Mexico        95             1\n",
       "              132            1\n",
       "South Africa  145            1\n",
       "Spain         146            1\n",
       "Sweden        126            1\n",
       "Switzerland   140            1\n",
       "USA           141            1\n",
       "Uruguay       70             1\n",
       "dtype: int64"
      ]
     },
     "execution_count": 53,
     "metadata": {},
     "output_type": "execute_result"
    }
   ],
   "source": [
    "w_Df.value_counts(ascending=True).sort_values()"
   ]
  },
  {
   "cell_type": "code",
   "execution_count": 54,
   "id": "59af71c9",
   "metadata": {},
   "outputs": [],
   "source": [
    "#per years attendence the winner and Goalscored\n",
    "ya_df = worldcups_df[['Year','Attendance','Winner','GoalsScored']].sort_values(by='Attendance')"
   ]
  },
  {
   "cell_type": "code",
   "execution_count": 55,
   "id": "fac51152",
   "metadata": {},
   "outputs": [
    {
     "data": {
      "text/html": [
       "<div>\n",
       "<style scoped>\n",
       "    .dataframe tbody tr th:only-of-type {\n",
       "        vertical-align: middle;\n",
       "    }\n",
       "\n",
       "    .dataframe tbody tr th {\n",
       "        vertical-align: top;\n",
       "    }\n",
       "\n",
       "    .dataframe thead th {\n",
       "        text-align: right;\n",
       "    }\n",
       "</style>\n",
       "<table border=\"1\" class=\"dataframe\">\n",
       "  <thead>\n",
       "    <tr style=\"text-align: right;\">\n",
       "      <th></th>\n",
       "      <th>Attendance</th>\n",
       "      <th>Winner</th>\n",
       "      <th>GoalsScored</th>\n",
       "    </tr>\n",
       "    <tr>\n",
       "      <th>Year</th>\n",
       "      <th></th>\n",
       "      <th></th>\n",
       "      <th></th>\n",
       "    </tr>\n",
       "  </thead>\n",
       "  <tbody>\n",
       "    <tr>\n",
       "      <th>1934</th>\n",
       "      <td>363000</td>\n",
       "      <td>Italy</td>\n",
       "      <td>70</td>\n",
       "    </tr>\n",
       "    <tr>\n",
       "      <th>1938</th>\n",
       "      <td>375700</td>\n",
       "      <td>Italy</td>\n",
       "      <td>84</td>\n",
       "    </tr>\n",
       "    <tr>\n",
       "      <th>1930</th>\n",
       "      <td>590549</td>\n",
       "      <td>Uruguay</td>\n",
       "      <td>70</td>\n",
       "    </tr>\n",
       "    <tr>\n",
       "      <th>1954</th>\n",
       "      <td>768607</td>\n",
       "      <td>Germany FR</td>\n",
       "      <td>140</td>\n",
       "    </tr>\n",
       "    <tr>\n",
       "      <th>1958</th>\n",
       "      <td>819810</td>\n",
       "      <td>Brazil</td>\n",
       "      <td>126</td>\n",
       "    </tr>\n",
       "    <tr>\n",
       "      <th>1962</th>\n",
       "      <td>893172</td>\n",
       "      <td>Brazil</td>\n",
       "      <td>89</td>\n",
       "    </tr>\n",
       "    <tr>\n",
       "      <th>1950</th>\n",
       "      <td>1045246</td>\n",
       "      <td>Uruguay</td>\n",
       "      <td>88</td>\n",
       "    </tr>\n",
       "    <tr>\n",
       "      <th>1978</th>\n",
       "      <td>1545791</td>\n",
       "      <td>Argentina</td>\n",
       "      <td>102</td>\n",
       "    </tr>\n",
       "    <tr>\n",
       "      <th>1966</th>\n",
       "      <td>1563135</td>\n",
       "      <td>England</td>\n",
       "      <td>89</td>\n",
       "    </tr>\n",
       "    <tr>\n",
       "      <th>1970</th>\n",
       "      <td>1603975</td>\n",
       "      <td>Brazil</td>\n",
       "      <td>95</td>\n",
       "    </tr>\n",
       "    <tr>\n",
       "      <th>1974</th>\n",
       "      <td>1865753</td>\n",
       "      <td>Germany FR</td>\n",
       "      <td>97</td>\n",
       "    </tr>\n",
       "    <tr>\n",
       "      <th>1982</th>\n",
       "      <td>2109723</td>\n",
       "      <td>Italy</td>\n",
       "      <td>146</td>\n",
       "    </tr>\n",
       "    <tr>\n",
       "      <th>1986</th>\n",
       "      <td>2394031</td>\n",
       "      <td>Argentina</td>\n",
       "      <td>132</td>\n",
       "    </tr>\n",
       "    <tr>\n",
       "      <th>1990</th>\n",
       "      <td>2516215</td>\n",
       "      <td>Germany FR</td>\n",
       "      <td>115</td>\n",
       "    </tr>\n",
       "    <tr>\n",
       "      <th>2002</th>\n",
       "      <td>2705197</td>\n",
       "      <td>Brazil</td>\n",
       "      <td>161</td>\n",
       "    </tr>\n",
       "    <tr>\n",
       "      <th>1998</th>\n",
       "      <td>2785100</td>\n",
       "      <td>France</td>\n",
       "      <td>171</td>\n",
       "    </tr>\n",
       "    <tr>\n",
       "      <th>2010</th>\n",
       "      <td>3178856</td>\n",
       "      <td>Spain</td>\n",
       "      <td>145</td>\n",
       "    </tr>\n",
       "    <tr>\n",
       "      <th>2006</th>\n",
       "      <td>3359439</td>\n",
       "      <td>Italy</td>\n",
       "      <td>147</td>\n",
       "    </tr>\n",
       "    <tr>\n",
       "      <th>2014</th>\n",
       "      <td>3386810</td>\n",
       "      <td>Germany</td>\n",
       "      <td>171</td>\n",
       "    </tr>\n",
       "    <tr>\n",
       "      <th>1994</th>\n",
       "      <td>3587538</td>\n",
       "      <td>Brazil</td>\n",
       "      <td>141</td>\n",
       "    </tr>\n",
       "  </tbody>\n",
       "</table>\n",
       "</div>"
      ],
      "text/plain": [
       "      Attendance      Winner  GoalsScored\n",
       "Year                                     \n",
       "1934      363000       Italy           70\n",
       "1938      375700       Italy           84\n",
       "1930      590549     Uruguay           70\n",
       "1954      768607  Germany FR          140\n",
       "1958      819810      Brazil          126\n",
       "1962      893172      Brazil           89\n",
       "1950     1045246     Uruguay           88\n",
       "1978     1545791   Argentina          102\n",
       "1966     1563135     England           89\n",
       "1970     1603975      Brazil           95\n",
       "1974     1865753  Germany FR           97\n",
       "1982     2109723       Italy          146\n",
       "1986     2394031   Argentina          132\n",
       "1990     2516215  Germany FR          115\n",
       "2002     2705197      Brazil          161\n",
       "1998     2785100      France          171\n",
       "2010     3178856       Spain          145\n",
       "2006     3359439       Italy          147\n",
       "2014     3386810     Germany          171\n",
       "1994     3587538      Brazil          141"
      ]
     },
     "execution_count": 55,
     "metadata": {},
     "output_type": "execute_result"
    }
   ],
   "source": [
    "ya_df.set_index(keys='Year')"
   ]
  },
  {
   "cell_type": "code",
   "execution_count": 56,
   "id": "4eff3b54",
   "metadata": {},
   "outputs": [],
   "source": [
    "#Total Matches played per year\n",
    "ym_df = worldcups_df[['Year','MatchesPlayed']]"
   ]
  },
  {
   "cell_type": "code",
   "execution_count": 57,
   "id": "34b6951e",
   "metadata": {},
   "outputs": [
    {
     "data": {
      "text/html": [
       "<div>\n",
       "<style scoped>\n",
       "    .dataframe tbody tr th:only-of-type {\n",
       "        vertical-align: middle;\n",
       "    }\n",
       "\n",
       "    .dataframe tbody tr th {\n",
       "        vertical-align: top;\n",
       "    }\n",
       "\n",
       "    .dataframe thead th {\n",
       "        text-align: right;\n",
       "    }\n",
       "</style>\n",
       "<table border=\"1\" class=\"dataframe\">\n",
       "  <thead>\n",
       "    <tr style=\"text-align: right;\">\n",
       "      <th></th>\n",
       "      <th>Year</th>\n",
       "      <th>MatchesPlayed</th>\n",
       "    </tr>\n",
       "  </thead>\n",
       "  <tbody>\n",
       "    <tr>\n",
       "      <th>0</th>\n",
       "      <td>1930</td>\n",
       "      <td>18</td>\n",
       "    </tr>\n",
       "    <tr>\n",
       "      <th>1</th>\n",
       "      <td>1934</td>\n",
       "      <td>17</td>\n",
       "    </tr>\n",
       "    <tr>\n",
       "      <th>2</th>\n",
       "      <td>1938</td>\n",
       "      <td>18</td>\n",
       "    </tr>\n",
       "    <tr>\n",
       "      <th>3</th>\n",
       "      <td>1950</td>\n",
       "      <td>22</td>\n",
       "    </tr>\n",
       "    <tr>\n",
       "      <th>4</th>\n",
       "      <td>1954</td>\n",
       "      <td>26</td>\n",
       "    </tr>\n",
       "  </tbody>\n",
       "</table>\n",
       "</div>"
      ],
      "text/plain": [
       "   Year  MatchesPlayed\n",
       "0  1930             18\n",
       "1  1934             17\n",
       "2  1938             18\n",
       "3  1950             22\n",
       "4  1954             26"
      ]
     },
     "execution_count": 57,
     "metadata": {},
     "output_type": "execute_result"
    }
   ],
   "source": [
    "ym_df.head()"
   ]
  },
  {
   "cell_type": "code",
   "execution_count": 58,
   "id": "edab68a2",
   "metadata": {},
   "outputs": [
    {
     "data": {
      "text/plain": [
       "<AxesSubplot:xlabel='Year', ylabel='MatchesPlayed'>"
      ]
     },
     "execution_count": 58,
     "metadata": {},
     "output_type": "execute_result"
    },
    {
     "data": {
      "image/png": "[encoded data removed]",
      "text/plain": [
       "<Figure size 720x576 with 1 Axes>"
      ]
     },
     "metadata": {},
     "output_type": "display_data"
    }
   ],
   "source": [
    "plt.figure(figsize=(10,8))\n",
    "sns.barplot(data=ym_df,x='Year',y='MatchesPlayed')"
   ]
  },
  {
   "cell_type": "code",
   "execution_count": 59,
   "id": "cb7eb535",
   "metadata": {},
   "outputs": [
    {
     "data": {
      "text/plain": [
       "173850.0"
      ]
     },
     "execution_count": 59,
     "metadata": {},
     "output_type": "execute_result"
    }
   ],
   "source": [
    "worldcup_matches_df['Attendance'].max()"
   ]
  },
  {
   "cell_type": "code",
   "execution_count": 60,
   "id": "db19eb04",
   "metadata": {},
   "outputs": [],
   "source": [
    "ma_df = worldcups_df[['Year','Attendance','MatchesPlayed']].sort_values('Attendance',ascending=False,ignore_index=True)"
   ]
  },
  {
   "cell_type": "code",
   "execution_count": 61,
   "id": "936b503d",
   "metadata": {},
   "outputs": [
    {
     "data": {
      "text/html": [
       "<div>\n",
       "<style scoped>\n",
       "    .dataframe tbody tr th:only-of-type {\n",
       "        vertical-align: middle;\n",
       "    }\n",
       "\n",
       "    .dataframe tbody tr th {\n",
       "        vertical-align: top;\n",
       "    }\n",
       "\n",
       "    .dataframe thead th {\n",
       "        text-align: right;\n",
       "    }\n",
       "</style>\n",
       "<table border=\"1\" class=\"dataframe\">\n",
       "  <thead>\n",
       "    <tr style=\"text-align: right;\">\n",
       "      <th></th>\n",
       "      <th>Year</th>\n",
       "      <th>Attendance</th>\n",
       "      <th>MatchesPlayed</th>\n",
       "    </tr>\n",
       "  </thead>\n",
       "  <tbody>\n",
       "    <tr>\n",
       "      <th>0</th>\n",
       "      <td>1994</td>\n",
       "      <td>3587538</td>\n",
       "      <td>52</td>\n",
       "    </tr>\n",
       "    <tr>\n",
       "      <th>1</th>\n",
       "      <td>2014</td>\n",
       "      <td>3386810</td>\n",
       "      <td>64</td>\n",
       "    </tr>\n",
       "    <tr>\n",
       "      <th>2</th>\n",
       "      <td>2006</td>\n",
       "      <td>3359439</td>\n",
       "      <td>64</td>\n",
       "    </tr>\n",
       "    <tr>\n",
       "      <th>3</th>\n",
       "      <td>2010</td>\n",
       "      <td>3178856</td>\n",
       "      <td>64</td>\n",
       "    </tr>\n",
       "    <tr>\n",
       "      <th>4</th>\n",
       "      <td>1998</td>\n",
       "      <td>2785100</td>\n",
       "      <td>64</td>\n",
       "    </tr>\n",
       "  </tbody>\n",
       "</table>\n",
       "</div>"
      ],
      "text/plain": [
       "   Year  Attendance  MatchesPlayed\n",
       "0  1994     3587538             52\n",
       "1  2014     3386810             64\n",
       "2  2006     3359439             64\n",
       "3  2010     3178856             64\n",
       "4  1998     2785100             64"
      ]
     },
     "execution_count": 61,
     "metadata": {},
     "output_type": "execute_result"
    }
   ],
   "source": [
    "ma_df.head()"
   ]
  },
  {
   "cell_type": "code",
   "execution_count": 62,
   "id": "8e75bfbf",
   "metadata": {},
   "outputs": [
    {
     "data": {
      "text/html": [
       "<div>\n",
       "<style scoped>\n",
       "    .dataframe tbody tr th:only-of-type {\n",
       "        vertical-align: middle;\n",
       "    }\n",
       "\n",
       "    .dataframe tbody tr th {\n",
       "        vertical-align: top;\n",
       "    }\n",
       "\n",
       "    .dataframe thead th {\n",
       "        text-align: right;\n",
       "    }\n",
       "</style>\n",
       "<table border=\"1\" class=\"dataframe\">\n",
       "  <thead>\n",
       "    <tr style=\"text-align: right;\">\n",
       "      <th></th>\n",
       "      <th>Year</th>\n",
       "      <th>Datetime</th>\n",
       "      <th>Stage</th>\n",
       "      <th>Stadium</th>\n",
       "      <th>City</th>\n",
       "      <th>Home Team Name</th>\n",
       "      <th>Home Team Goals</th>\n",
       "      <th>Away Team Goals</th>\n",
       "      <th>Away Team Name</th>\n",
       "      <th>Win conditions</th>\n",
       "      <th>Attendance</th>\n",
       "      <th>Half-time Home Goals</th>\n",
       "      <th>Half-time Away Goals</th>\n",
       "      <th>Referee</th>\n",
       "      <th>Assistant 1</th>\n",
       "      <th>Assistant 2</th>\n",
       "      <th>RoundID</th>\n",
       "      <th>MatchID</th>\n",
       "      <th>Home Team Initials</th>\n",
       "      <th>Away Team Initials</th>\n",
       "    </tr>\n",
       "  </thead>\n",
       "  <tbody>\n",
       "    <tr>\n",
       "      <th>0</th>\n",
       "      <td>1930.0</td>\n",
       "      <td>1930-07-13 15:00:00</td>\n",
       "      <td>Group 1</td>\n",
       "      <td>Pocitos</td>\n",
       "      <td>Montevideo</td>\n",
       "      <td>France</td>\n",
       "      <td>4.0</td>\n",
       "      <td>1.0</td>\n",
       "      <td>Mexico</td>\n",
       "      <td></td>\n",
       "      <td>4444.0</td>\n",
       "      <td>3.0</td>\n",
       "      <td>0.0</td>\n",
       "      <td>LOMBARDI Domingo (URU)</td>\n",
       "      <td>CRISTOPHE Henry (BEL)</td>\n",
       "      <td>REGO Gilberto (BRA)</td>\n",
       "      <td>201.0</td>\n",
       "      <td>1096.0</td>\n",
       "      <td>FRA</td>\n",
       "      <td>MEX</td>\n",
       "    </tr>\n",
       "    <tr>\n",
       "      <th>1</th>\n",
       "      <td>1930.0</td>\n",
       "      <td>1930-07-13 15:00:00</td>\n",
       "      <td>Group 4</td>\n",
       "      <td>Parque Central</td>\n",
       "      <td>Montevideo</td>\n",
       "      <td>USA</td>\n",
       "      <td>3.0</td>\n",
       "      <td>0.0</td>\n",
       "      <td>Belgium</td>\n",
       "      <td></td>\n",
       "      <td>18346.0</td>\n",
       "      <td>2.0</td>\n",
       "      <td>0.0</td>\n",
       "      <td>MACIAS Jose (ARG)</td>\n",
       "      <td>MATEUCCI Francisco (URU)</td>\n",
       "      <td>WARNKEN Alberto (CHI)</td>\n",
       "      <td>201.0</td>\n",
       "      <td>1090.0</td>\n",
       "      <td>USA</td>\n",
       "      <td>BEL</td>\n",
       "    </tr>\n",
       "  </tbody>\n",
       "</table>\n",
       "</div>"
      ],
      "text/plain": [
       "     Year            Datetime    Stage         Stadium         City  \\\n",
       "0  1930.0 1930-07-13 15:00:00  Group 1         Pocitos  Montevideo    \n",
       "1  1930.0 1930-07-13 15:00:00  Group 4  Parque Central  Montevideo    \n",
       "\n",
       "  Home Team Name  Home Team Goals  Away Team Goals Away Team Name  \\\n",
       "0         France              4.0              1.0         Mexico   \n",
       "1            USA              3.0              0.0        Belgium   \n",
       "\n",
       "  Win conditions  Attendance  Half-time Home Goals  Half-time Away Goals  \\\n",
       "0                     4444.0                   3.0                   0.0   \n",
       "1                    18346.0                   2.0                   0.0   \n",
       "\n",
       "                  Referee               Assistant 1            Assistant 2  \\\n",
       "0  LOMBARDI Domingo (URU)     CRISTOPHE Henry (BEL)    REGO Gilberto (BRA)   \n",
       "1       MACIAS Jose (ARG)  MATEUCCI Francisco (URU)  WARNKEN Alberto (CHI)   \n",
       "\n",
       "   RoundID  MatchID Home Team Initials Away Team Initials  \n",
       "0    201.0   1096.0                FRA                MEX  \n",
       "1    201.0   1090.0                USA                BEL  "
      ]
     },
     "execution_count": 62,
     "metadata": {},
     "output_type": "execute_result"
    }
   ],
   "source": [
    "worldcup_matches_df.head(2)"
   ]
  },
  {
   "cell_type": "code",
   "execution_count": 63,
   "id": "26db2590",
   "metadata": {},
   "outputs": [
    {
     "data": {
      "text/html": [
       "<div>\n",
       "<style scoped>\n",
       "    .dataframe tbody tr th:only-of-type {\n",
       "        vertical-align: middle;\n",
       "    }\n",
       "\n",
       "    .dataframe tbody tr th {\n",
       "        vertical-align: top;\n",
       "    }\n",
       "\n",
       "    .dataframe thead th {\n",
       "        text-align: right;\n",
       "    }\n",
       "</style>\n",
       "<table border=\"1\" class=\"dataframe\">\n",
       "  <thead>\n",
       "    <tr style=\"text-align: right;\">\n",
       "      <th></th>\n",
       "      <th>Home Team Name</th>\n",
       "      <th>Home Team Goals</th>\n",
       "      <th>Away Team Name</th>\n",
       "      <th>Away Team Goals</th>\n",
       "    </tr>\n",
       "  </thead>\n",
       "  <tbody>\n",
       "    <tr>\n",
       "      <th>0</th>\n",
       "      <td>France</td>\n",
       "      <td>4.0</td>\n",
       "      <td>Mexico</td>\n",
       "      <td>1.0</td>\n",
       "    </tr>\n",
       "    <tr>\n",
       "      <th>1</th>\n",
       "      <td>USA</td>\n",
       "      <td>3.0</td>\n",
       "      <td>Belgium</td>\n",
       "      <td>0.0</td>\n",
       "    </tr>\n",
       "    <tr>\n",
       "      <th>2</th>\n",
       "      <td>Yugoslavia</td>\n",
       "      <td>2.0</td>\n",
       "      <td>Brazil</td>\n",
       "      <td>1.0</td>\n",
       "    </tr>\n",
       "    <tr>\n",
       "      <th>3</th>\n",
       "      <td>Romania</td>\n",
       "      <td>3.0</td>\n",
       "      <td>Peru</td>\n",
       "      <td>1.0</td>\n",
       "    </tr>\n",
       "    <tr>\n",
       "      <th>4</th>\n",
       "      <td>Argentina</td>\n",
       "      <td>1.0</td>\n",
       "      <td>France</td>\n",
       "      <td>0.0</td>\n",
       "    </tr>\n",
       "    <tr>\n",
       "      <th>...</th>\n",
       "      <td>...</td>\n",
       "      <td>...</td>\n",
       "      <td>...</td>\n",
       "      <td>...</td>\n",
       "    </tr>\n",
       "    <tr>\n",
       "      <th>847</th>\n",
       "      <td>Netherlands</td>\n",
       "      <td>0.0</td>\n",
       "      <td>Costa Rica</td>\n",
       "      <td>0.0</td>\n",
       "    </tr>\n",
       "    <tr>\n",
       "      <th>848</th>\n",
       "      <td>Brazil</td>\n",
       "      <td>1.0</td>\n",
       "      <td>Germany</td>\n",
       "      <td>7.0</td>\n",
       "    </tr>\n",
       "    <tr>\n",
       "      <th>849</th>\n",
       "      <td>Netherlands</td>\n",
       "      <td>0.0</td>\n",
       "      <td>Argentina</td>\n",
       "      <td>0.0</td>\n",
       "    </tr>\n",
       "    <tr>\n",
       "      <th>850</th>\n",
       "      <td>Brazil</td>\n",
       "      <td>0.0</td>\n",
       "      <td>Netherlands</td>\n",
       "      <td>3.0</td>\n",
       "    </tr>\n",
       "    <tr>\n",
       "      <th>851</th>\n",
       "      <td>Germany</td>\n",
       "      <td>1.0</td>\n",
       "      <td>Argentina</td>\n",
       "      <td>0.0</td>\n",
       "    </tr>\n",
       "  </tbody>\n",
       "</table>\n",
       "<p>850 rows × 4 columns</p>\n",
       "</div>"
      ],
      "text/plain": [
       "    Home Team Name  Home Team Goals Away Team Name  Away Team Goals\n",
       "0           France              4.0         Mexico              1.0\n",
       "1              USA              3.0        Belgium              0.0\n",
       "2       Yugoslavia              2.0         Brazil              1.0\n",
       "3          Romania              3.0           Peru              1.0\n",
       "4        Argentina              1.0         France              0.0\n",
       "..             ...              ...            ...              ...\n",
       "847    Netherlands              0.0     Costa Rica              0.0\n",
       "848         Brazil              1.0        Germany              7.0\n",
       "849    Netherlands              0.0      Argentina              0.0\n",
       "850         Brazil              0.0    Netherlands              3.0\n",
       "851        Germany              1.0      Argentina              0.0\n",
       "\n",
       "[850 rows x 4 columns]"
      ]
     },
     "execution_count": 63,
     "metadata": {},
     "output_type": "execute_result"
    }
   ],
   "source": [
    "#Home team and Away team goals report\n",
    "worldcup_matches_df[['Home Team Name','Home Team Goals','Away Team Name','Away Team Goals']]"
   ]
  },
  {
   "cell_type": "markdown",
   "id": "627e22b6",
   "metadata": {},
   "source": [
    "# Summery:"
   ]
  },
  {
   "cell_type": "markdown",
   "id": "058e6f6c",
   "metadata": {},
   "source": [
    "## This dataset is football worldcup dataset.\n",
    "## I have performed some preprocessing datacleaning.\n",
    "## Then i have perform visualization."
   ]
  },
  {
   "cell_type": "code",
   "execution_count": null,
   "id": "8567534f",
   "metadata": {},
   "outputs": [],
   "source": []
  },
  {
   "cell_type": "code",
   "execution_count": null,
   "id": "f7e104ed",
   "metadata": {},
   "outputs": [],
   "source": []
  },
  {
   "cell_type": "code",
   "execution_count": null,
   "id": "03cbc130",
   "metadata": {},
   "outputs": [],
   "source": []
  },
  {
   "cell_type": "code",
   "execution_count": null,
   "id": "22030155",
   "metadata": {},
   "outputs": [],
   "source": []
  },
  {
   "cell_type": "code",
   "execution_count": null,
   "id": "e2f40313",
   "metadata": {},
   "outputs": [],
   "source": []
  },
  {
   "cell_type": "code",
   "execution_count": null,
   "id": "49a7a619",
   "metadata": {},
   "outputs": [],
   "source": []
  }
 ],
 "metadata": {
  "kernelspec": {
   "display_name": "Python 3 (ipykernel)",
   "language": "python",
   "name": "python3"
  },
  "language_info": {
   "codemirror_mode": {
    "name": "ipython",
    "version": 3
   },
   "file_extension": ".py",
   "mimetype": "text/x-python",
   "name": "python",
   "nbconvert_exporter": "python",
   "pygments_lexer": "ipython3",
   "version": "3.9.7"
  }
 },
 "nbformat": 4,
 "nbformat_minor": 5
}
